{
  "nbformat": 4,
  "nbformat_minor": 0,
  "metadata": {
    "colab": {
      "provenance": [],
      "gpuType": "T4"
    },
    "kernelspec": {
      "name": "python3",
      "display_name": "Python 3"
    },
    "language_info": {
      "name": "python"
    },
    "accelerator": "GPU",
    "widgets": {
      "application/vnd.jupyter.widget-state+json": {
        "34eb7a96bb914326946889f738da1328": {
          "model_module": "@jupyter-widgets/controls",
          "model_name": "HBoxModel",
          "model_module_version": "1.5.0",
          "state": {
            "_dom_classes": [],
            "_model_module": "@jupyter-widgets/controls",
            "_model_module_version": "1.5.0",
            "_model_name": "HBoxModel",
            "_view_count": null,
            "_view_module": "@jupyter-widgets/controls",
            "_view_module_version": "1.5.0",
            "_view_name": "HBoxView",
            "box_style": "",
            "children": [
              "IPY_MODEL_cc0393d38d9c4f6cbe1b1d85fbee7d7c",
              "IPY_MODEL_e45834f464894d4da2979fe944e6bd1d",
              "IPY_MODEL_1cd61228a82f4faebaf416392b2563fd"
            ],
            "layout": "IPY_MODEL_640d40d1d6c645ef87f9e13589cf0990"
          }
        },
        "cc0393d38d9c4f6cbe1b1d85fbee7d7c": {
          "model_module": "@jupyter-widgets/controls",
          "model_name": "HTMLModel",
          "model_module_version": "1.5.0",
          "state": {
            "_dom_classes": [],
            "_model_module": "@jupyter-widgets/controls",
            "_model_module_version": "1.5.0",
            "_model_name": "HTMLModel",
            "_view_count": null,
            "_view_module": "@jupyter-widgets/controls",
            "_view_module_version": "1.5.0",
            "_view_name": "HTMLView",
            "description": "",
            "description_tooltip": null,
            "layout": "IPY_MODEL_fa9f5380b40a40c29c539ebc3e62c023",
            "placeholder": "​",
            "style": "IPY_MODEL_00ffcd6d290e443ea2fc0215e565db44",
            "value": "model.safetensors: 100%"
          }
        },
        "e45834f464894d4da2979fe944e6bd1d": {
          "model_module": "@jupyter-widgets/controls",
          "model_name": "FloatProgressModel",
          "model_module_version": "1.5.0",
          "state": {
            "_dom_classes": [],
            "_model_module": "@jupyter-widgets/controls",
            "_model_module_version": "1.5.0",
            "_model_name": "FloatProgressModel",
            "_view_count": null,
            "_view_module": "@jupyter-widgets/controls",
            "_view_module_version": "1.5.0",
            "_view_name": "ProgressView",
            "bar_style": "success",
            "description": "",
            "description_tooltip": null,
            "layout": "IPY_MODEL_e7ddb70b59a844848e622e9516fb8b4e",
            "max": 263260784,
            "min": 0,
            "orientation": "horizontal",
            "style": "IPY_MODEL_87512cd14a2a43518a2dec4c5166b5b6",
            "value": 263260784
          }
        },
        "1cd61228a82f4faebaf416392b2563fd": {
          "model_module": "@jupyter-widgets/controls",
          "model_name": "HTMLModel",
          "model_module_version": "1.5.0",
          "state": {
            "_dom_classes": [],
            "_model_module": "@jupyter-widgets/controls",
            "_model_module_version": "1.5.0",
            "_model_name": "HTMLModel",
            "_view_count": null,
            "_view_module": "@jupyter-widgets/controls",
            "_view_module_version": "1.5.0",
            "_view_name": "HTMLView",
            "description": "",
            "description_tooltip": null,
            "layout": "IPY_MODEL_511e596d10b8444b84d1921b8c481a76",
            "placeholder": "​",
            "style": "IPY_MODEL_7bf21b2f600243f29848f2be7f5008f7",
            "value": " 263M/263M [00:01&lt;00:00, 244MB/s]"
          }
        },
        "640d40d1d6c645ef87f9e13589cf0990": {
          "model_module": "@jupyter-widgets/base",
          "model_name": "LayoutModel",
          "model_module_version": "1.2.0",
          "state": {
            "_model_module": "@jupyter-widgets/base",
            "_model_module_version": "1.2.0",
            "_model_name": "LayoutModel",
            "_view_count": null,
            "_view_module": "@jupyter-widgets/base",
            "_view_module_version": "1.2.0",
            "_view_name": "LayoutView",
            "align_content": null,
            "align_items": null,
            "align_self": null,
            "border": null,
            "bottom": null,
            "display": null,
            "flex": null,
            "flex_flow": null,
            "grid_area": null,
            "grid_auto_columns": null,
            "grid_auto_flow": null,
            "grid_auto_rows": null,
            "grid_column": null,
            "grid_gap": null,
            "grid_row": null,
            "grid_template_areas": null,
            "grid_template_columns": null,
            "grid_template_rows": null,
            "height": null,
            "justify_content": null,
            "justify_items": null,
            "left": null,
            "margin": null,
            "max_height": null,
            "max_width": null,
            "min_height": null,
            "min_width": null,
            "object_fit": null,
            "object_position": null,
            "order": null,
            "overflow": null,
            "overflow_x": null,
            "overflow_y": null,
            "padding": null,
            "right": null,
            "top": null,
            "visibility": null,
            "width": null
          }
        },
        "fa9f5380b40a40c29c539ebc3e62c023": {
          "model_module": "@jupyter-widgets/base",
          "model_name": "LayoutModel",
          "model_module_version": "1.2.0",
          "state": {
            "_model_module": "@jupyter-widgets/base",
            "_model_module_version": "1.2.0",
            "_model_name": "LayoutModel",
            "_view_count": null,
            "_view_module": "@jupyter-widgets/base",
            "_view_module_version": "1.2.0",
            "_view_name": "LayoutView",
            "align_content": null,
            "align_items": null,
            "align_self": null,
            "border": null,
            "bottom": null,
            "display": null,
            "flex": null,
            "flex_flow": null,
            "grid_area": null,
            "grid_auto_columns": null,
            "grid_auto_flow": null,
            "grid_auto_rows": null,
            "grid_column": null,
            "grid_gap": null,
            "grid_row": null,
            "grid_template_areas": null,
            "grid_template_columns": null,
            "grid_template_rows": null,
            "height": null,
            "justify_content": null,
            "justify_items": null,
            "left": null,
            "margin": null,
            "max_height": null,
            "max_width": null,
            "min_height": null,
            "min_width": null,
            "object_fit": null,
            "object_position": null,
            "order": null,
            "overflow": null,
            "overflow_x": null,
            "overflow_y": null,
            "padding": null,
            "right": null,
            "top": null,
            "visibility": null,
            "width": null
          }
        },
        "00ffcd6d290e443ea2fc0215e565db44": {
          "model_module": "@jupyter-widgets/controls",
          "model_name": "DescriptionStyleModel",
          "model_module_version": "1.5.0",
          "state": {
            "_model_module": "@jupyter-widgets/controls",
            "_model_module_version": "1.5.0",
            "_model_name": "DescriptionStyleModel",
            "_view_count": null,
            "_view_module": "@jupyter-widgets/base",
            "_view_module_version": "1.2.0",
            "_view_name": "StyleView",
            "description_width": ""
          }
        },
        "e7ddb70b59a844848e622e9516fb8b4e": {
          "model_module": "@jupyter-widgets/base",
          "model_name": "LayoutModel",
          "model_module_version": "1.2.0",
          "state": {
            "_model_module": "@jupyter-widgets/base",
            "_model_module_version": "1.2.0",
            "_model_name": "LayoutModel",
            "_view_count": null,
            "_view_module": "@jupyter-widgets/base",
            "_view_module_version": "1.2.0",
            "_view_name": "LayoutView",
            "align_content": null,
            "align_items": null,
            "align_self": null,
            "border": null,
            "bottom": null,
            "display": null,
            "flex": null,
            "flex_flow": null,
            "grid_area": null,
            "grid_auto_columns": null,
            "grid_auto_flow": null,
            "grid_auto_rows": null,
            "grid_column": null,
            "grid_gap": null,
            "grid_row": null,
            "grid_template_areas": null,
            "grid_template_columns": null,
            "grid_template_rows": null,
            "height": null,
            "justify_content": null,
            "justify_items": null,
            "left": null,
            "margin": null,
            "max_height": null,
            "max_width": null,
            "min_height": null,
            "min_width": null,
            "object_fit": null,
            "object_position": null,
            "order": null,
            "overflow": null,
            "overflow_x": null,
            "overflow_y": null,
            "padding": null,
            "right": null,
            "top": null,
            "visibility": null,
            "width": null
          }
        },
        "87512cd14a2a43518a2dec4c5166b5b6": {
          "model_module": "@jupyter-widgets/controls",
          "model_name": "ProgressStyleModel",
          "model_module_version": "1.5.0",
          "state": {
            "_model_module": "@jupyter-widgets/controls",
            "_model_module_version": "1.5.0",
            "_model_name": "ProgressStyleModel",
            "_view_count": null,
            "_view_module": "@jupyter-widgets/base",
            "_view_module_version": "1.2.0",
            "_view_name": "StyleView",
            "bar_color": null,
            "description_width": ""
          }
        },
        "511e596d10b8444b84d1921b8c481a76": {
          "model_module": "@jupyter-widgets/base",
          "model_name": "LayoutModel",
          "model_module_version": "1.2.0",
          "state": {
            "_model_module": "@jupyter-widgets/base",
            "_model_module_version": "1.2.0",
            "_model_name": "LayoutModel",
            "_view_count": null,
            "_view_module": "@jupyter-widgets/base",
            "_view_module_version": "1.2.0",
            "_view_name": "LayoutView",
            "align_content": null,
            "align_items": null,
            "align_self": null,
            "border": null,
            "bottom": null,
            "display": null,
            "flex": null,
            "flex_flow": null,
            "grid_area": null,
            "grid_auto_columns": null,
            "grid_auto_flow": null,
            "grid_auto_rows": null,
            "grid_column": null,
            "grid_gap": null,
            "grid_row": null,
            "grid_template_areas": null,
            "grid_template_columns": null,
            "grid_template_rows": null,
            "height": null,
            "justify_content": null,
            "justify_items": null,
            "left": null,
            "margin": null,
            "max_height": null,
            "max_width": null,
            "min_height": null,
            "min_width": null,
            "object_fit": null,
            "object_position": null,
            "order": null,
            "overflow": null,
            "overflow_x": null,
            "overflow_y": null,
            "padding": null,
            "right": null,
            "top": null,
            "visibility": null,
            "width": null
          }
        },
        "7bf21b2f600243f29848f2be7f5008f7": {
          "model_module": "@jupyter-widgets/controls",
          "model_name": "DescriptionStyleModel",
          "model_module_version": "1.5.0",
          "state": {
            "_model_module": "@jupyter-widgets/controls",
            "_model_module_version": "1.5.0",
            "_model_name": "DescriptionStyleModel",
            "_view_count": null,
            "_view_module": "@jupyter-widgets/base",
            "_view_module_version": "1.2.0",
            "_view_name": "StyleView",
            "description_width": ""
          }
        }
      }
    }
  },
  "cells": [
    {
      "cell_type": "markdown",
      "source": [
        "---\n",
        "\n",
        "#Human versus AI Distinguishment\n",
        "\n",
        "##Group 2 - AAI-590: Capstone Project\n",
        "\n",
        "##Jason Raimondi, Shane Schipper, and Jeremy Cryer\n",
        "\n",
        "##2024-04-15\n",
        "\n",
        "###Pretrained_Model.ipynb\n",
        "\n",
        "###Data Source:\n",
        "\n",
        "Kaggle - AI Vs Human Text\n",
        "\n",
        "https://www.kaggle.com/datasets/shanegerami/ai-vs-human-text\n",
        "\n",
        "###GitHub Repository:\n",
        "\n",
        "https://github.com/jeraimondi/aai-capstone-ai-content-detector\n",
        "\n",
        "---"
      ],
      "metadata": {
        "id": "GlT7BnQMUIAG"
      }
    },
    {
      "cell_type": "markdown",
      "source": [
        "# Environment Prep"
      ],
      "metadata": {
        "id": "_JPS642nx2MJ"
      }
    },
    {
      "cell_type": "markdown",
      "source": [
        "## Install Required Packages"
      ],
      "metadata": {
        "id": "p2g1wTfFxkZt"
      }
    },
    {
      "cell_type": "code",
      "source": [
        "!pip install transformers\n",
        "!pip install torcheval"
      ],
      "metadata": {
        "colab": {
          "base_uri": "https://localhost:8080/"
        },
        "id": "VVCUElsNxtWv",
        "outputId": "b2239892-30b8-46b4-b831-27ce69c1f2f2"
      },
      "execution_count": 1,
      "outputs": [
        {
          "output_type": "stream",
          "name": "stdout",
          "text": [
            "Requirement already satisfied: transformers in /usr/local/lib/python3.10/dist-packages (4.38.2)\n",
            "Requirement already satisfied: filelock in /usr/local/lib/python3.10/dist-packages (from transformers) (3.13.1)\n",
            "Requirement already satisfied: huggingface-hub<1.0,>=0.19.3 in /usr/local/lib/python3.10/dist-packages (from transformers) (0.20.3)\n",
            "Requirement already satisfied: numpy>=1.17 in /usr/local/lib/python3.10/dist-packages (from transformers) (1.25.2)\n",
            "Requirement already satisfied: packaging>=20.0 in /usr/local/lib/python3.10/dist-packages (from transformers) (24.0)\n",
            "Requirement already satisfied: pyyaml>=5.1 in /usr/local/lib/python3.10/dist-packages (from transformers) (6.0.1)\n",
            "Requirement already satisfied: regex!=2019.12.17 in /usr/local/lib/python3.10/dist-packages (from transformers) (2023.12.25)\n",
            "Requirement already satisfied: requests in /usr/local/lib/python3.10/dist-packages (from transformers) (2.31.0)\n",
            "Requirement already satisfied: tokenizers<0.19,>=0.14 in /usr/local/lib/python3.10/dist-packages (from transformers) (0.15.2)\n",
            "Requirement already satisfied: safetensors>=0.4.1 in /usr/local/lib/python3.10/dist-packages (from transformers) (0.4.2)\n",
            "Requirement already satisfied: tqdm>=4.27 in /usr/local/lib/python3.10/dist-packages (from transformers) (4.66.2)\n",
            "Requirement already satisfied: fsspec>=2023.5.0 in /usr/local/lib/python3.10/dist-packages (from huggingface-hub<1.0,>=0.19.3->transformers) (2023.6.0)\n",
            "Requirement already satisfied: typing-extensions>=3.7.4.3 in /usr/local/lib/python3.10/dist-packages (from huggingface-hub<1.0,>=0.19.3->transformers) (4.10.0)\n",
            "Requirement already satisfied: charset-normalizer<4,>=2 in /usr/local/lib/python3.10/dist-packages (from requests->transformers) (3.3.2)\n",
            "Requirement already satisfied: idna<4,>=2.5 in /usr/local/lib/python3.10/dist-packages (from requests->transformers) (3.6)\n",
            "Requirement already satisfied: urllib3<3,>=1.21.1 in /usr/local/lib/python3.10/dist-packages (from requests->transformers) (2.0.7)\n",
            "Requirement already satisfied: certifi>=2017.4.17 in /usr/local/lib/python3.10/dist-packages (from requests->transformers) (2024.2.2)\n",
            "Requirement already satisfied: torcheval in /usr/local/lib/python3.10/dist-packages (0.0.7)\n",
            "Requirement already satisfied: typing-extensions in /usr/local/lib/python3.10/dist-packages (from torcheval) (4.10.0)\n"
          ]
        }
      ]
    },
    {
      "cell_type": "markdown",
      "source": [
        "## Load Required Libraries"
      ],
      "metadata": {
        "id": "jaJUwcEkxzTO"
      }
    },
    {
      "cell_type": "code",
      "execution_count": 2,
      "metadata": {
        "id": "TRA5j2AmU4C_"
      },
      "outputs": [],
      "source": [
        "import math # mathematical functions\n",
        "import matplotlib.pyplot as plt # plotting\n",
        "import numpy as np # array manipulation\n",
        "import pandas as pd # data analysis\n",
        "import random # random number generator\n",
        "import seaborn as sns # visualizations\n",
        "import torch # machine learning framework\n",
        "import torch.nn as nn # neural networks\n",
        "import torch.nn.functional as F # neural network functions\n",
        "from google.colab import drive # connect to drive storage\n",
        "from sklearn.model_selection import train_test_split # splitter function\n",
        "from sklearn.utils import resample # resample dataset to balance classes\n",
        "from torch.utils.data import DataLoader # create DataLoaders\n",
        "from torch.utils.data import Dataset # create Torch datasets\n",
        "\n",
        "# binary metrics\n",
        "from torcheval.metrics import BinaryAccuracy\n",
        "from torcheval.metrics import BinaryConfusionMatrix\n",
        "from torcheval.metrics import BinaryF1Score\n",
        "from torcheval.metrics import BinaryPrecision\n",
        "from torcheval.metrics import BinaryRecall\n",
        "\n",
        "from transformers import DistilBertConfig, DistilBertTokenizer # DistilBERT\n",
        "from transformers import DistilBertForSequenceClassification # DistilBERT\n",
        "from tqdm import tqdm # progress bars"
      ]
    },
    {
      "cell_type": "markdown",
      "source": [
        "## Set Random Seeds"
      ],
      "metadata": {
        "id": "NvluqA7fypw1"
      }
    },
    {
      "cell_type": "code",
      "source": [
        "# set random seeds for reproducibility\n",
        "torch.manual_seed(0)\n",
        "random.seed(0)"
      ],
      "metadata": {
        "id": "V1npLdqNywmP"
      },
      "execution_count": 3,
      "outputs": []
    },
    {
      "cell_type": "markdown",
      "source": [
        "## Verify GPU Availability"
      ],
      "metadata": {
        "id": "5Sc7Pk0TzTsF"
      }
    },
    {
      "cell_type": "code",
      "source": [
        "# set device for GPU/CPU usage\n",
        "device = torch.device('cuda' if torch.cuda.is_available() else 'cpu')\n",
        "\n",
        "# verify GPU availability\n",
        "if device.type == 'cuda':\n",
        "    print('GPU is available!')\n",
        "    print('-----------------')\n",
        "    current_device = torch.cuda.current_device()\n",
        "    print('Current Device:', current_device)\n",
        "    print('Device Name:', torch.cuda.get_device_name(current_device))\n",
        "else:\n",
        "    raise SystemError('GPU device not found!')"
      ],
      "metadata": {
        "id": "s63SMkOM0QzE",
        "colab": {
          "base_uri": "https://localhost:8080/"
        },
        "outputId": "413b0f99-be56-4600-dec3-bdf588f50120"
      },
      "execution_count": 4,
      "outputs": [
        {
          "output_type": "stream",
          "name": "stdout",
          "text": [
            "GPU is available!\n",
            "-----------------\n",
            "Current Device: 0\n",
            "Device Name: Tesla T4\n"
          ]
        }
      ]
    },
    {
      "cell_type": "markdown",
      "source": [
        "# Dataset Prep"
      ],
      "metadata": {
        "id": "GuQgcaSK3fAr"
      }
    },
    {
      "cell_type": "markdown",
      "source": [
        "## Upload Dataset"
      ],
      "metadata": {
        "id": "fIwXYJzl3nvI"
      }
    },
    {
      "cell_type": "code",
      "source": [
        "# connect google drive\n",
        "drive.mount('/content/drive') # uncomment to mount google drive\n",
        "\n",
        "# read csv file into dataframe\n",
        "ai_df = pd.read_csv('drive/MyDrive/AI_Human.csv')\n",
        "\n",
        "# display dataframe\n",
        "#ai_df = ai_df[10000:20000] # uncomment for smaller set\n",
        "ai_df"
      ],
      "metadata": {
        "colab": {
          "base_uri": "https://localhost:8080/",
          "height": 424
        },
        "id": "-Au_wP2U3wDf",
        "outputId": "b40b654e-7e8b-405e-8dc7-ee6d156ac6e0"
      },
      "execution_count": 8,
      "outputs": [
        {
          "output_type": "execute_result",
          "data": {
            "text/plain": [
              "                                                    text  generated\n",
              "10000  The Face that appeared on Mars was something t...        0.0\n",
              "10001  I am a NASA scientist and you don't believe th...        0.0\n",
              "10002  The face is a landform because the planet must...        0.0\n",
              "10003  The \"Face on Mars\" is a natural landform becau...        0.0\n",
              "10004  The face on the planet was just a landform. Yo...        0.0\n",
              "...                                                  ...        ...\n",
              "19995  \\nWorking in a group has many tangible benefit...        1.0\n",
              "19996  \\nThe ability for examples, actions, reasons, ...        1.0\n",
              "19997  \\nRalph Waldo Emerson is well known for his mu...        1.0\n",
              "19998  \\nSuccess without failure is a concept that ma...        1.0\n",
              "19999  \\nAttending classes online has both pros and c...        1.0\n",
              "\n",
              "[10000 rows x 2 columns]"
            ],
            "text/html": [
              "\n",
              "  <div id=\"df-eaa9e988-a208-484a-b254-42d7c765f865\" class=\"colab-df-container\">\n",
              "    <div>\n",
              "<style scoped>\n",
              "    .dataframe tbody tr th:only-of-type {\n",
              "        vertical-align: middle;\n",
              "    }\n",
              "\n",
              "    .dataframe tbody tr th {\n",
              "        vertical-align: top;\n",
              "    }\n",
              "\n",
              "    .dataframe thead th {\n",
              "        text-align: right;\n",
              "    }\n",
              "</style>\n",
              "<table border=\"1\" class=\"dataframe\">\n",
              "  <thead>\n",
              "    <tr style=\"text-align: right;\">\n",
              "      <th></th>\n",
              "      <th>text</th>\n",
              "      <th>generated</th>\n",
              "    </tr>\n",
              "  </thead>\n",
              "  <tbody>\n",
              "    <tr>\n",
              "      <th>10000</th>\n",
              "      <td>The Face that appeared on Mars was something t...</td>\n",
              "      <td>0.0</td>\n",
              "    </tr>\n",
              "    <tr>\n",
              "      <th>10001</th>\n",
              "      <td>I am a NASA scientist and you don't believe th...</td>\n",
              "      <td>0.0</td>\n",
              "    </tr>\n",
              "    <tr>\n",
              "      <th>10002</th>\n",
              "      <td>The face is a landform because the planet must...</td>\n",
              "      <td>0.0</td>\n",
              "    </tr>\n",
              "    <tr>\n",
              "      <th>10003</th>\n",
              "      <td>The \"Face on Mars\" is a natural landform becau...</td>\n",
              "      <td>0.0</td>\n",
              "    </tr>\n",
              "    <tr>\n",
              "      <th>10004</th>\n",
              "      <td>The face on the planet was just a landform. Yo...</td>\n",
              "      <td>0.0</td>\n",
              "    </tr>\n",
              "    <tr>\n",
              "      <th>...</th>\n",
              "      <td>...</td>\n",
              "      <td>...</td>\n",
              "    </tr>\n",
              "    <tr>\n",
              "      <th>19995</th>\n",
              "      <td>\\nWorking in a group has many tangible benefit...</td>\n",
              "      <td>1.0</td>\n",
              "    </tr>\n",
              "    <tr>\n",
              "      <th>19996</th>\n",
              "      <td>\\nThe ability for examples, actions, reasons, ...</td>\n",
              "      <td>1.0</td>\n",
              "    </tr>\n",
              "    <tr>\n",
              "      <th>19997</th>\n",
              "      <td>\\nRalph Waldo Emerson is well known for his mu...</td>\n",
              "      <td>1.0</td>\n",
              "    </tr>\n",
              "    <tr>\n",
              "      <th>19998</th>\n",
              "      <td>\\nSuccess without failure is a concept that ma...</td>\n",
              "      <td>1.0</td>\n",
              "    </tr>\n",
              "    <tr>\n",
              "      <th>19999</th>\n",
              "      <td>\\nAttending classes online has both pros and c...</td>\n",
              "      <td>1.0</td>\n",
              "    </tr>\n",
              "  </tbody>\n",
              "</table>\n",
              "<p>10000 rows × 2 columns</p>\n",
              "</div>\n",
              "    <div class=\"colab-df-buttons\">\n",
              "\n",
              "  <div class=\"colab-df-container\">\n",
              "    <button class=\"colab-df-convert\" onclick=\"convertToInteractive('df-eaa9e988-a208-484a-b254-42d7c765f865')\"\n",
              "            title=\"Convert this dataframe to an interactive table.\"\n",
              "            style=\"display:none;\">\n",
              "\n",
              "  <svg xmlns=\"http://www.w3.org/2000/svg\" height=\"24px\" viewBox=\"0 -960 960 960\">\n",
              "    <path d=\"M120-120v-720h720v720H120Zm60-500h600v-160H180v160Zm220 220h160v-160H400v160Zm0 220h160v-160H400v160ZM180-400h160v-160H180v160Zm440 0h160v-160H620v160ZM180-180h160v-160H180v160Zm440 0h160v-160H620v160Z\"/>\n",
              "  </svg>\n",
              "    </button>\n",
              "\n",
              "  <style>\n",
              "    .colab-df-container {\n",
              "      display:flex;\n",
              "      gap: 12px;\n",
              "    }\n",
              "\n",
              "    .colab-df-convert {\n",
              "      background-color: #E8F0FE;\n",
              "      border: none;\n",
              "      border-radius: 50%;\n",
              "      cursor: pointer;\n",
              "      display: none;\n",
              "      fill: #1967D2;\n",
              "      height: 32px;\n",
              "      padding: 0 0 0 0;\n",
              "      width: 32px;\n",
              "    }\n",
              "\n",
              "    .colab-df-convert:hover {\n",
              "      background-color: #E2EBFA;\n",
              "      box-shadow: 0px 1px 2px rgba(60, 64, 67, 0.3), 0px 1px 3px 1px rgba(60, 64, 67, 0.15);\n",
              "      fill: #174EA6;\n",
              "    }\n",
              "\n",
              "    .colab-df-buttons div {\n",
              "      margin-bottom: 4px;\n",
              "    }\n",
              "\n",
              "    [theme=dark] .colab-df-convert {\n",
              "      background-color: #3B4455;\n",
              "      fill: #D2E3FC;\n",
              "    }\n",
              "\n",
              "    [theme=dark] .colab-df-convert:hover {\n",
              "      background-color: #434B5C;\n",
              "      box-shadow: 0px 1px 3px 1px rgba(0, 0, 0, 0.15);\n",
              "      filter: drop-shadow(0px 1px 2px rgba(0, 0, 0, 0.3));\n",
              "      fill: #FFFFFF;\n",
              "    }\n",
              "  </style>\n",
              "\n",
              "    <script>\n",
              "      const buttonEl =\n",
              "        document.querySelector('#df-eaa9e988-a208-484a-b254-42d7c765f865 button.colab-df-convert');\n",
              "      buttonEl.style.display =\n",
              "        google.colab.kernel.accessAllowed ? 'block' : 'none';\n",
              "\n",
              "      async function convertToInteractive(key) {\n",
              "        const element = document.querySelector('#df-eaa9e988-a208-484a-b254-42d7c765f865');\n",
              "        const dataTable =\n",
              "          await google.colab.kernel.invokeFunction('convertToInteractive',\n",
              "                                                    [key], {});\n",
              "        if (!dataTable) return;\n",
              "\n",
              "        const docLinkHtml = 'Like what you see? Visit the ' +\n",
              "          '<a target=\"_blank\" href=https://colab.research.google.com/notebooks/data_table.ipynb>data table notebook</a>'\n",
              "          + ' to learn more about interactive tables.';\n",
              "        element.innerHTML = '';\n",
              "        dataTable['output_type'] = 'display_data';\n",
              "        await google.colab.output.renderOutput(dataTable, element);\n",
              "        const docLink = document.createElement('div');\n",
              "        docLink.innerHTML = docLinkHtml;\n",
              "        element.appendChild(docLink);\n",
              "      }\n",
              "    </script>\n",
              "  </div>\n",
              "\n",
              "\n",
              "<div id=\"df-6203f6b0-ebe3-460d-baec-f39246d33d0b\">\n",
              "  <button class=\"colab-df-quickchart\" onclick=\"quickchart('df-6203f6b0-ebe3-460d-baec-f39246d33d0b')\"\n",
              "            title=\"Suggest charts\"\n",
              "            style=\"display:none;\">\n",
              "\n",
              "<svg xmlns=\"http://www.w3.org/2000/svg\" height=\"24px\"viewBox=\"0 0 24 24\"\n",
              "     width=\"24px\">\n",
              "    <g>\n",
              "        <path d=\"M19 3H5c-1.1 0-2 .9-2 2v14c0 1.1.9 2 2 2h14c1.1 0 2-.9 2-2V5c0-1.1-.9-2-2-2zM9 17H7v-7h2v7zm4 0h-2V7h2v10zm4 0h-2v-4h2v4z\"/>\n",
              "    </g>\n",
              "</svg>\n",
              "  </button>\n",
              "\n",
              "<style>\n",
              "  .colab-df-quickchart {\n",
              "      --bg-color: #E8F0FE;\n",
              "      --fill-color: #1967D2;\n",
              "      --hover-bg-color: #E2EBFA;\n",
              "      --hover-fill-color: #174EA6;\n",
              "      --disabled-fill-color: #AAA;\n",
              "      --disabled-bg-color: #DDD;\n",
              "  }\n",
              "\n",
              "  [theme=dark] .colab-df-quickchart {\n",
              "      --bg-color: #3B4455;\n",
              "      --fill-color: #D2E3FC;\n",
              "      --hover-bg-color: #434B5C;\n",
              "      --hover-fill-color: #FFFFFF;\n",
              "      --disabled-bg-color: #3B4455;\n",
              "      --disabled-fill-color: #666;\n",
              "  }\n",
              "\n",
              "  .colab-df-quickchart {\n",
              "    background-color: var(--bg-color);\n",
              "    border: none;\n",
              "    border-radius: 50%;\n",
              "    cursor: pointer;\n",
              "    display: none;\n",
              "    fill: var(--fill-color);\n",
              "    height: 32px;\n",
              "    padding: 0;\n",
              "    width: 32px;\n",
              "  }\n",
              "\n",
              "  .colab-df-quickchart:hover {\n",
              "    background-color: var(--hover-bg-color);\n",
              "    box-shadow: 0 1px 2px rgba(60, 64, 67, 0.3), 0 1px 3px 1px rgba(60, 64, 67, 0.15);\n",
              "    fill: var(--button-hover-fill-color);\n",
              "  }\n",
              "\n",
              "  .colab-df-quickchart-complete:disabled,\n",
              "  .colab-df-quickchart-complete:disabled:hover {\n",
              "    background-color: var(--disabled-bg-color);\n",
              "    fill: var(--disabled-fill-color);\n",
              "    box-shadow: none;\n",
              "  }\n",
              "\n",
              "  .colab-df-spinner {\n",
              "    border: 2px solid var(--fill-color);\n",
              "    border-color: transparent;\n",
              "    border-bottom-color: var(--fill-color);\n",
              "    animation:\n",
              "      spin 1s steps(1) infinite;\n",
              "  }\n",
              "\n",
              "  @keyframes spin {\n",
              "    0% {\n",
              "      border-color: transparent;\n",
              "      border-bottom-color: var(--fill-color);\n",
              "      border-left-color: var(--fill-color);\n",
              "    }\n",
              "    20% {\n",
              "      border-color: transparent;\n",
              "      border-left-color: var(--fill-color);\n",
              "      border-top-color: var(--fill-color);\n",
              "    }\n",
              "    30% {\n",
              "      border-color: transparent;\n",
              "      border-left-color: var(--fill-color);\n",
              "      border-top-color: var(--fill-color);\n",
              "      border-right-color: var(--fill-color);\n",
              "    }\n",
              "    40% {\n",
              "      border-color: transparent;\n",
              "      border-right-color: var(--fill-color);\n",
              "      border-top-color: var(--fill-color);\n",
              "    }\n",
              "    60% {\n",
              "      border-color: transparent;\n",
              "      border-right-color: var(--fill-color);\n",
              "    }\n",
              "    80% {\n",
              "      border-color: transparent;\n",
              "      border-right-color: var(--fill-color);\n",
              "      border-bottom-color: var(--fill-color);\n",
              "    }\n",
              "    90% {\n",
              "      border-color: transparent;\n",
              "      border-bottom-color: var(--fill-color);\n",
              "    }\n",
              "  }\n",
              "</style>\n",
              "\n",
              "  <script>\n",
              "    async function quickchart(key) {\n",
              "      const quickchartButtonEl =\n",
              "        document.querySelector('#' + key + ' button');\n",
              "      quickchartButtonEl.disabled = true;  // To prevent multiple clicks.\n",
              "      quickchartButtonEl.classList.add('colab-df-spinner');\n",
              "      try {\n",
              "        const charts = await google.colab.kernel.invokeFunction(\n",
              "            'suggestCharts', [key], {});\n",
              "      } catch (error) {\n",
              "        console.error('Error during call to suggestCharts:', error);\n",
              "      }\n",
              "      quickchartButtonEl.classList.remove('colab-df-spinner');\n",
              "      quickchartButtonEl.classList.add('colab-df-quickchart-complete');\n",
              "    }\n",
              "    (() => {\n",
              "      let quickchartButtonEl =\n",
              "        document.querySelector('#df-6203f6b0-ebe3-460d-baec-f39246d33d0b button');\n",
              "      quickchartButtonEl.style.display =\n",
              "        google.colab.kernel.accessAllowed ? 'block' : 'none';\n",
              "    })();\n",
              "  </script>\n",
              "</div>\n",
              "\n",
              "  <div id=\"id_4ad3015b-b265-444d-909b-2c213914db6b\">\n",
              "    <style>\n",
              "      .colab-df-generate {\n",
              "        background-color: #E8F0FE;\n",
              "        border: none;\n",
              "        border-radius: 50%;\n",
              "        cursor: pointer;\n",
              "        display: none;\n",
              "        fill: #1967D2;\n",
              "        height: 32px;\n",
              "        padding: 0 0 0 0;\n",
              "        width: 32px;\n",
              "      }\n",
              "\n",
              "      .colab-df-generate:hover {\n",
              "        background-color: #E2EBFA;\n",
              "        box-shadow: 0px 1px 2px rgba(60, 64, 67, 0.3), 0px 1px 3px 1px rgba(60, 64, 67, 0.15);\n",
              "        fill: #174EA6;\n",
              "      }\n",
              "\n",
              "      [theme=dark] .colab-df-generate {\n",
              "        background-color: #3B4455;\n",
              "        fill: #D2E3FC;\n",
              "      }\n",
              "\n",
              "      [theme=dark] .colab-df-generate:hover {\n",
              "        background-color: #434B5C;\n",
              "        box-shadow: 0px 1px 3px 1px rgba(0, 0, 0, 0.15);\n",
              "        filter: drop-shadow(0px 1px 2px rgba(0, 0, 0, 0.3));\n",
              "        fill: #FFFFFF;\n",
              "      }\n",
              "    </style>\n",
              "    <button class=\"colab-df-generate\" onclick=\"generateWithVariable('ai_df')\"\n",
              "            title=\"Generate code using this dataframe.\"\n",
              "            style=\"display:none;\">\n",
              "\n",
              "  <svg xmlns=\"http://www.w3.org/2000/svg\" height=\"24px\"viewBox=\"0 0 24 24\"\n",
              "       width=\"24px\">\n",
              "    <path d=\"M7,19H8.4L18.45,9,17,7.55,7,17.6ZM5,21V16.75L18.45,3.32a2,2,0,0,1,2.83,0l1.4,1.43a1.91,1.91,0,0,1,.58,1.4,1.91,1.91,0,0,1-.58,1.4L9.25,21ZM18.45,9,17,7.55Zm-12,3A5.31,5.31,0,0,0,4.9,8.1,5.31,5.31,0,0,0,1,6.5,5.31,5.31,0,0,0,4.9,4.9,5.31,5.31,0,0,0,6.5,1,5.31,5.31,0,0,0,8.1,4.9,5.31,5.31,0,0,0,12,6.5,5.46,5.46,0,0,0,6.5,12Z\"/>\n",
              "  </svg>\n",
              "    </button>\n",
              "    <script>\n",
              "      (() => {\n",
              "      const buttonEl =\n",
              "        document.querySelector('#id_4ad3015b-b265-444d-909b-2c213914db6b button.colab-df-generate');\n",
              "      buttonEl.style.display =\n",
              "        google.colab.kernel.accessAllowed ? 'block' : 'none';\n",
              "\n",
              "      buttonEl.onclick = () => {\n",
              "        google.colab.notebook.generateWithVariable('ai_df');\n",
              "      }\n",
              "      })();\n",
              "    </script>\n",
              "  </div>\n",
              "\n",
              "    </div>\n",
              "  </div>\n"
            ],
            "application/vnd.google.colaboratory.intrinsic+json": {
              "type": "dataframe",
              "variable_name": "ai_df",
              "summary": "{\n  \"name\": \"ai_df\",\n  \"rows\": 10000,\n  \"fields\": [\n    {\n      \"column\": \"text\",\n      \"properties\": {\n        \"dtype\": \"string\",\n        \"num_unique_values\": 10000,\n        \"samples\": [\n          \"Being Against An Extended School Day\\n\\n-\\n\\nGeneric_Name\\n\\nEducation can be considered to have an immense and influential extent over the preparation of individuals within the constantly expanding world. It can determine how a future employee may react to a circumstance or perhaps how they may solve it. Entire generations have been based upon education. Fundamentals such as algebra and language skills learned by these individuals have sculpted the process for man to touch the Moon and to cease global crises. All of this has possibly resulted in the world we exist in today. My perspective on the circumstance is that the school board should not increase the school's schedule due to the following: the current schedule already establishes 7 hours of probable physical and intellectual progression, students can experience more unproductive and negative entities, and that the addition of one and a half hours may produce incompatibilities towards both student and related individual schedules.\\n\\nBeginning with the 7-hour process, students enter the building and perhaps have already encountered a dilemma. Certain peers may have caught the bus late or arrived earlier than allowed to. Afterwards, they could be in their classes trying to understand how a certain concept functions with another and may simultaneously be attempting to concluded a page of homework. Moving from class periods to lunch, they may find themselves perplexed at what they are going to do with their locker's present condition. Even at the end of the day they may be questioning what to do with their best friend while they both have separate projects due tomorrow. In essence, a student's day can be of highly troubling challenges as well as instances that an be excessively stressful in relation to the students alone.\\n\\nWith the prolonging of the day present, multiple casual difficulties may be amplified whilst new forms of faults can be felt by many students. A select few could include having to finish more assignments, receiving an increase of homework, and quite more. Certain subject periods may become uninteresting after critically focusing time upon them, and other periods may become shorter in order to cope the extension of time. Events that have a possibility of occurring throughout the day can be unintentionally imposing and certain situations may very well be perceived by an array of people as impossible to conclude with the aforementioned extension.\\n\\nA final note pertaining to the topic is that a longer daily routine may lead to extensive conflict with faculty, student, guardian time frames. Students can have extracurricular activities that can require adequate time to function properly such as baseball and/or team swimming. The parents and guardians of the students may now not have time to fulfill their career schedules in order to react with their children and could result in negative consequences.\\n\\nFaculty members may have to stay a longer duration to cleanse or conclude their occupational duties because of the excess of materials and activities. The people apparent within the school and to some degree outside of it could be left with the severe imbalance of two correlating but differed schedules they must interact with.\\n\\nThough a multitude of negative concepts and events may be associated with the topic of extending the day, there are quite in fact a variety of benefits to such a transformation. A prolonged schedule can be excellent for the further study of a subject as well as direct application. Homework can have a higher chance of being finished within school hours. Socialization in lunch and gym sessions could be extended. However, negative concepts can still be present with the solutions, which may indicate that no matter what may be of the scenario, unproductive elements can still remain.\\n\\nAs previously mentioned, I take a view that is against the prolongment of the academic schedule as it relates to incompatibilities for multiple individuals, an increase in negativity, and the current time frame and activities of school.\\n\\nOnce again, parents and guardians may have to reduce time at their positions in order to cope with shift of schedule. Homework and subject directives may become more significant in amount and requirement, perhaps stressing the students and teachers to quite the degree. The current schedule alone has multitudes of events, activities, and concepts that are brimming in attentiveness and consumption. Benefits and negatives of the school lengthening its duration are and can be present, but truly take into consideration what a change in a time frame could result in; its impacts can be irreversibly. \",\n          \"You are presented with one of the toughest choices in your life.\\n\\nAs a gift, you received two tickets to Disney World.\\n\\nOne is for you, and the other is for whoever you choose.\\n\\nAll of a sudden, a million questions and possibilities fill your head.\\n\\nWould you rather go to Disney World with your best friend or your significant other?\\n\\nWhat about your brother, uncle, or mom?\\n\\nWith a problem like this, you have to seek advice.\\n\\nHave you ever had an issue so tough that you needed to seek advice?\\n\\nI know for certain that I have encountered this problem before.\\n\\nWith issues like that, I always seek advice from numerous people before making my final decision.\\n\\nI believe seeking multiple opinions can help someone make a better choice because you can hear other people's points of view, determine what the best choice is by finding which answer is said most, and learn life lessons from the people you seek advice from.\\n\\nA big reason you should seek advice from more than one person is because you can hear different points of view.\\n\\nBy asking many people for advice on the situation, you encounter people that are wiser, smarter, and far more experienced than yourself.\\n\\nFor example, I remember encountering a situation as a fifth grader where I had to choose between saving my money or buying a new gaming system.\\n\\nI had been saving this money since fourth grade, and I had accumulated more than four hundred dollars.\\n\\nWhen I went over to my cousin's house, I was able to play on his gaming system, and I thought it was really fun.\\n\\nBefore I left, I made sure to ask him if I should invest in the same gaming system or to save the money.\\n\\nHis response was to buy the system.\\n\\nEven though I got the advice I needed, I made sure to ask other people the same question.\\n\\nNext, I remember asking my parents if it would be worth it.\\n\\nMy mom had told me that we already had lots of video games.\\n\\nOn the other hand, my dad told me that it was my money, and if this is what I decided to spend is on, it was completely fine.\\n\\nAfter seeking multiple points of view, I had finally made my decision.\\n\\nI was going to buy the gaming system.\\n\\nTo this day, I still play on that console, and I do not regret my investment.\\n\\nAfter asking many people, you start to see a pattern in answers.\\n\\nIn my case, I figured out that the majority of people I asked said it was a good idea to buy the console, and this leads into my next point.\\n\\nAsking many people for advice can also be beneficial because you can determine what the proper choice is by examining what answer people reply most.\\n\\nIf we go back to my story about whether or not to buy the console, the answer I received most was, \\\"Yes.\\\"\\n\\nUltimately, that was a big factor that told me I should buy the console.\\n\\nIf you ask many people the same question and you get the same answer, whatever they are telling you is probably the smart and correct thing to do.\\n\\nIt may not necessarily be the decision you were thinking of making, but it may be one to consider.\\n\\nBack at the beginning of the school year, my English teacher assigned our class a project where we have to make a difference in our community.\\n\\nAt first, my idea was to organize a community-wide sports equipment drive.\\n\\nWhen I got home that day, I discussed my idea with my parents, and they told me that was not the best idea, and that we should sit down and discuss a better idea.\\n\\nI decided I wanted to prove them wrong.\\n\\nFast forward a couple of months, and I am struggling to get anything done on the project.\\n\\nThat night, I told my parents that my idea would not work, and they just gave me that \\\"I-told-you-so\\\" look.\\n\\nFrom there, we devised a plan where I would instead help the volunteers on the Blue Ridge Parkway.\\n\\nRight now, my project is going great, and I am close to crossing the finish line of completion.\\n\\nFrom that, I learned that you need to take advice of others because, in my case, my parents knew what they were talking about.\\n\\nIf multiple people tell you that something is not the right choice, then you should probably reconsider.\\n\\nThat was a life lesson I needed to learn, but from seeking advice from more than one person, you learn many life lessons.\\n\\nLast but not least, asking more than one person for advice can teach you very valuable life lessons that will help along the path of life.\\n\\nFrom my experience of failure from my school project, I learned that even though you think your idea sounds good, you should still be open to improvement.\\n\\nMy decision on buying something I wanted taught me opportunity cost.\\n\\nFrom asking people for advice, you can learn may valuable things that will assist you.\\n\\nNot only do these decisions affect a singular situation, but they can be applied to life very easily.\\n\\nNow, if I am interested in purchasing anything, I always weigh the options, and ask others what the best thing to do would be.\\n\\nI learned that skill from asking people for advice.\\n\\nThese are the lessons that are learned first hand.\\n\\nYou do not just read them in a book, but instead, you are taught by experience and others.\\n\\nAfter asking for advice from numerous people, you ultimately decide that you want to take your brother with you to Disney World.\\n\\nThough those people you did not choose may feel bummed out, you know you made a good, educated choice because you took advice not just from one person, but from many.\\n\\nIf you had only asked one person, they could have told you to take your grandfather, dog, cousin, son, etc.\\n\\nInstead, asking many people gave you a better grasp on the situation, ultimately allowing you to determine the best choice is to take your brother.\\n\\nAsking many people for advice before making a decision is a good choice because you can examine other people's opinions on the situation, figure out what the best choice is by finding the most common answer, and learn many life lessons.\\n\\nSo the next time you face a difficult choice, ask more than one person for advice before coming up with your verdict.\",\n          \"Richard Nion, Jimmy Carter, and Bob Dole and other companies have all agreed to abolish the Electoral College and I to agree for many reasons. One of the major issue is that the voters don't know what really happens to thier vote. Another issue to add is that ''the electoral collage is unfair, outdated, and irrational\\\".\\n\\nDo the citizens that go and vote for their candidate actually choose for the candidate's electors? In the text is states that not only do I vote for candidate's electors but also '' help choose the state's electors when you vote for the president''. This meaning that my vote counts for several things, but was I aware? Maybe not because I simply think I'm voting for a candidate running for presidenty not the candidate's elector. The Electoral College was ment for a compromise between Congress and Citizens not all these extra people.\\n\\n''This year voters can expect another close election in which the popular vote winner could loose again''. Certainly this doesn't makes sence because how could the winner of the votes loose? Which is one of the reasons why the the Electoral College is unfair. Also in the beggining of the article it's said that '' A majority of 270 electoral votes is required to elect the President''. Meaning that the president already has an advance in the votes. I think that the Electoral College process should be gone for its unfairity and be replaced to a new way of election.\\n\\nIn the new way of electing our president should be in a few steps and also not worrying about the candidate already having an advanced amount of votes. Instead of the votes going place to place they should just be in the state and counted for equaly no ajustments, then after the election send to Congress or the National Archives as part of the offical records of the presidential election.\\n\\nIn conclusion the electoral College should be taken out permantly and be replaced by a new way or process when it comes to the citizens votes and the election of the cadidates.\"\n        ],\n        \"semantic_type\": \"\",\n        \"description\": \"\"\n      }\n    },\n    {\n      \"column\": \"generated\",\n      \"properties\": {\n        \"dtype\": \"number\",\n        \"std\": 0.4523370987273635,\n        \"min\": 0.0,\n        \"max\": 1.0,\n        \"num_unique_values\": 2,\n        \"samples\": [\n          1.0,\n          0.0\n        ],\n        \"semantic_type\": \"\",\n        \"description\": \"\"\n      }\n    }\n  ]\n}"
            }
          },
          "metadata": {},
          "execution_count": 8
        }
      ]
    },
    {
      "cell_type": "markdown",
      "source": [
        "## Rename Columns"
      ],
      "metadata": {
        "id": "Qz8BpORi6vrG"
      }
    },
    {
      "cell_type": "code",
      "source": [
        "# rename columns in place\n",
        "ai_df.rename({'text': 'orig_str', 'generated': 'label'}, axis='columns', inplace=True)\n",
        "\n",
        "# display dataframe\n",
        "ai_df"
      ],
      "metadata": {
        "colab": {
          "base_uri": "https://localhost:8080/",
          "height": 424
        },
        "id": "gDn6K8KL6xcL",
        "outputId": "d5e59afa-8bfd-4698-d0d4-339bb97be91d"
      },
      "execution_count": 9,
      "outputs": [
        {
          "output_type": "execute_result",
          "data": {
            "text/plain": [
              "                                                orig_str  label\n",
              "10000  The Face that appeared on Mars was something t...    0.0\n",
              "10001  I am a NASA scientist and you don't believe th...    0.0\n",
              "10002  The face is a landform because the planet must...    0.0\n",
              "10003  The \"Face on Mars\" is a natural landform becau...    0.0\n",
              "10004  The face on the planet was just a landform. Yo...    0.0\n",
              "...                                                  ...    ...\n",
              "19995  \\nWorking in a group has many tangible benefit...    1.0\n",
              "19996  \\nThe ability for examples, actions, reasons, ...    1.0\n",
              "19997  \\nRalph Waldo Emerson is well known for his mu...    1.0\n",
              "19998  \\nSuccess without failure is a concept that ma...    1.0\n",
              "19999  \\nAttending classes online has both pros and c...    1.0\n",
              "\n",
              "[10000 rows x 2 columns]"
            ],
            "text/html": [
              "\n",
              "  <div id=\"df-151106b3-d1ea-4c50-aba1-a16f0864f398\" class=\"colab-df-container\">\n",
              "    <div>\n",
              "<style scoped>\n",
              "    .dataframe tbody tr th:only-of-type {\n",
              "        vertical-align: middle;\n",
              "    }\n",
              "\n",
              "    .dataframe tbody tr th {\n",
              "        vertical-align: top;\n",
              "    }\n",
              "\n",
              "    .dataframe thead th {\n",
              "        text-align: right;\n",
              "    }\n",
              "</style>\n",
              "<table border=\"1\" class=\"dataframe\">\n",
              "  <thead>\n",
              "    <tr style=\"text-align: right;\">\n",
              "      <th></th>\n",
              "      <th>orig_str</th>\n",
              "      <th>label</th>\n",
              "    </tr>\n",
              "  </thead>\n",
              "  <tbody>\n",
              "    <tr>\n",
              "      <th>10000</th>\n",
              "      <td>The Face that appeared on Mars was something t...</td>\n",
              "      <td>0.0</td>\n",
              "    </tr>\n",
              "    <tr>\n",
              "      <th>10001</th>\n",
              "      <td>I am a NASA scientist and you don't believe th...</td>\n",
              "      <td>0.0</td>\n",
              "    </tr>\n",
              "    <tr>\n",
              "      <th>10002</th>\n",
              "      <td>The face is a landform because the planet must...</td>\n",
              "      <td>0.0</td>\n",
              "    </tr>\n",
              "    <tr>\n",
              "      <th>10003</th>\n",
              "      <td>The \"Face on Mars\" is a natural landform becau...</td>\n",
              "      <td>0.0</td>\n",
              "    </tr>\n",
              "    <tr>\n",
              "      <th>10004</th>\n",
              "      <td>The face on the planet was just a landform. Yo...</td>\n",
              "      <td>0.0</td>\n",
              "    </tr>\n",
              "    <tr>\n",
              "      <th>...</th>\n",
              "      <td>...</td>\n",
              "      <td>...</td>\n",
              "    </tr>\n",
              "    <tr>\n",
              "      <th>19995</th>\n",
              "      <td>\\nWorking in a group has many tangible benefit...</td>\n",
              "      <td>1.0</td>\n",
              "    </tr>\n",
              "    <tr>\n",
              "      <th>19996</th>\n",
              "      <td>\\nThe ability for examples, actions, reasons, ...</td>\n",
              "      <td>1.0</td>\n",
              "    </tr>\n",
              "    <tr>\n",
              "      <th>19997</th>\n",
              "      <td>\\nRalph Waldo Emerson is well known for his mu...</td>\n",
              "      <td>1.0</td>\n",
              "    </tr>\n",
              "    <tr>\n",
              "      <th>19998</th>\n",
              "      <td>\\nSuccess without failure is a concept that ma...</td>\n",
              "      <td>1.0</td>\n",
              "    </tr>\n",
              "    <tr>\n",
              "      <th>19999</th>\n",
              "      <td>\\nAttending classes online has both pros and c...</td>\n",
              "      <td>1.0</td>\n",
              "    </tr>\n",
              "  </tbody>\n",
              "</table>\n",
              "<p>10000 rows × 2 columns</p>\n",
              "</div>\n",
              "    <div class=\"colab-df-buttons\">\n",
              "\n",
              "  <div class=\"colab-df-container\">\n",
              "    <button class=\"colab-df-convert\" onclick=\"convertToInteractive('df-151106b3-d1ea-4c50-aba1-a16f0864f398')\"\n",
              "            title=\"Convert this dataframe to an interactive table.\"\n",
              "            style=\"display:none;\">\n",
              "\n",
              "  <svg xmlns=\"http://www.w3.org/2000/svg\" height=\"24px\" viewBox=\"0 -960 960 960\">\n",
              "    <path d=\"M120-120v-720h720v720H120Zm60-500h600v-160H180v160Zm220 220h160v-160H400v160Zm0 220h160v-160H400v160ZM180-400h160v-160H180v160Zm440 0h160v-160H620v160ZM180-180h160v-160H180v160Zm440 0h160v-160H620v160Z\"/>\n",
              "  </svg>\n",
              "    </button>\n",
              "\n",
              "  <style>\n",
              "    .colab-df-container {\n",
              "      display:flex;\n",
              "      gap: 12px;\n",
              "    }\n",
              "\n",
              "    .colab-df-convert {\n",
              "      background-color: #E8F0FE;\n",
              "      border: none;\n",
              "      border-radius: 50%;\n",
              "      cursor: pointer;\n",
              "      display: none;\n",
              "      fill: #1967D2;\n",
              "      height: 32px;\n",
              "      padding: 0 0 0 0;\n",
              "      width: 32px;\n",
              "    }\n",
              "\n",
              "    .colab-df-convert:hover {\n",
              "      background-color: #E2EBFA;\n",
              "      box-shadow: 0px 1px 2px rgba(60, 64, 67, 0.3), 0px 1px 3px 1px rgba(60, 64, 67, 0.15);\n",
              "      fill: #174EA6;\n",
              "    }\n",
              "\n",
              "    .colab-df-buttons div {\n",
              "      margin-bottom: 4px;\n",
              "    }\n",
              "\n",
              "    [theme=dark] .colab-df-convert {\n",
              "      background-color: #3B4455;\n",
              "      fill: #D2E3FC;\n",
              "    }\n",
              "\n",
              "    [theme=dark] .colab-df-convert:hover {\n",
              "      background-color: #434B5C;\n",
              "      box-shadow: 0px 1px 3px 1px rgba(0, 0, 0, 0.15);\n",
              "      filter: drop-shadow(0px 1px 2px rgba(0, 0, 0, 0.3));\n",
              "      fill: #FFFFFF;\n",
              "    }\n",
              "  </style>\n",
              "\n",
              "    <script>\n",
              "      const buttonEl =\n",
              "        document.querySelector('#df-151106b3-d1ea-4c50-aba1-a16f0864f398 button.colab-df-convert');\n",
              "      buttonEl.style.display =\n",
              "        google.colab.kernel.accessAllowed ? 'block' : 'none';\n",
              "\n",
              "      async function convertToInteractive(key) {\n",
              "        const element = document.querySelector('#df-151106b3-d1ea-4c50-aba1-a16f0864f398');\n",
              "        const dataTable =\n",
              "          await google.colab.kernel.invokeFunction('convertToInteractive',\n",
              "                                                    [key], {});\n",
              "        if (!dataTable) return;\n",
              "\n",
              "        const docLinkHtml = 'Like what you see? Visit the ' +\n",
              "          '<a target=\"_blank\" href=https://colab.research.google.com/notebooks/data_table.ipynb>data table notebook</a>'\n",
              "          + ' to learn more about interactive tables.';\n",
              "        element.innerHTML = '';\n",
              "        dataTable['output_type'] = 'display_data';\n",
              "        await google.colab.output.renderOutput(dataTable, element);\n",
              "        const docLink = document.createElement('div');\n",
              "        docLink.innerHTML = docLinkHtml;\n",
              "        element.appendChild(docLink);\n",
              "      }\n",
              "    </script>\n",
              "  </div>\n",
              "\n",
              "\n",
              "<div id=\"df-150eece8-444e-41c7-bf84-142c1b4d0127\">\n",
              "  <button class=\"colab-df-quickchart\" onclick=\"quickchart('df-150eece8-444e-41c7-bf84-142c1b4d0127')\"\n",
              "            title=\"Suggest charts\"\n",
              "            style=\"display:none;\">\n",
              "\n",
              "<svg xmlns=\"http://www.w3.org/2000/svg\" height=\"24px\"viewBox=\"0 0 24 24\"\n",
              "     width=\"24px\">\n",
              "    <g>\n",
              "        <path d=\"M19 3H5c-1.1 0-2 .9-2 2v14c0 1.1.9 2 2 2h14c1.1 0 2-.9 2-2V5c0-1.1-.9-2-2-2zM9 17H7v-7h2v7zm4 0h-2V7h2v10zm4 0h-2v-4h2v4z\"/>\n",
              "    </g>\n",
              "</svg>\n",
              "  </button>\n",
              "\n",
              "<style>\n",
              "  .colab-df-quickchart {\n",
              "      --bg-color: #E8F0FE;\n",
              "      --fill-color: #1967D2;\n",
              "      --hover-bg-color: #E2EBFA;\n",
              "      --hover-fill-color: #174EA6;\n",
              "      --disabled-fill-color: #AAA;\n",
              "      --disabled-bg-color: #DDD;\n",
              "  }\n",
              "\n",
              "  [theme=dark] .colab-df-quickchart {\n",
              "      --bg-color: #3B4455;\n",
              "      --fill-color: #D2E3FC;\n",
              "      --hover-bg-color: #434B5C;\n",
              "      --hover-fill-color: #FFFFFF;\n",
              "      --disabled-bg-color: #3B4455;\n",
              "      --disabled-fill-color: #666;\n",
              "  }\n",
              "\n",
              "  .colab-df-quickchart {\n",
              "    background-color: var(--bg-color);\n",
              "    border: none;\n",
              "    border-radius: 50%;\n",
              "    cursor: pointer;\n",
              "    display: none;\n",
              "    fill: var(--fill-color);\n",
              "    height: 32px;\n",
              "    padding: 0;\n",
              "    width: 32px;\n",
              "  }\n",
              "\n",
              "  .colab-df-quickchart:hover {\n",
              "    background-color: var(--hover-bg-color);\n",
              "    box-shadow: 0 1px 2px rgba(60, 64, 67, 0.3), 0 1px 3px 1px rgba(60, 64, 67, 0.15);\n",
              "    fill: var(--button-hover-fill-color);\n",
              "  }\n",
              "\n",
              "  .colab-df-quickchart-complete:disabled,\n",
              "  .colab-df-quickchart-complete:disabled:hover {\n",
              "    background-color: var(--disabled-bg-color);\n",
              "    fill: var(--disabled-fill-color);\n",
              "    box-shadow: none;\n",
              "  }\n",
              "\n",
              "  .colab-df-spinner {\n",
              "    border: 2px solid var(--fill-color);\n",
              "    border-color: transparent;\n",
              "    border-bottom-color: var(--fill-color);\n",
              "    animation:\n",
              "      spin 1s steps(1) infinite;\n",
              "  }\n",
              "\n",
              "  @keyframes spin {\n",
              "    0% {\n",
              "      border-color: transparent;\n",
              "      border-bottom-color: var(--fill-color);\n",
              "      border-left-color: var(--fill-color);\n",
              "    }\n",
              "    20% {\n",
              "      border-color: transparent;\n",
              "      border-left-color: var(--fill-color);\n",
              "      border-top-color: var(--fill-color);\n",
              "    }\n",
              "    30% {\n",
              "      border-color: transparent;\n",
              "      border-left-color: var(--fill-color);\n",
              "      border-top-color: var(--fill-color);\n",
              "      border-right-color: var(--fill-color);\n",
              "    }\n",
              "    40% {\n",
              "      border-color: transparent;\n",
              "      border-right-color: var(--fill-color);\n",
              "      border-top-color: var(--fill-color);\n",
              "    }\n",
              "    60% {\n",
              "      border-color: transparent;\n",
              "      border-right-color: var(--fill-color);\n",
              "    }\n",
              "    80% {\n",
              "      border-color: transparent;\n",
              "      border-right-color: var(--fill-color);\n",
              "      border-bottom-color: var(--fill-color);\n",
              "    }\n",
              "    90% {\n",
              "      border-color: transparent;\n",
              "      border-bottom-color: var(--fill-color);\n",
              "    }\n",
              "  }\n",
              "</style>\n",
              "\n",
              "  <script>\n",
              "    async function quickchart(key) {\n",
              "      const quickchartButtonEl =\n",
              "        document.querySelector('#' + key + ' button');\n",
              "      quickchartButtonEl.disabled = true;  // To prevent multiple clicks.\n",
              "      quickchartButtonEl.classList.add('colab-df-spinner');\n",
              "      try {\n",
              "        const charts = await google.colab.kernel.invokeFunction(\n",
              "            'suggestCharts', [key], {});\n",
              "      } catch (error) {\n",
              "        console.error('Error during call to suggestCharts:', error);\n",
              "      }\n",
              "      quickchartButtonEl.classList.remove('colab-df-spinner');\n",
              "      quickchartButtonEl.classList.add('colab-df-quickchart-complete');\n",
              "    }\n",
              "    (() => {\n",
              "      let quickchartButtonEl =\n",
              "        document.querySelector('#df-150eece8-444e-41c7-bf84-142c1b4d0127 button');\n",
              "      quickchartButtonEl.style.display =\n",
              "        google.colab.kernel.accessAllowed ? 'block' : 'none';\n",
              "    })();\n",
              "  </script>\n",
              "</div>\n",
              "\n",
              "  <div id=\"id_84b343ed-4835-456d-a690-5bcf0252a5e3\">\n",
              "    <style>\n",
              "      .colab-df-generate {\n",
              "        background-color: #E8F0FE;\n",
              "        border: none;\n",
              "        border-radius: 50%;\n",
              "        cursor: pointer;\n",
              "        display: none;\n",
              "        fill: #1967D2;\n",
              "        height: 32px;\n",
              "        padding: 0 0 0 0;\n",
              "        width: 32px;\n",
              "      }\n",
              "\n",
              "      .colab-df-generate:hover {\n",
              "        background-color: #E2EBFA;\n",
              "        box-shadow: 0px 1px 2px rgba(60, 64, 67, 0.3), 0px 1px 3px 1px rgba(60, 64, 67, 0.15);\n",
              "        fill: #174EA6;\n",
              "      }\n",
              "\n",
              "      [theme=dark] .colab-df-generate {\n",
              "        background-color: #3B4455;\n",
              "        fill: #D2E3FC;\n",
              "      }\n",
              "\n",
              "      [theme=dark] .colab-df-generate:hover {\n",
              "        background-color: #434B5C;\n",
              "        box-shadow: 0px 1px 3px 1px rgba(0, 0, 0, 0.15);\n",
              "        filter: drop-shadow(0px 1px 2px rgba(0, 0, 0, 0.3));\n",
              "        fill: #FFFFFF;\n",
              "      }\n",
              "    </style>\n",
              "    <button class=\"colab-df-generate\" onclick=\"generateWithVariable('ai_df')\"\n",
              "            title=\"Generate code using this dataframe.\"\n",
              "            style=\"display:none;\">\n",
              "\n",
              "  <svg xmlns=\"http://www.w3.org/2000/svg\" height=\"24px\"viewBox=\"0 0 24 24\"\n",
              "       width=\"24px\">\n",
              "    <path d=\"M7,19H8.4L18.45,9,17,7.55,7,17.6ZM5,21V16.75L18.45,3.32a2,2,0,0,1,2.83,0l1.4,1.43a1.91,1.91,0,0,1,.58,1.4,1.91,1.91,0,0,1-.58,1.4L9.25,21ZM18.45,9,17,7.55Zm-12,3A5.31,5.31,0,0,0,4.9,8.1,5.31,5.31,0,0,0,1,6.5,5.31,5.31,0,0,0,4.9,4.9,5.31,5.31,0,0,0,6.5,1,5.31,5.31,0,0,0,8.1,4.9,5.31,5.31,0,0,0,12,6.5,5.46,5.46,0,0,0,6.5,12Z\"/>\n",
              "  </svg>\n",
              "    </button>\n",
              "    <script>\n",
              "      (() => {\n",
              "      const buttonEl =\n",
              "        document.querySelector('#id_84b343ed-4835-456d-a690-5bcf0252a5e3 button.colab-df-generate');\n",
              "      buttonEl.style.display =\n",
              "        google.colab.kernel.accessAllowed ? 'block' : 'none';\n",
              "\n",
              "      buttonEl.onclick = () => {\n",
              "        google.colab.notebook.generateWithVariable('ai_df');\n",
              "      }\n",
              "      })();\n",
              "    </script>\n",
              "  </div>\n",
              "\n",
              "    </div>\n",
              "  </div>\n"
            ],
            "application/vnd.google.colaboratory.intrinsic+json": {
              "type": "dataframe",
              "variable_name": "ai_df",
              "summary": "{\n  \"name\": \"ai_df\",\n  \"rows\": 10000,\n  \"fields\": [\n    {\n      \"column\": \"orig_str\",\n      \"properties\": {\n        \"dtype\": \"string\",\n        \"num_unique_values\": 10000,\n        \"samples\": [\n          \"Being Against An Extended School Day\\n\\n-\\n\\nGeneric_Name\\n\\nEducation can be considered to have an immense and influential extent over the preparation of individuals within the constantly expanding world. It can determine how a future employee may react to a circumstance or perhaps how they may solve it. Entire generations have been based upon education. Fundamentals such as algebra and language skills learned by these individuals have sculpted the process for man to touch the Moon and to cease global crises. All of this has possibly resulted in the world we exist in today. My perspective on the circumstance is that the school board should not increase the school's schedule due to the following: the current schedule already establishes 7 hours of probable physical and intellectual progression, students can experience more unproductive and negative entities, and that the addition of one and a half hours may produce incompatibilities towards both student and related individual schedules.\\n\\nBeginning with the 7-hour process, students enter the building and perhaps have already encountered a dilemma. Certain peers may have caught the bus late or arrived earlier than allowed to. Afterwards, they could be in their classes trying to understand how a certain concept functions with another and may simultaneously be attempting to concluded a page of homework. Moving from class periods to lunch, they may find themselves perplexed at what they are going to do with their locker's present condition. Even at the end of the day they may be questioning what to do with their best friend while they both have separate projects due tomorrow. In essence, a student's day can be of highly troubling challenges as well as instances that an be excessively stressful in relation to the students alone.\\n\\nWith the prolonging of the day present, multiple casual difficulties may be amplified whilst new forms of faults can be felt by many students. A select few could include having to finish more assignments, receiving an increase of homework, and quite more. Certain subject periods may become uninteresting after critically focusing time upon them, and other periods may become shorter in order to cope the extension of time. Events that have a possibility of occurring throughout the day can be unintentionally imposing and certain situations may very well be perceived by an array of people as impossible to conclude with the aforementioned extension.\\n\\nA final note pertaining to the topic is that a longer daily routine may lead to extensive conflict with faculty, student, guardian time frames. Students can have extracurricular activities that can require adequate time to function properly such as baseball and/or team swimming. The parents and guardians of the students may now not have time to fulfill their career schedules in order to react with their children and could result in negative consequences.\\n\\nFaculty members may have to stay a longer duration to cleanse or conclude their occupational duties because of the excess of materials and activities. The people apparent within the school and to some degree outside of it could be left with the severe imbalance of two correlating but differed schedules they must interact with.\\n\\nThough a multitude of negative concepts and events may be associated with the topic of extending the day, there are quite in fact a variety of benefits to such a transformation. A prolonged schedule can be excellent for the further study of a subject as well as direct application. Homework can have a higher chance of being finished within school hours. Socialization in lunch and gym sessions could be extended. However, negative concepts can still be present with the solutions, which may indicate that no matter what may be of the scenario, unproductive elements can still remain.\\n\\nAs previously mentioned, I take a view that is against the prolongment of the academic schedule as it relates to incompatibilities for multiple individuals, an increase in negativity, and the current time frame and activities of school.\\n\\nOnce again, parents and guardians may have to reduce time at their positions in order to cope with shift of schedule. Homework and subject directives may become more significant in amount and requirement, perhaps stressing the students and teachers to quite the degree. The current schedule alone has multitudes of events, activities, and concepts that are brimming in attentiveness and consumption. Benefits and negatives of the school lengthening its duration are and can be present, but truly take into consideration what a change in a time frame could result in; its impacts can be irreversibly. \",\n          \"You are presented with one of the toughest choices in your life.\\n\\nAs a gift, you received two tickets to Disney World.\\n\\nOne is for you, and the other is for whoever you choose.\\n\\nAll of a sudden, a million questions and possibilities fill your head.\\n\\nWould you rather go to Disney World with your best friend or your significant other?\\n\\nWhat about your brother, uncle, or mom?\\n\\nWith a problem like this, you have to seek advice.\\n\\nHave you ever had an issue so tough that you needed to seek advice?\\n\\nI know for certain that I have encountered this problem before.\\n\\nWith issues like that, I always seek advice from numerous people before making my final decision.\\n\\nI believe seeking multiple opinions can help someone make a better choice because you can hear other people's points of view, determine what the best choice is by finding which answer is said most, and learn life lessons from the people you seek advice from.\\n\\nA big reason you should seek advice from more than one person is because you can hear different points of view.\\n\\nBy asking many people for advice on the situation, you encounter people that are wiser, smarter, and far more experienced than yourself.\\n\\nFor example, I remember encountering a situation as a fifth grader where I had to choose between saving my money or buying a new gaming system.\\n\\nI had been saving this money since fourth grade, and I had accumulated more than four hundred dollars.\\n\\nWhen I went over to my cousin's house, I was able to play on his gaming system, and I thought it was really fun.\\n\\nBefore I left, I made sure to ask him if I should invest in the same gaming system or to save the money.\\n\\nHis response was to buy the system.\\n\\nEven though I got the advice I needed, I made sure to ask other people the same question.\\n\\nNext, I remember asking my parents if it would be worth it.\\n\\nMy mom had told me that we already had lots of video games.\\n\\nOn the other hand, my dad told me that it was my money, and if this is what I decided to spend is on, it was completely fine.\\n\\nAfter seeking multiple points of view, I had finally made my decision.\\n\\nI was going to buy the gaming system.\\n\\nTo this day, I still play on that console, and I do not regret my investment.\\n\\nAfter asking many people, you start to see a pattern in answers.\\n\\nIn my case, I figured out that the majority of people I asked said it was a good idea to buy the console, and this leads into my next point.\\n\\nAsking many people for advice can also be beneficial because you can determine what the proper choice is by examining what answer people reply most.\\n\\nIf we go back to my story about whether or not to buy the console, the answer I received most was, \\\"Yes.\\\"\\n\\nUltimately, that was a big factor that told me I should buy the console.\\n\\nIf you ask many people the same question and you get the same answer, whatever they are telling you is probably the smart and correct thing to do.\\n\\nIt may not necessarily be the decision you were thinking of making, but it may be one to consider.\\n\\nBack at the beginning of the school year, my English teacher assigned our class a project where we have to make a difference in our community.\\n\\nAt first, my idea was to organize a community-wide sports equipment drive.\\n\\nWhen I got home that day, I discussed my idea with my parents, and they told me that was not the best idea, and that we should sit down and discuss a better idea.\\n\\nI decided I wanted to prove them wrong.\\n\\nFast forward a couple of months, and I am struggling to get anything done on the project.\\n\\nThat night, I told my parents that my idea would not work, and they just gave me that \\\"I-told-you-so\\\" look.\\n\\nFrom there, we devised a plan where I would instead help the volunteers on the Blue Ridge Parkway.\\n\\nRight now, my project is going great, and I am close to crossing the finish line of completion.\\n\\nFrom that, I learned that you need to take advice of others because, in my case, my parents knew what they were talking about.\\n\\nIf multiple people tell you that something is not the right choice, then you should probably reconsider.\\n\\nThat was a life lesson I needed to learn, but from seeking advice from more than one person, you learn many life lessons.\\n\\nLast but not least, asking more than one person for advice can teach you very valuable life lessons that will help along the path of life.\\n\\nFrom my experience of failure from my school project, I learned that even though you think your idea sounds good, you should still be open to improvement.\\n\\nMy decision on buying something I wanted taught me opportunity cost.\\n\\nFrom asking people for advice, you can learn may valuable things that will assist you.\\n\\nNot only do these decisions affect a singular situation, but they can be applied to life very easily.\\n\\nNow, if I am interested in purchasing anything, I always weigh the options, and ask others what the best thing to do would be.\\n\\nI learned that skill from asking people for advice.\\n\\nThese are the lessons that are learned first hand.\\n\\nYou do not just read them in a book, but instead, you are taught by experience and others.\\n\\nAfter asking for advice from numerous people, you ultimately decide that you want to take your brother with you to Disney World.\\n\\nThough those people you did not choose may feel bummed out, you know you made a good, educated choice because you took advice not just from one person, but from many.\\n\\nIf you had only asked one person, they could have told you to take your grandfather, dog, cousin, son, etc.\\n\\nInstead, asking many people gave you a better grasp on the situation, ultimately allowing you to determine the best choice is to take your brother.\\n\\nAsking many people for advice before making a decision is a good choice because you can examine other people's opinions on the situation, figure out what the best choice is by finding the most common answer, and learn many life lessons.\\n\\nSo the next time you face a difficult choice, ask more than one person for advice before coming up with your verdict.\",\n          \"Richard Nion, Jimmy Carter, and Bob Dole and other companies have all agreed to abolish the Electoral College and I to agree for many reasons. One of the major issue is that the voters don't know what really happens to thier vote. Another issue to add is that ''the electoral collage is unfair, outdated, and irrational\\\".\\n\\nDo the citizens that go and vote for their candidate actually choose for the candidate's electors? In the text is states that not only do I vote for candidate's electors but also '' help choose the state's electors when you vote for the president''. This meaning that my vote counts for several things, but was I aware? Maybe not because I simply think I'm voting for a candidate running for presidenty not the candidate's elector. The Electoral College was ment for a compromise between Congress and Citizens not all these extra people.\\n\\n''This year voters can expect another close election in which the popular vote winner could loose again''. Certainly this doesn't makes sence because how could the winner of the votes loose? Which is one of the reasons why the the Electoral College is unfair. Also in the beggining of the article it's said that '' A majority of 270 electoral votes is required to elect the President''. Meaning that the president already has an advance in the votes. I think that the Electoral College process should be gone for its unfairity and be replaced to a new way of election.\\n\\nIn the new way of electing our president should be in a few steps and also not worrying about the candidate already having an advanced amount of votes. Instead of the votes going place to place they should just be in the state and counted for equaly no ajustments, then after the election send to Congress or the National Archives as part of the offical records of the presidential election.\\n\\nIn conclusion the electoral College should be taken out permantly and be replaced by a new way or process when it comes to the citizens votes and the election of the cadidates.\"\n        ],\n        \"semantic_type\": \"\",\n        \"description\": \"\"\n      }\n    },\n    {\n      \"column\": \"label\",\n      \"properties\": {\n        \"dtype\": \"number\",\n        \"std\": 0.4523370987273635,\n        \"min\": 0.0,\n        \"max\": 1.0,\n        \"num_unique_values\": 2,\n        \"samples\": [\n          1.0,\n          0.0\n        ],\n        \"semantic_type\": \"\",\n        \"description\": \"\"\n      }\n    }\n  ]\n}"
            }
          },
          "metadata": {},
          "execution_count": 9
        }
      ]
    },
    {
      "cell_type": "markdown",
      "source": [
        "## Balance Classes"
      ],
      "metadata": {
        "id": "tmIFLYfEAEWm"
      }
    },
    {
      "cell_type": "code",
      "source": [
        "# separate classes to support resampling\n",
        "class_majority = ai_df[ai_df['label'] == 0.0]\n",
        "class_minority = ai_df[ai_df['label'] == 1.0]\n",
        "\n",
        "# print class distribution before resampling\n",
        "print('Class Distribution BEFORE Resampling:')\n",
        "print('-------------------------------------')\n",
        "print('Majority Samples (Human - Class 0):', len(class_majority))\n",
        "print('Minority Samples (AI - Class 1):', len(class_minority))\n",
        "\n",
        "# resample (downsample) majority class to equal minority class\n",
        "class_majority_resample = resample(class_majority, replace=False, n_samples=len(class_minority), random_state=0)\n",
        "\n",
        "# join dataframes\n",
        "ai_df_balanced = pd.concat([class_minority, class_majority_resample])\n",
        "\n",
        "# obtain class counts from new dataframe to verify\n",
        "class_count_human = len(ai_df_balanced[ai_df_balanced['label'] == 0.0])\n",
        "class_count_ai = len(ai_df_balanced[ai_df_balanced['label'] == 1.0])\n",
        "\n",
        "# print class distribution after resampling\n",
        "print('\\nClass Distribution AFTER Resampling:')\n",
        "print('-------------------------------------')\n",
        "print('Majority Samples (Human - Class 0):', class_count_human)\n",
        "print('Minority Samples (AI - Class 1):', class_count_ai)"
      ],
      "metadata": {
        "colab": {
          "base_uri": "https://localhost:8080/"
        },
        "id": "qJ5QNvHKBO3s",
        "outputId": "10f8d740-72cc-475e-a83f-56bf75db1dcf"
      },
      "execution_count": 10,
      "outputs": [
        {
          "output_type": "stream",
          "name": "stdout",
          "text": [
            "Class Distribution BEFORE Resampling:\n",
            "-------------------------------------\n",
            "Majority Samples (Human - Class 0): 7131\n",
            "Minority Samples (AI - Class 1): 2869\n",
            "\n",
            "Class Distribution AFTER Resampling:\n",
            "-------------------------------------\n",
            "Majority Samples (Human - Class 0): 2869\n",
            "Minority Samples (AI - Class 1): 2869\n"
          ]
        }
      ]
    },
    {
      "cell_type": "markdown",
      "source": [
        "## Build Torch Datasets Class"
      ],
      "metadata": {
        "id": "0Ro1lM4o9Llr"
      }
    },
    {
      "cell_type": "code",
      "source": [
        "# define class to build torch dataset required for pytorch training\n",
        "class TorchDataset(Dataset):\n",
        "    def __init__(self, texts, labels, tokenizer, max_length):\n",
        "        self.texts = texts\n",
        "        self.labels = labels\n",
        "        self.tokenizer = tokenizer\n",
        "\n",
        "    def __len__(self):\n",
        "        return len(self.labels)\n",
        "\n",
        "    def __getitem__(self, idx):\n",
        "\n",
        "        # obtain text and label by index\n",
        "        text = self.texts[idx]\n",
        "        label = torch.tensor(self.labels[idx], dtype=torch.float32)\n",
        "\n",
        "        # tokenize text\n",
        "        tokenized_text = self.tokenizer(text, padding='max_length', truncation=True, return_tensors='pt')\n",
        "\n",
        "        # obtain input_ids and attention_mask from tokenized text\n",
        "        input_ids = tokenized_text['input_ids']\n",
        "        attention_mask = tokenized_text['attention_mask']\n",
        "\n",
        "        # construct output\n",
        "        out = {\n",
        "                'input_ids': input_ids,\n",
        "                'attention_mask': attention_mask,\n",
        "                'label': label\n",
        "        }\n",
        "\n",
        "        return out"
      ],
      "metadata": {
        "id": "IHI2Ja0B9sIM"
      },
      "execution_count": 11,
      "outputs": []
    },
    {
      "cell_type": "markdown",
      "source": [
        "## Build and Split Datasets"
      ],
      "metadata": {
        "id": "klUFflF9C0rw"
      }
    },
    {
      "cell_type": "code",
      "source": [
        "# define X and y from our entire balanced dataframe\n",
        "X = ai_df_balanced['orig_str']\n",
        "y = ai_df_balanced['label']\n",
        "\n",
        "# first split dataset into 90% training and 10% testing, shuffle and stratify classes\n",
        "X_train, X_test, y_train, y_test = train_test_split(X, y, test_size=.10, random_state=0, shuffle=True, stratify=y)\n",
        "\n",
        "# next split resulting training set into 80% training and 20% validation, shuffle and stratify classes\n",
        "X_train, X_val, y_train, y_val = train_test_split(X_train, y_train, test_size=.20, random_state=0, shuffle=True, stratify=y_train)\n",
        "\n",
        "# reset indices\n",
        "X_train.reset_index(drop=True, inplace=True)\n",
        "X_val.reset_index(drop=True, inplace=True)\n",
        "X_test.reset_index(drop=True, inplace=True)\n",
        "y_train.reset_index(drop=True, inplace=True)\n",
        "y_val.reset_index(drop=True, inplace=True)\n",
        "y_test.reset_index(drop=True, inplace=True)\n",
        "\n",
        "# load pretrained tokenizer\n",
        "tokenizer = DistilBertTokenizer.from_pretrained('distilbert-base-cased')\n",
        "\n",
        "# define max length for sequences\n",
        "max_length = 512\n",
        "\n",
        "# call function to build torch datasets\n",
        "train_dataset = TorchDataset(X_train, y_train, tokenizer, max_length)\n",
        "val_dataset = TorchDataset(X_val, y_val, tokenizer, max_length)\n",
        "test_dataset = TorchDataset(X_test, y_test, tokenizer, max_length)\n",
        "\n",
        "# print dataset sizes\n",
        "print('Dataset sizes AFTER splitting:')\n",
        "print('------------------------------')\n",
        "print('Train:', len(train_dataset))\n",
        "print('Val:', len(val_dataset))\n",
        "print('Test:', len(test_dataset))"
      ],
      "metadata": {
        "colab": {
          "base_uri": "https://localhost:8080/"
        },
        "id": "P2WocDypI84l",
        "outputId": "d4b8a524-4e45-4a5c-d319-2141ac36af60"
      },
      "execution_count": 12,
      "outputs": [
        {
          "output_type": "stream",
          "name": "stdout",
          "text": [
            "Dataset sizes AFTER splitting:\n",
            "------------------------------\n",
            "Train: 4131\n",
            "Val: 1033\n",
            "Test: 574\n"
          ]
        },
        {
          "output_type": "stream",
          "name": "stderr",
          "text": [
            "/usr/local/lib/python3.10/dist-packages/huggingface_hub/utils/_token.py:88: UserWarning: \n",
            "The secret `HF_TOKEN` does not exist in your Colab secrets.\n",
            "To authenticate with the Hugging Face Hub, create a token in your settings tab (https://huggingface.co/settings/tokens), set it as secret in your Google Colab and restart your session.\n",
            "You will be able to reuse this secret in all of your notebooks.\n",
            "Please note that authentication is recommended but still optional to access public models or datasets.\n",
            "  warnings.warn(\n"
          ]
        }
      ]
    },
    {
      "cell_type": "markdown",
      "source": [
        "## Create Dataloaders"
      ],
      "metadata": {
        "id": "t206fmKvHoBN"
      }
    },
    {
      "cell_type": "code",
      "source": [
        "# define custom collate_fn to zero-pad sequences\n",
        "def collate_fn_padding(batch):\n",
        "\n",
        "    # obtain input_ids, attention_masks, and labels from batch, convert to torch tensors\n",
        "    input_ids = [sample['input_ids'] for sample in batch]\n",
        "    attention_masks = [sample['attention_mask'] for sample in batch]\n",
        "    labels = torch.tensor([sample['label'] for sample in batch], dtype=torch.float32)\n",
        "\n",
        "    # pad input sequences to maximum sequence length in batch\n",
        "    max_length = max(len(input_id) for input_id in input_ids)\n",
        "    padded_input_id = [F.pad(input=input_id, pad=(0, max_length - len(input_id)), mode='constant', value=0) for input_id in input_ids]\n",
        "    padded_attention_mask = [F.pad(input=attention_mask, pad=(0, max_length - len(attention_mask)), mode='constant', value=0) for attention_mask in attention_masks]\n",
        "\n",
        "    # put the tensors together in a single batch\n",
        "    padded_input_ids = torch.stack(padded_input_id).squeeze()\n",
        "    padded_attention_masks = torch.stack(padded_attention_mask).squeeze()\n",
        "\n",
        "    # convert labels to 2d for compatibility\n",
        "    labels = labels.unsqueeze(1)\n",
        "\n",
        "    return padded_input_ids, padded_attention_masks, labels"
      ],
      "metadata": {
        "id": "3AWwfDYsP3Ky"
      },
      "execution_count": 13,
      "outputs": []
    },
    {
      "cell_type": "code",
      "source": [
        "# create dataloaders for train, val, and test datasets\n",
        "# specify custom collate_fn\n",
        "train_dataloader = DataLoader(train_dataset, batch_size=16, collate_fn=collate_fn_padding, shuffle=True)\n",
        "val_dataloader = DataLoader(val_dataset, batch_size=16, collate_fn=collate_fn_padding, shuffle=True)\n",
        "test_dataloader = DataLoader(test_dataset, batch_size=16, collate_fn=collate_fn_padding, shuffle=True)"
      ],
      "metadata": {
        "id": "R1FHJRi3Htqn"
      },
      "execution_count": 14,
      "outputs": []
    },
    {
      "cell_type": "markdown",
      "source": [
        "### Print Sample Batch Sizes"
      ],
      "metadata": {
        "id": "sqG1SKoPPMq8"
      }
    },
    {
      "cell_type": "code",
      "source": [
        "# obtain inputs and labels of dataloader sample batches\n",
        "train_inputs, train_attention_masks, train_labels = next(iter(train_dataloader))\n",
        "val_inputs, val_attention_masks, val_labels = next(iter(val_dataloader))\n",
        "test_inputs, test_attention_masks, test_labels = next(iter(test_dataloader))\n",
        "\n",
        "# print sample batch inputs size\n",
        "print('Sample Batch Inputs Size:')\n",
        "print('-------------------------')\n",
        "print('Train:', train_inputs.size())\n",
        "print('Val:', val_inputs.size())\n",
        "print('Test:', test_inputs.size())\n",
        "\n",
        "# print sample batch labels size\n",
        "print('\\nSample Batch Labels Size:')\n",
        "print('-------------------------')\n",
        "print('Train:', train_labels.size())\n",
        "print('Val:', val_labels.size())\n",
        "print('Test:', test_labels.size())"
      ],
      "metadata": {
        "colab": {
          "base_uri": "https://localhost:8080/"
        },
        "id": "Rma0X1lIH-Hv",
        "outputId": "9b8e99e3-43c4-42ba-eda7-632353b3467a"
      },
      "execution_count": 15,
      "outputs": [
        {
          "output_type": "stream",
          "name": "stdout",
          "text": [
            "Sample Batch Inputs Size:\n",
            "-------------------------\n",
            "Train: torch.Size([16, 512])\n",
            "Val: torch.Size([16, 512])\n",
            "Test: torch.Size([16, 512])\n",
            "\n",
            "Sample Batch Labels Size:\n",
            "-------------------------\n",
            "Train: torch.Size([16, 1])\n",
            "Val: torch.Size([16, 1])\n",
            "Test: torch.Size([16, 1])\n"
          ]
        }
      ]
    },
    {
      "cell_type": "markdown",
      "source": [
        "# Pretrained DistilBERT"
      ],
      "metadata": {
        "id": "8EFY0R1ZPsQa"
      }
    },
    {
      "cell_type": "markdown",
      "source": [
        "## Load from Pretrained"
      ],
      "metadata": {
        "id": "CqiFz_AG81p9"
      }
    },
    {
      "cell_type": "code",
      "source": [
        "# load cased variant from pretrained\n",
        "pretrained_model = DistilBertForSequenceClassification.from_pretrained('distilbert-base-cased')\n",
        "\n",
        "# set to device\n",
        "pretrained_model.to(device)"
      ],
      "metadata": {
        "colab": {
          "base_uri": "https://localhost:8080/",
          "height": 674,
          "referenced_widgets": [
            "34eb7a96bb914326946889f738da1328",
            "cc0393d38d9c4f6cbe1b1d85fbee7d7c",
            "e45834f464894d4da2979fe944e6bd1d",
            "1cd61228a82f4faebaf416392b2563fd",
            "640d40d1d6c645ef87f9e13589cf0990",
            "fa9f5380b40a40c29c539ebc3e62c023",
            "00ffcd6d290e443ea2fc0215e565db44",
            "e7ddb70b59a844848e622e9516fb8b4e",
            "87512cd14a2a43518a2dec4c5166b5b6",
            "511e596d10b8444b84d1921b8c481a76",
            "7bf21b2f600243f29848f2be7f5008f7"
          ]
        },
        "id": "KY_R7os3czXC",
        "outputId": "356d1960-3b4d-410e-bbb0-95a650d15471"
      },
      "execution_count": 16,
      "outputs": [
        {
          "output_type": "display_data",
          "data": {
            "text/plain": [
              "model.safetensors:   0%|          | 0.00/263M [00:00<?, ?B/s]"
            ],
            "application/vnd.jupyter.widget-view+json": {
              "version_major": 2,
              "version_minor": 0,
              "model_id": "34eb7a96bb914326946889f738da1328"
            }
          },
          "metadata": {}
        },
        {
          "output_type": "stream",
          "name": "stderr",
          "text": [
            "Some weights of DistilBertForSequenceClassification were not initialized from the model checkpoint at distilbert-base-cased and are newly initialized: ['classifier.bias', 'classifier.weight', 'pre_classifier.bias', 'pre_classifier.weight']\n",
            "You should probably TRAIN this model on a down-stream task to be able to use it for predictions and inference.\n"
          ]
        },
        {
          "output_type": "execute_result",
          "data": {
            "text/plain": [
              "DistilBertForSequenceClassification(\n",
              "  (distilbert): DistilBertModel(\n",
              "    (embeddings): Embeddings(\n",
              "      (word_embeddings): Embedding(28996, 768, padding_idx=0)\n",
              "      (position_embeddings): Embedding(512, 768)\n",
              "      (LayerNorm): LayerNorm((768,), eps=1e-12, elementwise_affine=True)\n",
              "      (dropout): Dropout(p=0.1, inplace=False)\n",
              "    )\n",
              "    (transformer): Transformer(\n",
              "      (layer): ModuleList(\n",
              "        (0-5): 6 x TransformerBlock(\n",
              "          (attention): MultiHeadSelfAttention(\n",
              "            (dropout): Dropout(p=0.1, inplace=False)\n",
              "            (q_lin): Linear(in_features=768, out_features=768, bias=True)\n",
              "            (k_lin): Linear(in_features=768, out_features=768, bias=True)\n",
              "            (v_lin): Linear(in_features=768, out_features=768, bias=True)\n",
              "            (out_lin): Linear(in_features=768, out_features=768, bias=True)\n",
              "          )\n",
              "          (sa_layer_norm): LayerNorm((768,), eps=1e-12, elementwise_affine=True)\n",
              "          (ffn): FFN(\n",
              "            (dropout): Dropout(p=0.1, inplace=False)\n",
              "            (lin1): Linear(in_features=768, out_features=3072, bias=True)\n",
              "            (lin2): Linear(in_features=3072, out_features=768, bias=True)\n",
              "            (activation): GELUActivation()\n",
              "          )\n",
              "          (output_layer_norm): LayerNorm((768,), eps=1e-12, elementwise_affine=True)\n",
              "        )\n",
              "      )\n",
              "    )\n",
              "  )\n",
              "  (pre_classifier): Linear(in_features=768, out_features=768, bias=True)\n",
              "  (classifier): Linear(in_features=768, out_features=2, bias=True)\n",
              "  (dropout): Dropout(p=0.2, inplace=False)\n",
              ")"
            ]
          },
          "metadata": {},
          "execution_count": 16
        }
      ]
    },
    {
      "cell_type": "markdown",
      "source": [
        "### Review Pretrained DistilBERT Config"
      ],
      "metadata": {
        "id": "2RveuwNOtpyL"
      }
    },
    {
      "cell_type": "code",
      "source": [
        "# show model config\n",
        "config = pretrained_model.config\n",
        "config"
      ],
      "metadata": {
        "colab": {
          "base_uri": "https://localhost:8080/"
        },
        "id": "qCM_WRPvdhwb",
        "outputId": "c371c2db-65c7-4623-aad2-d53e13e1dfe2"
      },
      "execution_count": 17,
      "outputs": [
        {
          "output_type": "execute_result",
          "data": {
            "text/plain": [
              "DistilBertConfig {\n",
              "  \"_name_or_path\": \"distilbert-base-cased\",\n",
              "  \"activation\": \"gelu\",\n",
              "  \"architectures\": [\n",
              "    \"DistilBertForMaskedLM\"\n",
              "  ],\n",
              "  \"attention_dropout\": 0.1,\n",
              "  \"dim\": 768,\n",
              "  \"dropout\": 0.1,\n",
              "  \"hidden_dim\": 3072,\n",
              "  \"initializer_range\": 0.02,\n",
              "  \"max_position_embeddings\": 512,\n",
              "  \"model_type\": \"distilbert\",\n",
              "  \"n_heads\": 12,\n",
              "  \"n_layers\": 6,\n",
              "  \"output_past\": true,\n",
              "  \"pad_token_id\": 0,\n",
              "  \"qa_dropout\": 0.1,\n",
              "  \"seq_classif_dropout\": 0.2,\n",
              "  \"sinusoidal_pos_embds\": false,\n",
              "  \"tie_weights_\": true,\n",
              "  \"transformers_version\": \"4.38.2\",\n",
              "  \"vocab_size\": 28996\n",
              "}"
            ]
          },
          "metadata": {},
          "execution_count": 17
        }
      ]
    },
    {
      "cell_type": "markdown",
      "source": [
        "### Update Pretrained DistilBERT Config"
      ],
      "metadata": {
        "id": "0648cc7gSdLJ"
      }
    },
    {
      "cell_type": "code",
      "source": [
        "# update model config\n",
        "config.hidden_dim = 1024 # reduce from 3072\n",
        "config.n_layers = 2 # reduce from 6\n",
        "\n",
        "# reinitialize new model with updated configuration\n",
        "pretrained_model = DistilBertForSequenceClassification(config)\n",
        "\n",
        "# set to device\n",
        "pretrained_model.to(device)"
      ],
      "metadata": {
        "colab": {
          "base_uri": "https://localhost:8080/"
        },
        "id": "kNG-meNBMULC",
        "outputId": "71dc3b89-9474-4584-a6b7-9010ae7812cb"
      },
      "execution_count": 18,
      "outputs": [
        {
          "output_type": "execute_result",
          "data": {
            "text/plain": [
              "DistilBertForSequenceClassification(\n",
              "  (distilbert): DistilBertModel(\n",
              "    (embeddings): Embeddings(\n",
              "      (word_embeddings): Embedding(28996, 768, padding_idx=0)\n",
              "      (position_embeddings): Embedding(512, 768)\n",
              "      (LayerNorm): LayerNorm((768,), eps=1e-12, elementwise_affine=True)\n",
              "      (dropout): Dropout(p=0.1, inplace=False)\n",
              "    )\n",
              "    (transformer): Transformer(\n",
              "      (layer): ModuleList(\n",
              "        (0-1): 2 x TransformerBlock(\n",
              "          (attention): MultiHeadSelfAttention(\n",
              "            (dropout): Dropout(p=0.1, inplace=False)\n",
              "            (q_lin): Linear(in_features=768, out_features=768, bias=True)\n",
              "            (k_lin): Linear(in_features=768, out_features=768, bias=True)\n",
              "            (v_lin): Linear(in_features=768, out_features=768, bias=True)\n",
              "            (out_lin): Linear(in_features=768, out_features=768, bias=True)\n",
              "          )\n",
              "          (sa_layer_norm): LayerNorm((768,), eps=1e-12, elementwise_affine=True)\n",
              "          (ffn): FFN(\n",
              "            (dropout): Dropout(p=0.1, inplace=False)\n",
              "            (lin1): Linear(in_features=768, out_features=1024, bias=True)\n",
              "            (lin2): Linear(in_features=1024, out_features=768, bias=True)\n",
              "            (activation): GELUActivation()\n",
              "          )\n",
              "          (output_layer_norm): LayerNorm((768,), eps=1e-12, elementwise_affine=True)\n",
              "        )\n",
              "      )\n",
              "    )\n",
              "  )\n",
              "  (pre_classifier): Linear(in_features=768, out_features=768, bias=True)\n",
              "  (classifier): Linear(in_features=768, out_features=2, bias=True)\n",
              "  (dropout): Dropout(p=0.2, inplace=False)\n",
              ")"
            ]
          },
          "metadata": {},
          "execution_count": 18
        }
      ]
    },
    {
      "cell_type": "markdown",
      "source": [
        "# Model Training"
      ],
      "metadata": {
        "id": "fn_diBqYQM1M"
      }
    },
    {
      "cell_type": "markdown",
      "source": [
        "## Define Training Function"
      ],
      "metadata": {
        "id": "n7PVESkSQFlW"
      }
    },
    {
      "cell_type": "code",
      "source": [
        "# define training function\n",
        "def train(\n",
        "        model,\n",
        "        save_path,\n",
        "        train_dataloader,\n",
        "        val_dataloader,\n",
        "        num_epochs,\n",
        "        lr,\n",
        "        patience\n",
        "):\n",
        "    criterion = nn.BCELoss() # binary cross entropy\n",
        "    optimizer = torch.optim.Adam(model.parameters(), lr=lr) # adam optimizer\n",
        "\n",
        "    # running losses\n",
        "    train_losses = []\n",
        "    val_losses = []\n",
        "\n",
        "    # binary accuracy metric and running accuracies\n",
        "    metric = BinaryAccuracy(device=device)\n",
        "    train_accuracies = []\n",
        "    val_accuracies = []\n",
        "\n",
        "    # variables to save best model and early stopping\n",
        "    best_val_accuracy = 0.0 # initial value for comparison\n",
        "    stalled_training_count = 0 # initialize counter\n",
        "\n",
        "    # iterate through each epoch\n",
        "    for epoch in range(num_epochs):\n",
        "\n",
        "        # reset per-epoch losses and metric\n",
        "        epoch_train_loss = 0.0\n",
        "        epoch_val_loss = 0.0\n",
        "        metric.reset()\n",
        "\n",
        "        # training loop\n",
        "        model.train() # set to train mode\n",
        "\n",
        "        for inputs, masks, labels in tqdm(train_dataloader, desc='Training'):\n",
        "\n",
        "            # set tensors to device\n",
        "            inputs = inputs.to(device)\n",
        "            masks = masks.to(device)\n",
        "            labels = labels.to(device)\n",
        "\n",
        "            # one-hot encode labels for model compatibility\n",
        "            label_indices = labels.squeeze().long()\n",
        "            encoded_labels = F.one_hot(label_indices, num_classes=2).float()\n",
        "\n",
        "            # clear gradients\n",
        "            optimizer.zero_grad()\n",
        "\n",
        "            # forward pass, obtain predictions\n",
        "            outputs = model(input_ids=inputs, attention_mask=masks, labels=encoded_labels)\n",
        "\n",
        "            # apply softmax to have predictions between 0 and 1\n",
        "            predictions = F.softmax(outputs.logits, dim=1)\n",
        "\n",
        "            # obtain cross entropy loss from model outputs\n",
        "            loss = outputs.loss\n",
        "\n",
        "            # update metric\n",
        "            metric.update(predictions[:,1].squeeze(), labels.squeeze())\n",
        "\n",
        "            # backward pass, backpropagation\n",
        "            loss.backward()\n",
        "\n",
        "            # model parameter update\n",
        "            optimizer.step()\n",
        "\n",
        "            # add loss from current training batch\n",
        "            epoch_train_loss += loss.item()\n",
        "\n",
        "        # save running loss and metrics during training\n",
        "        train_losses.append(epoch_train_loss / len(train_dataloader))\n",
        "        train_accuracies.append(metric.compute().item())\n",
        "\n",
        "        # reset metric for validation\n",
        "        metric.reset()\n",
        "\n",
        "        # validation loop\n",
        "        model.eval() # set to eval mode\n",
        "\n",
        "        # disable gradient computation\n",
        "        with torch.no_grad():\n",
        "\n",
        "            for inputs, masks, labels in tqdm(val_dataloader, desc='Validation'):\n",
        "\n",
        "                # set tensors to device\n",
        "                inputs = inputs.to(device)\n",
        "                masks = masks.to(device)\n",
        "                labels = labels.to(device)\n",
        "\n",
        "                # one-hot encode labels for model compatibility\n",
        "                label_indices = labels.squeeze().long()\n",
        "                encoded_labels = F.one_hot(label_indices, num_classes=2).float()\n",
        "\n",
        "                # obtain predictions, update metric and val loss\n",
        "                val_outputs = model(input_ids=inputs, attention_mask=masks, labels=encoded_labels)\n",
        "\n",
        "                # apply softmax to have predictions between 0 and 1\n",
        "                val_predictions = F.softmax(val_outputs.logits, dim=1)\n",
        "\n",
        "                # obtain cross entropy loss from model outputs\n",
        "                val_loss = val_outputs.loss\n",
        "\n",
        "                # update metric\n",
        "                metric.update(val_predictions[:,1].squeeze(), labels.squeeze())\n",
        "\n",
        "                # add loss from current validation batch\n",
        "                epoch_val_loss += val_loss.item()\n",
        "\n",
        "            # save running loss and metrics during validation\n",
        "            val_losses.append(epoch_val_loss / len(val_dataloader))\n",
        "            val_accuracies.append(metric.compute().item())\n",
        "\n",
        "        # print results after every specified epochs\n",
        "        if epoch % 1 == 0:\n",
        "            print(\n",
        "                ('\\nEpoch {}/{} Results --- train_loss: {:.4f} --- train_acc: {:.4f}'\n",
        "                ' --- val_loss: {:.4f} --- val_acc: {:.4f}\\n').format(\n",
        "                    epoch + 1,\n",
        "                    num_epochs,\n",
        "                    train_losses[-1],\n",
        "                    train_accuracies[-1],\n",
        "                    val_losses[-1],\n",
        "                    val_accuracies[-1]\n",
        "                )\n",
        "            )\n",
        "\n",
        "        # save best model upon val accuracy increase\n",
        "        # otherwise, check for early stopping condition\n",
        "        if val_accuracies[-1] > best_val_accuracy:\n",
        "            best_val_accuracy = val_accuracies[-1] # update best val accuracy\n",
        "            torch.save(model, save_path) # save model\n",
        "            stalled_training_count = 0 # reset counter\n",
        "        else:\n",
        "            stalled_training_count += 1 # increment counter\n",
        "\n",
        "            # check for early stopping\n",
        "            if stalled_training_count >= patience:\n",
        "                print('Early stopping...')\n",
        "                print('Validation accuracy has not improved for {} epochs.'.format(patience))\n",
        "                return train_losses, val_losses, train_accuracies, val_accuracies # exit training early\n",
        "\n",
        "\n",
        "    return train_losses, val_losses, train_accuracies, val_accuracies"
      ],
      "metadata": {
        "id": "LV_TWRgY__Mx"
      },
      "execution_count": 19,
      "outputs": []
    },
    {
      "cell_type": "markdown",
      "source": [
        "## Train Model"
      ],
      "metadata": {
        "id": "bkyrj4VTQVzZ"
      }
    },
    {
      "cell_type": "code",
      "source": [
        "# training parameters\n",
        "save_path = '/content/drive/MyDrive/models/pretrained_model.pt' # save best model\n",
        "num_epochs = 10 # number of epochs to train\n",
        "lr = 0.001 # learning rate\n",
        "patience = 2 # early stop if no improvments for this number of epochs\n",
        "\n",
        "# train model\n",
        "train_losses, val_losses, train_accuracies, val_accuracies = train(\n",
        "    pretrained_model,\n",
        "    save_path,\n",
        "    train_dataloader,\n",
        "    val_dataloader,\n",
        "    num_epochs,\n",
        "    lr,\n",
        "    patience\n",
        ")"
      ],
      "metadata": {
        "colab": {
          "base_uri": "https://localhost:8080/"
        },
        "id": "iojIycivgXWH",
        "outputId": "27af4966-98b9-4e19-999c-d2e8f80db4fc"
      },
      "execution_count": 21,
      "outputs": [
        {
          "output_type": "stream",
          "name": "stderr",
          "text": [
            "Training: 100%|██████████| 259/259 [02:29<00:00,  1.73it/s]\n",
            "Validation: 100%|██████████| 65/65 [00:26<00:00,  2.44it/s]\n"
          ]
        },
        {
          "output_type": "stream",
          "name": "stdout",
          "text": [
            "\n",
            "Epoch 1/2 Results --- train_loss: 0.4186 --- train_acc: 0.8272 --- val_loss: 0.3909 --- val_acc: 0.8596\n",
            "\n"
          ]
        },
        {
          "output_type": "stream",
          "name": "stderr",
          "text": [
            "Training: 100%|██████████| 259/259 [02:11<00:00,  1.97it/s]\n",
            "Validation: 100%|██████████| 65/65 [00:22<00:00,  2.90it/s]"
          ]
        },
        {
          "output_type": "stream",
          "name": "stdout",
          "text": [
            "\n",
            "Epoch 2/2 Results --- train_loss: 0.3251 --- train_acc: 0.8785 --- val_loss: 0.3724 --- val_acc: 0.8490\n",
            "\n"
          ]
        },
        {
          "output_type": "stream",
          "name": "stderr",
          "text": [
            "\n"
          ]
        }
      ]
    },
    {
      "cell_type": "markdown",
      "source": [
        "## Draw Learning Curves"
      ],
      "metadata": {
        "id": "r9Bwi8dWexWa"
      }
    },
    {
      "cell_type": "code",
      "source": [
        "# define function to draw learning curves\n",
        "def learning_curves(train_loss, val_loss, train_acc, val_acc):\n",
        "\n",
        "    # create subplots\n",
        "    plt.subplots(1, 2, figsize=(15, 6))\n",
        "\n",
        "    # plot model loss\n",
        "    plt.subplot(1, 2, 1)\n",
        "    plt.plot(train_loss)\n",
        "    plt.plot(val_loss)\n",
        "    plt.title('Model Loss')\n",
        "    plt.ylabel('Loss')\n",
        "    plt.xlabel('Epoch')\n",
        "    plt.legend(['Train', 'Val'], loc='upper right')\n",
        "\n",
        "    # plot model accuracy\n",
        "    plt.subplot(1, 2, 2)\n",
        "    plt.plot(train_acc)\n",
        "    plt.plot(val_acc)\n",
        "    plt.title('Model Accuracy')\n",
        "    plt.ylabel('Accuracy')\n",
        "    plt.xlabel('Epoch')\n",
        "    plt.legend(['Train', 'Val'], loc='upper right')\n",
        "\n",
        "    # show plot\n",
        "    plt.show()\n",
        "\n",
        "# call function to draw learning curves\n",
        "learning_curves(train_losses, val_losses, train_accuracies, val_accuracies)"
      ],
      "metadata": {
        "colab": {
          "base_uri": "https://localhost:8080/",
          "height": 564
        },
        "id": "yDaljSswe04g",
        "outputId": "6bae5023-d58e-4fa2-f4e4-036bb7adaf27"
      },
      "execution_count": 22,
      "outputs": [
        {
          "output_type": "display_data",
          "data": {
            "text/plain": [
              "<Figure size 1500x600 with 2 Axes>"
            ],
            "image/png": "[encoded data removed]"
          },
          "metadata": {}
        }
      ]
    },
    {
      "cell_type": "markdown",
      "source": [
        "# Model Evaluation"
      ],
      "metadata": {
        "id": "5QlmvcD3wuXS"
      }
    },
    {
      "cell_type": "markdown",
      "source": [
        "## Load Model"
      ],
      "metadata": {
        "id": "zQfCVgnzxTOS"
      }
    },
    {
      "cell_type": "code",
      "source": [
        "# set to True if needing to load model, False otherwise\n",
        "load_model = False\n",
        "\n",
        "# path to model to load\n",
        "model_path = '/content/drive/MyDrive/models/pretrained_model.pt'\n",
        "\n",
        "# load model\n",
        "if load_model == True:\n",
        "    if torch.cuda.is_available():\n",
        "        pretrained_model = torch.load(model_path) # GPU\n",
        "    else:\n",
        "        pretrained_model = torch.load(model_path, map_location=torch.device('cpu')) # CPU\n",
        "\n",
        "# set model to eval mode\n",
        "pretrained_model.eval()"
      ],
      "metadata": {
        "id": "heFY8s23xSJY",
        "colab": {
          "base_uri": "https://localhost:8080/"
        },
        "outputId": "25de7229-f484-4a09-e1bc-1783d610393c"
      },
      "execution_count": 23,
      "outputs": [
        {
          "output_type": "execute_result",
          "data": {
            "text/plain": [
              "DistilBertForSequenceClassification(\n",
              "  (distilbert): DistilBertModel(\n",
              "    (embeddings): Embeddings(\n",
              "      (word_embeddings): Embedding(28996, 768, padding_idx=0)\n",
              "      (position_embeddings): Embedding(512, 768)\n",
              "      (LayerNorm): LayerNorm((768,), eps=1e-12, elementwise_affine=True)\n",
              "      (dropout): Dropout(p=0.1, inplace=False)\n",
              "    )\n",
              "    (transformer): Transformer(\n",
              "      (layer): ModuleList(\n",
              "        (0-1): 2 x TransformerBlock(\n",
              "          (attention): MultiHeadSelfAttention(\n",
              "            (dropout): Dropout(p=0.1, inplace=False)\n",
              "            (q_lin): Linear(in_features=768, out_features=768, bias=True)\n",
              "            (k_lin): Linear(in_features=768, out_features=768, bias=True)\n",
              "            (v_lin): Linear(in_features=768, out_features=768, bias=True)\n",
              "            (out_lin): Linear(in_features=768, out_features=768, bias=True)\n",
              "          )\n",
              "          (sa_layer_norm): LayerNorm((768,), eps=1e-12, elementwise_affine=True)\n",
              "          (ffn): FFN(\n",
              "            (dropout): Dropout(p=0.1, inplace=False)\n",
              "            (lin1): Linear(in_features=768, out_features=1024, bias=True)\n",
              "            (lin2): Linear(in_features=1024, out_features=768, bias=True)\n",
              "            (activation): GELUActivation()\n",
              "          )\n",
              "          (output_layer_norm): LayerNorm((768,), eps=1e-12, elementwise_affine=True)\n",
              "        )\n",
              "      )\n",
              "    )\n",
              "  )\n",
              "  (pre_classifier): Linear(in_features=768, out_features=768, bias=True)\n",
              "  (classifier): Linear(in_features=768, out_features=2, bias=True)\n",
              "  (dropout): Dropout(p=0.2, inplace=False)\n",
              ")"
            ]
          },
          "metadata": {},
          "execution_count": 23
        }
      ]
    },
    {
      "cell_type": "markdown",
      "source": [
        "## Define Metrics Function"
      ],
      "metadata": {
        "id": "r5NUp6BixVEm"
      }
    },
    {
      "cell_type": "code",
      "source": [
        "# define function to get model metrics for val and test datasets\n",
        "def get_model_metrics(model, dataloader, threshold=0.5):\n",
        "\n",
        "    # initialize metrics\n",
        "    metric_ba = BinaryAccuracy(threshold=threshold, device=device)\n",
        "    metric_bp = BinaryPrecision(threshold=threshold, device=device)\n",
        "    metric_br = BinaryRecall(threshold=threshold, device=device)\n",
        "    metric_bf1 = BinaryF1Score(threshold=threshold, device=device)\n",
        "    metric_bcm = BinaryConfusionMatrix(threshold=threshold, device=device)\n",
        "\n",
        "    # disable gradient computation\n",
        "    with torch.no_grad():\n",
        "\n",
        "        # iterate through each batch\n",
        "        for inputs, masks, labels in tqdm(dataloader, desc='Obtaining Metrics'):\n",
        "\n",
        "            # set tensors to device\n",
        "            inputs = inputs.to(device)\n",
        "            masks = masks.to(device)\n",
        "            labels = labels.to(device)\n",
        "\n",
        "            # obtain predictions\n",
        "            outputs = model(inputs, masks)\n",
        "\n",
        "            # apply softmax to have predictions between 0 and 1\n",
        "            predictions = F.softmax(outputs.logits, dim=1)\n",
        "\n",
        "            # update metric states\n",
        "            metric_ba.update(predictions[:,1].squeeze(), labels.squeeze())\n",
        "            metric_bp.update(predictions[:,1].squeeze(), labels.squeeze())\n",
        "            metric_br.update(predictions[:,1].squeeze(), labels.int().squeeze())\n",
        "            metric_bf1.update(predictions[:,1].squeeze(), labels.squeeze())\n",
        "            metric_bcm.update(predictions[:,1].squeeze(), labels.int().squeeze())\n",
        "\n",
        "    # compute and save metrics\n",
        "    score_accuracy = metric_ba.compute().item()\n",
        "    score_precision = metric_bp.compute().item()\n",
        "    score_recall = metric_br.compute().item()\n",
        "    score_f1 = metric_bf1.compute().item()\n",
        "    bcm = metric_bcm.compute()\n",
        "\n",
        "    # print metrics\n",
        "    print('\\n')\n",
        "    print('Binary Accuracy:', '{:.2%}'.format(score_accuracy))\n",
        "    print('Binary Precision:', '{:.2%}'.format(score_precision))\n",
        "    print('Binary Recall:', '{:.2%}'.format(score_recall))\n",
        "    print('Binary F1 Score:', '{:.2%}'.format(score_f1))\n",
        "    print('\\nBinary Confusion Matrix:\\n', bcm)\n",
        "    print('\\nTrue Positive:', bcm[0][0].int().item())\n",
        "    print('False Negative:', bcm[0][1].int().item())\n",
        "    print('False Positive:', bcm[1][0].int().item())\n",
        "    print('True Negative:', bcm[1][1].int().item())\n",
        "\n",
        "    return score_accuracy, score_precision, score_recall, score_f1, bcm"
      ],
      "metadata": {
        "id": "_-9bHCm8xYD5"
      },
      "execution_count": 32,
      "outputs": []
    },
    {
      "cell_type": "markdown",
      "source": [
        "## Evaluate on Validation Set"
      ],
      "metadata": {
        "id": "6lpWXtbNxc6G"
      }
    },
    {
      "cell_type": "markdown",
      "source": [
        "### Obtain Metrics"
      ],
      "metadata": {
        "id": "_DFWiMvnZ3VN"
      }
    },
    {
      "cell_type": "code",
      "source": [
        "# evaluate validation dataset\n",
        "score_accuracy, score_precision, score_recall, score_f1, bcm = get_model_metrics(pretrained_model, val_dataloader)"
      ],
      "metadata": {
        "id": "2TxtF6-wxfZl",
        "colab": {
          "base_uri": "https://localhost:8080/"
        },
        "outputId": "b22d79d1-64d7-4dd7-f397-9fefa6bbadd3"
      },
      "execution_count": 33,
      "outputs": [
        {
          "output_type": "stream",
          "name": "stderr",
          "text": [
            "Obtaining Metrics: 100%|██████████| 65/65 [00:29<00:00,  2.18it/s]"
          ]
        },
        {
          "output_type": "stream",
          "name": "stdout",
          "text": [
            "\n",
            "\n",
            "Binary Accuracy: 84.90%\n",
            "Binary Precision: 88.46%\n",
            "Binary Recall: 80.23%\n",
            "Binary F1 Score: 84.15%\n",
            "\n",
            "Binary Confusion Matrix:\n",
            " tensor([[463.,  54.],\n",
            "        [102., 414.]], device='cuda:0')\n",
            "\n",
            "True Positive: 463\n",
            "False Negative: 54\n",
            "False Positive: 102\n",
            "True Negative: 414\n"
          ]
        },
        {
          "output_type": "stream",
          "name": "stderr",
          "text": [
            "\n"
          ]
        }
      ]
    },
    {
      "cell_type": "markdown",
      "source": [
        "### Build Confusion Matrix"
      ],
      "metadata": {
        "id": "WSo_UTFpZ7vJ"
      }
    },
    {
      "cell_type": "code",
      "source": [
        "# combine values with text for annotations\n",
        "tp = str(bcm[0][0].int().item()) + '\\nTP'\n",
        "fn = str(bcm[0][1].int().item()) + '\\nFN'\n",
        "fp = str(bcm[1][0].int().item()) + '\\nFP'\n",
        "tn = str(bcm[1][1].int().item()) + '\\nTN'\n",
        "\n",
        "# create array with annotations\n",
        "bcm_annot = np.array([tp, fn, fp, tn]).reshape((2,2))\n",
        "\n",
        "# build and display confusion matrix\n",
        "plt.figure(figsize = (12,10))\n",
        "sns.heatmap(data=bcm.cpu(), annot=bcm_annot, annot_kws={'fontsize': 35, 'fontweight': 'heavy'}, fmt='', linewidths=2, linecolor='white', cmap='coolwarm')\n",
        "plt.title('Confusion Matrix - Validation Dataset', y=1.05, fontsize=20)\n",
        "plt.xlabel('Predicted', fontsize=16)\n",
        "plt.ylabel('Actual', fontsize=16)\n",
        "plt.xticks(ticks=[0.5, 1.5],labels=['1', '0'], fontsize=14)\n",
        "plt.yticks(ticks=[0.5, 1.5],labels=['1', '0'], fontsize=14)\n",
        "plt.show()"
      ],
      "metadata": {
        "colab": {
          "base_uri": "https://localhost:8080/",
          "height": 930
        },
        "id": "o8D9ZGFEZ-cU",
        "outputId": "5f06451c-d09e-4392-efe6-7de2457568b1"
      },
      "execution_count": 34,
      "outputs": [
        {
          "output_type": "display_data",
          "data": {
            "text/plain": [
              "<Figure size 1200x1000 with 2 Axes>"
            ],
            "image/png": "[encoded data removed]"
          },
          "metadata": {}
        }
      ]
    },
    {
      "cell_type": "markdown",
      "source": [
        "## Evaluate on Test Set"
      ],
      "metadata": {
        "id": "vsCj2BRn01hf"
      }
    },
    {
      "cell_type": "markdown",
      "source": [
        "### Obtain Metrics"
      ],
      "metadata": {
        "id": "ijdgZdpYbP02"
      }
    },
    {
      "cell_type": "code",
      "source": [
        "# evaluate test dataset\n",
        "score_accuracy, score_precision, score_recall, score_f1, bcm = get_model_metrics(pretrained_model, test_dataloader)"
      ],
      "metadata": {
        "id": "Rvi3VS8R01hf",
        "colab": {
          "base_uri": "https://localhost:8080/"
        },
        "outputId": "f00db6ba-bba8-439a-921c-4adf22a8ccea"
      },
      "execution_count": 35,
      "outputs": [
        {
          "output_type": "stream",
          "name": "stderr",
          "text": [
            "Obtaining Metrics: 100%|██████████| 36/36 [00:17<00:00,  2.02it/s]"
          ]
        },
        {
          "output_type": "stream",
          "name": "stdout",
          "text": [
            "\n",
            "\n",
            "Binary Accuracy: 83.45%\n",
            "Binary Precision: 89.02%\n",
            "Binary Recall: 76.31%\n",
            "Binary F1 Score: 82.18%\n",
            "\n",
            "Binary Confusion Matrix:\n",
            " tensor([[260.,  27.],\n",
            "        [ 68., 219.]], device='cuda:0')\n",
            "\n",
            "True Positive: 260\n",
            "False Negative: 27\n",
            "False Positive: 68\n",
            "True Negative: 219\n"
          ]
        },
        {
          "output_type": "stream",
          "name": "stderr",
          "text": [
            "\n"
          ]
        }
      ]
    },
    {
      "cell_type": "markdown",
      "source": [
        "### Build Confusion Matrix"
      ],
      "metadata": {
        "id": "_EVJKjNNbRRS"
      }
    },
    {
      "cell_type": "code",
      "source": [
        "# combine values with text for annotations\n",
        "tp = str(bcm[0][0].int().item()) + '\\nTP'\n",
        "fn = str(bcm[0][1].int().item()) + '\\nFN'\n",
        "fp = str(bcm[1][0].int().item()) + '\\nFP'\n",
        "tn = str(bcm[1][1].int().item()) + '\\nTN'\n",
        "\n",
        "# create array with annotations\n",
        "bcm_annot = np.array([tp, fn, fp, tn]).reshape((2,2))\n",
        "\n",
        "# build and display confusion matrix\n",
        "plt.figure(figsize = (12,10))\n",
        "sns.heatmap(data=bcm.cpu(), annot=bcm_annot, annot_kws={'fontsize': 35, 'fontweight': 'heavy'}, fmt='', linewidths=2, linecolor='white', cmap='coolwarm')\n",
        "plt.title('Confusion Matrix - Test Dataset', y=1.05, fontsize=20)\n",
        "plt.xlabel('Predicted', fontsize=16)\n",
        "plt.ylabel('Actual', fontsize=16)\n",
        "plt.xticks(ticks=[0.5, 1.5],labels=['1', '0'], fontsize=14)\n",
        "plt.yticks(ticks=[0.5, 1.5],labels=['1', '0'], fontsize=14)\n",
        "plt.show()"
      ],
      "metadata": {
        "colab": {
          "base_uri": "https://localhost:8080/",
          "height": 930
        },
        "id": "oR2ipddBbRRS",
        "outputId": "a56c3e4e-5d72-4a12-97bb-f773b4f5f339"
      },
      "execution_count": 36,
      "outputs": [
        {
          "output_type": "display_data",
          "data": {
            "text/plain": [
              "<Figure size 1200x1000 with 2 Axes>"
            ],
            "image/png": "[encoded data removed]"
          },
          "metadata": {}
        }
      ]
    }
  ]
}