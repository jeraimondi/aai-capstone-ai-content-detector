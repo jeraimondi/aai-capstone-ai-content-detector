{
  "nbformat": 4,
  "nbformat_minor": 0,
  "metadata": {
    "colab": {
      "provenance": [],
      "gpuType": "T4",
      "toc_visible": true
    },
    "kernelspec": {
      "name": "python3",
      "display_name": "Python 3"
    },
    "language_info": {
      "name": "python"
    },
    "accelerator": "GPU"
  },
  "cells": [
    {
      "cell_type": "markdown",
      "source": [
        "---\n",
        "\n",
        "#Human versus AI Distinguishment\n",
        "\n",
        "##Group 2 - AAI-590: Capstone Project\n",
        "\n",
        "##Jason Raimondi, Shane Schipper, and Jeremy Cryer\n",
        "\n",
        "##2024-04-15\n",
        "\n",
        "###Custom_Transformer.ipynb\n",
        "\n",
        "###Data Source:\n",
        "\n",
        "Kaggle - AI Vs Human Text\n",
        "\n",
        "https://www.kaggle.com/datasets/shanegerami/ai-vs-human-text\n",
        "\n",
        "###GitHub Repository:\n",
        "\n",
        "https://github.com/jeraimondi/aai-capstone-ai-content-detector\n",
        "\n",
        "---"
      ],
      "metadata": {
        "id": "rVYl00wgns1V"
      }
    },
    {
      "cell_type": "markdown",
      "source": [
        "# Environment Prep"
      ],
      "metadata": {
        "id": "_JPS642nx2MJ"
      }
    },
    {
      "cell_type": "markdown",
      "source": [
        "## Install Required Packages"
      ],
      "metadata": {
        "id": "p2g1wTfFxkZt"
      }
    },
    {
      "cell_type": "code",
      "source": [
        "!pip install torcheval # evaluation metrics"
      ],
      "metadata": {
        "colab": {
          "base_uri": "https://localhost:8080/"
        },
        "id": "VVCUElsNxtWv",
        "outputId": "522525f6-cbc5-44b7-eaa6-feb2ce7e5187"
      },
      "execution_count": 1,
      "outputs": [
        {
          "output_type": "stream",
          "name": "stdout",
          "text": [
            "Collecting torcheval\n",
            "  Downloading torcheval-0.0.7-py3-none-any.whl (179 kB)\n",
            "\u001b[?25l     \u001b[90m━━━━━━━━━━━━━━━━━━━━━━━━━━━━━━━━━━━━━━━━\u001b[0m \u001b[32m0.0/179.2 kB\u001b[0m \u001b[31m?\u001b[0m eta \u001b[36m-:--:--\u001b[0m\r\u001b[2K     \u001b[91m━━━━━━\u001b[0m\u001b[91m╸\u001b[0m\u001b[90m━━━━━━━━━━━━━━━━━━━━━━━━━━━━━━━━━\u001b[0m \u001b[32m30.7/179.2 kB\u001b[0m \u001b[31m1.7 MB/s\u001b[0m eta \u001b[36m0:00:01\u001b[0m\r\u001b[2K     \u001b[91m━━━━━━━━━━━━━━━━━━━━\u001b[0m\u001b[91m╸\u001b[0m\u001b[90m━━━━━━━━━━━━━━━━━━━\u001b[0m \u001b[32m92.2/179.2 kB\u001b[0m \u001b[31m1.4 MB/s\u001b[0m eta \u001b[36m0:00:01\u001b[0m\r\u001b[2K     \u001b[91m━━━━━━━━━━━━━━━━━━━━━━━━━━━━━━━━━━━━━━\u001b[0m\u001b[91m╸\u001b[0m\u001b[90m━\u001b[0m \u001b[32m174.1/179.2 kB\u001b[0m \u001b[31m1.9 MB/s\u001b[0m eta \u001b[36m0:00:01\u001b[0m\r\u001b[2K     \u001b[90m━━━━━━━━━━━━━━━━━━━━━━━━━━━━━━━━━━━━━━━━\u001b[0m \u001b[32m179.2/179.2 kB\u001b[0m \u001b[31m1.5 MB/s\u001b[0m eta \u001b[36m0:00:00\u001b[0m\n",
            "\u001b[?25hRequirement already satisfied: typing-extensions in /usr/local/lib/python3.10/dist-packages (from torcheval) (4.10.0)\n",
            "Installing collected packages: torcheval\n",
            "Successfully installed torcheval-0.0.7\n"
          ]
        }
      ]
    },
    {
      "cell_type": "markdown",
      "source": [
        "## Load Required Libraries"
      ],
      "metadata": {
        "id": "jaJUwcEkxzTO"
      }
    },
    {
      "cell_type": "code",
      "execution_count": 2,
      "metadata": {
        "id": "TRA5j2AmU4C_"
      },
      "outputs": [],
      "source": [
        "import math # mathematical functions\n",
        "import matplotlib.pyplot as plt # plotting\n",
        "import numpy as np # array manipulation\n",
        "import pandas as pd # data analysis\n",
        "import random # random number generator\n",
        "import seaborn as sns # visualizations\n",
        "import torch # machine learning framework\n",
        "import torch.nn as nn # neural networks\n",
        "import torch.nn.functional as F # neural network functions\n",
        "import torchtext # data processing utilities\n",
        "from google.colab import drive # connect to drive storage\n",
        "from sklearn.model_selection import train_test_split # splitter function\n",
        "from sklearn.utils import resample # resample dataset to balance classes\n",
        "from torch import Tensor # multi-dimensional matrix\n",
        "from torch.utils.data import DataLoader # create DataLoaders\n",
        "from torch.utils.data import Dataset # create Torch datasets\n",
        "\n",
        "# binary metrics\n",
        "from torcheval.metrics import BinaryAccuracy\n",
        "from torcheval.metrics import BinaryConfusionMatrix\n",
        "from torcheval.metrics import BinaryF1Score\n",
        "from torcheval.metrics import BinaryPrecision\n",
        "from torcheval.metrics import BinaryRecall\n",
        "\n",
        "from torchtext.data import get_tokenizer # tokenizer function\n",
        "from torchtext.vocab import build_vocab_from_iterator # build vocabulary\n",
        "from transformers import DistilBertConfig, DistilBertModel # DistilBERT\n",
        "from tqdm import tqdm # progress bars"
      ]
    },
    {
      "cell_type": "markdown",
      "source": [
        "## Set Random Seeds"
      ],
      "metadata": {
        "id": "NvluqA7fypw1"
      }
    },
    {
      "cell_type": "code",
      "source": [
        "# set random seeds for reproducibility\n",
        "torch.manual_seed(0)\n",
        "random.seed(0)"
      ],
      "metadata": {
        "id": "V1npLdqNywmP"
      },
      "execution_count": 3,
      "outputs": []
    },
    {
      "cell_type": "markdown",
      "source": [
        "## Verify GPU Availability"
      ],
      "metadata": {
        "id": "5Sc7Pk0TzTsF"
      }
    },
    {
      "cell_type": "code",
      "source": [
        "# set device for GPU/CPU usage\n",
        "device = torch.device('cuda' if torch.cuda.is_available() else 'cpu')\n",
        "\n",
        "# verify GPU availability\n",
        "if device.type == 'cuda':\n",
        "    print('GPU is available!')\n",
        "    print('-----------------')\n",
        "    current_device = torch.cuda.current_device()\n",
        "    print('Current Device:', current_device)\n",
        "    print('Device Name:', torch.cuda.get_device_name(current_device))\n",
        "else:\n",
        "    raise SystemError('GPU device not found!')"
      ],
      "metadata": {
        "colab": {
          "base_uri": "https://localhost:8080/"
        },
        "id": "s63SMkOM0QzE",
        "outputId": "0357f127-ce59-4357-a6f7-0526e444b65b"
      },
      "execution_count": 4,
      "outputs": [
        {
          "output_type": "stream",
          "name": "stdout",
          "text": [
            "GPU is available!\n",
            "-----------------\n",
            "Current Device: 0\n",
            "Device Name: Tesla T4\n"
          ]
        }
      ]
    },
    {
      "cell_type": "markdown",
      "source": [
        "# Dataset Prep"
      ],
      "metadata": {
        "id": "GuQgcaSK3fAr"
      }
    },
    {
      "cell_type": "markdown",
      "source": [
        "## Upload Dataset"
      ],
      "metadata": {
        "id": "fIwXYJzl3nvI"
      }
    },
    {
      "cell_type": "code",
      "source": [
        "# connect google drive\n",
        "drive.mount('/content/drive') # uncomment to mount google drive\n",
        "\n",
        "# read csv file into dataframe\n",
        "ai_df = pd.read_csv('drive/MyDrive/AI_Human.csv')\n",
        "\n",
        "# display dataframe\n",
        "ai_df"
      ],
      "metadata": {
        "colab": {
          "base_uri": "https://localhost:8080/",
          "height": 441
        },
        "id": "-Au_wP2U3wDf",
        "outputId": "1b603cca-586d-4cab-8746-8f618b25e892"
      },
      "execution_count": 5,
      "outputs": [
        {
          "output_type": "stream",
          "name": "stdout",
          "text": [
            "Mounted at /content/drive\n"
          ]
        },
        {
          "output_type": "execute_result",
          "data": {
            "text/plain": [
              "                                                     text  generated\n",
              "0       Cars. Cars have been around since they became ...        0.0\n",
              "1       Transportation is a large necessity in most co...        0.0\n",
              "2       \"America's love affair with it's vehicles seem...        0.0\n",
              "3       How often do you ride in a car? Do you drive a...        0.0\n",
              "4       Cars are a wonderful thing. They are perhaps o...        0.0\n",
              "...                                                   ...        ...\n",
              "487230  Tie Face on Mars is really just a big misunder...        0.0\n",
              "487231  The whole purpose of democracy is to create a ...        0.0\n",
              "487232  I firmly believe that governments worldwide sh...        1.0\n",
              "487233  I DFN't agree with this decision because a LFT...        0.0\n",
              "487234  Richard Non, Jimmy Carter, and Bob Dole and ot...        0.0\n",
              "\n",
              "[487235 rows x 2 columns]"
            ],
            "text/html": [
              "\n",
              "  <div id=\"df-173342bb-6103-408f-8c71-8bd9fab9d0d6\" class=\"colab-df-container\">\n",
              "    <div>\n",
              "<style scoped>\n",
              "    .dataframe tbody tr th:only-of-type {\n",
              "        vertical-align: middle;\n",
              "    }\n",
              "\n",
              "    .dataframe tbody tr th {\n",
              "        vertical-align: top;\n",
              "    }\n",
              "\n",
              "    .dataframe thead th {\n",
              "        text-align: right;\n",
              "    }\n",
              "</style>\n",
              "<table border=\"1\" class=\"dataframe\">\n",
              "  <thead>\n",
              "    <tr style=\"text-align: right;\">\n",
              "      <th></th>\n",
              "      <th>text</th>\n",
              "      <th>generated</th>\n",
              "    </tr>\n",
              "  </thead>\n",
              "  <tbody>\n",
              "    <tr>\n",
              "      <th>0</th>\n",
              "      <td>Cars. Cars have been around since they became ...</td>\n",
              "      <td>0.0</td>\n",
              "    </tr>\n",
              "    <tr>\n",
              "      <th>1</th>\n",
              "      <td>Transportation is a large necessity in most co...</td>\n",
              "      <td>0.0</td>\n",
              "    </tr>\n",
              "    <tr>\n",
              "      <th>2</th>\n",
              "      <td>\"America's love affair with it's vehicles seem...</td>\n",
              "      <td>0.0</td>\n",
              "    </tr>\n",
              "    <tr>\n",
              "      <th>3</th>\n",
              "      <td>How often do you ride in a car? Do you drive a...</td>\n",
              "      <td>0.0</td>\n",
              "    </tr>\n",
              "    <tr>\n",
              "      <th>4</th>\n",
              "      <td>Cars are a wonderful thing. They are perhaps o...</td>\n",
              "      <td>0.0</td>\n",
              "    </tr>\n",
              "    <tr>\n",
              "      <th>...</th>\n",
              "      <td>...</td>\n",
              "      <td>...</td>\n",
              "    </tr>\n",
              "    <tr>\n",
              "      <th>487230</th>\n",
              "      <td>Tie Face on Mars is really just a big misunder...</td>\n",
              "      <td>0.0</td>\n",
              "    </tr>\n",
              "    <tr>\n",
              "      <th>487231</th>\n",
              "      <td>The whole purpose of democracy is to create a ...</td>\n",
              "      <td>0.0</td>\n",
              "    </tr>\n",
              "    <tr>\n",
              "      <th>487232</th>\n",
              "      <td>I firmly believe that governments worldwide sh...</td>\n",
              "      <td>1.0</td>\n",
              "    </tr>\n",
              "    <tr>\n",
              "      <th>487233</th>\n",
              "      <td>I DFN't agree with this decision because a LFT...</td>\n",
              "      <td>0.0</td>\n",
              "    </tr>\n",
              "    <tr>\n",
              "      <th>487234</th>\n",
              "      <td>Richard Non, Jimmy Carter, and Bob Dole and ot...</td>\n",
              "      <td>0.0</td>\n",
              "    </tr>\n",
              "  </tbody>\n",
              "</table>\n",
              "<p>487235 rows × 2 columns</p>\n",
              "</div>\n",
              "    <div class=\"colab-df-buttons\">\n",
              "\n",
              "  <div class=\"colab-df-container\">\n",
              "    <button class=\"colab-df-convert\" onclick=\"convertToInteractive('df-173342bb-6103-408f-8c71-8bd9fab9d0d6')\"\n",
              "            title=\"Convert this dataframe to an interactive table.\"\n",
              "            style=\"display:none;\">\n",
              "\n",
              "  <svg xmlns=\"http://www.w3.org/2000/svg\" height=\"24px\" viewBox=\"0 -960 960 960\">\n",
              "    <path d=\"M120-120v-720h720v720H120Zm60-500h600v-160H180v160Zm220 220h160v-160H400v160Zm0 220h160v-160H400v160ZM180-400h160v-160H180v160Zm440 0h160v-160H620v160ZM180-180h160v-160H180v160Zm440 0h160v-160H620v160Z\"/>\n",
              "  </svg>\n",
              "    </button>\n",
              "\n",
              "  <style>\n",
              "    .colab-df-container {\n",
              "      display:flex;\n",
              "      gap: 12px;\n",
              "    }\n",
              "\n",
              "    .colab-df-convert {\n",
              "      background-color: #E8F0FE;\n",
              "      border: none;\n",
              "      border-radius: 50%;\n",
              "      cursor: pointer;\n",
              "      display: none;\n",
              "      fill: #1967D2;\n",
              "      height: 32px;\n",
              "      padding: 0 0 0 0;\n",
              "      width: 32px;\n",
              "    }\n",
              "\n",
              "    .colab-df-convert:hover {\n",
              "      background-color: #E2EBFA;\n",
              "      box-shadow: 0px 1px 2px rgba(60, 64, 67, 0.3), 0px 1px 3px 1px rgba(60, 64, 67, 0.15);\n",
              "      fill: #174EA6;\n",
              "    }\n",
              "\n",
              "    .colab-df-buttons div {\n",
              "      margin-bottom: 4px;\n",
              "    }\n",
              "\n",
              "    [theme=dark] .colab-df-convert {\n",
              "      background-color: #3B4455;\n",
              "      fill: #D2E3FC;\n",
              "    }\n",
              "\n",
              "    [theme=dark] .colab-df-convert:hover {\n",
              "      background-color: #434B5C;\n",
              "      box-shadow: 0px 1px 3px 1px rgba(0, 0, 0, 0.15);\n",
              "      filter: drop-shadow(0px 1px 2px rgba(0, 0, 0, 0.3));\n",
              "      fill: #FFFFFF;\n",
              "    }\n",
              "  </style>\n",
              "\n",
              "    <script>\n",
              "      const buttonEl =\n",
              "        document.querySelector('#df-173342bb-6103-408f-8c71-8bd9fab9d0d6 button.colab-df-convert');\n",
              "      buttonEl.style.display =\n",
              "        google.colab.kernel.accessAllowed ? 'block' : 'none';\n",
              "\n",
              "      async function convertToInteractive(key) {\n",
              "        const element = document.querySelector('#df-173342bb-6103-408f-8c71-8bd9fab9d0d6');\n",
              "        const dataTable =\n",
              "          await google.colab.kernel.invokeFunction('convertToInteractive',\n",
              "                                                    [key], {});\n",
              "        if (!dataTable) return;\n",
              "\n",
              "        const docLinkHtml = 'Like what you see? Visit the ' +\n",
              "          '<a target=\"_blank\" href=https://colab.research.google.com/notebooks/data_table.ipynb>data table notebook</a>'\n",
              "          + ' to learn more about interactive tables.';\n",
              "        element.innerHTML = '';\n",
              "        dataTable['output_type'] = 'display_data';\n",
              "        await google.colab.output.renderOutput(dataTable, element);\n",
              "        const docLink = document.createElement('div');\n",
              "        docLink.innerHTML = docLinkHtml;\n",
              "        element.appendChild(docLink);\n",
              "      }\n",
              "    </script>\n",
              "  </div>\n",
              "\n",
              "\n",
              "<div id=\"df-e70d0c22-d69c-457e-9a4d-25583b51e0e8\">\n",
              "  <button class=\"colab-df-quickchart\" onclick=\"quickchart('df-e70d0c22-d69c-457e-9a4d-25583b51e0e8')\"\n",
              "            title=\"Suggest charts\"\n",
              "            style=\"display:none;\">\n",
              "\n",
              "<svg xmlns=\"http://www.w3.org/2000/svg\" height=\"24px\"viewBox=\"0 0 24 24\"\n",
              "     width=\"24px\">\n",
              "    <g>\n",
              "        <path d=\"M19 3H5c-1.1 0-2 .9-2 2v14c0 1.1.9 2 2 2h14c1.1 0 2-.9 2-2V5c0-1.1-.9-2-2-2zM9 17H7v-7h2v7zm4 0h-2V7h2v10zm4 0h-2v-4h2v4z\"/>\n",
              "    </g>\n",
              "</svg>\n",
              "  </button>\n",
              "\n",
              "<style>\n",
              "  .colab-df-quickchart {\n",
              "      --bg-color: #E8F0FE;\n",
              "      --fill-color: #1967D2;\n",
              "      --hover-bg-color: #E2EBFA;\n",
              "      --hover-fill-color: #174EA6;\n",
              "      --disabled-fill-color: #AAA;\n",
              "      --disabled-bg-color: #DDD;\n",
              "  }\n",
              "\n",
              "  [theme=dark] .colab-df-quickchart {\n",
              "      --bg-color: #3B4455;\n",
              "      --fill-color: #D2E3FC;\n",
              "      --hover-bg-color: #434B5C;\n",
              "      --hover-fill-color: #FFFFFF;\n",
              "      --disabled-bg-color: #3B4455;\n",
              "      --disabled-fill-color: #666;\n",
              "  }\n",
              "\n",
              "  .colab-df-quickchart {\n",
              "    background-color: var(--bg-color);\n",
              "    border: none;\n",
              "    border-radius: 50%;\n",
              "    cursor: pointer;\n",
              "    display: none;\n",
              "    fill: var(--fill-color);\n",
              "    height: 32px;\n",
              "    padding: 0;\n",
              "    width: 32px;\n",
              "  }\n",
              "\n",
              "  .colab-df-quickchart:hover {\n",
              "    background-color: var(--hover-bg-color);\n",
              "    box-shadow: 0 1px 2px rgba(60, 64, 67, 0.3), 0 1px 3px 1px rgba(60, 64, 67, 0.15);\n",
              "    fill: var(--button-hover-fill-color);\n",
              "  }\n",
              "\n",
              "  .colab-df-quickchart-complete:disabled,\n",
              "  .colab-df-quickchart-complete:disabled:hover {\n",
              "    background-color: var(--disabled-bg-color);\n",
              "    fill: var(--disabled-fill-color);\n",
              "    box-shadow: none;\n",
              "  }\n",
              "\n",
              "  .colab-df-spinner {\n",
              "    border: 2px solid var(--fill-color);\n",
              "    border-color: transparent;\n",
              "    border-bottom-color: var(--fill-color);\n",
              "    animation:\n",
              "      spin 1s steps(1) infinite;\n",
              "  }\n",
              "\n",
              "  @keyframes spin {\n",
              "    0% {\n",
              "      border-color: transparent;\n",
              "      border-bottom-color: var(--fill-color);\n",
              "      border-left-color: var(--fill-color);\n",
              "    }\n",
              "    20% {\n",
              "      border-color: transparent;\n",
              "      border-left-color: var(--fill-color);\n",
              "      border-top-color: var(--fill-color);\n",
              "    }\n",
              "    30% {\n",
              "      border-color: transparent;\n",
              "      border-left-color: var(--fill-color);\n",
              "      border-top-color: var(--fill-color);\n",
              "      border-right-color: var(--fill-color);\n",
              "    }\n",
              "    40% {\n",
              "      border-color: transparent;\n",
              "      border-right-color: var(--fill-color);\n",
              "      border-top-color: var(--fill-color);\n",
              "    }\n",
              "    60% {\n",
              "      border-color: transparent;\n",
              "      border-right-color: var(--fill-color);\n",
              "    }\n",
              "    80% {\n",
              "      border-color: transparent;\n",
              "      border-right-color: var(--fill-color);\n",
              "      border-bottom-color: var(--fill-color);\n",
              "    }\n",
              "    90% {\n",
              "      border-color: transparent;\n",
              "      border-bottom-color: var(--fill-color);\n",
              "    }\n",
              "  }\n",
              "</style>\n",
              "\n",
              "  <script>\n",
              "    async function quickchart(key) {\n",
              "      const quickchartButtonEl =\n",
              "        document.querySelector('#' + key + ' button');\n",
              "      quickchartButtonEl.disabled = true;  // To prevent multiple clicks.\n",
              "      quickchartButtonEl.classList.add('colab-df-spinner');\n",
              "      try {\n",
              "        const charts = await google.colab.kernel.invokeFunction(\n",
              "            'suggestCharts', [key], {});\n",
              "      } catch (error) {\n",
              "        console.error('Error during call to suggestCharts:', error);\n",
              "      }\n",
              "      quickchartButtonEl.classList.remove('colab-df-spinner');\n",
              "      quickchartButtonEl.classList.add('colab-df-quickchart-complete');\n",
              "    }\n",
              "    (() => {\n",
              "      let quickchartButtonEl =\n",
              "        document.querySelector('#df-e70d0c22-d69c-457e-9a4d-25583b51e0e8 button');\n",
              "      quickchartButtonEl.style.display =\n",
              "        google.colab.kernel.accessAllowed ? 'block' : 'none';\n",
              "    })();\n",
              "  </script>\n",
              "</div>\n",
              "\n",
              "  <div id=\"id_6fdb20c4-ed95-4ce7-a6c6-3098a6ddbd4e\">\n",
              "    <style>\n",
              "      .colab-df-generate {\n",
              "        background-color: #E8F0FE;\n",
              "        border: none;\n",
              "        border-radius: 50%;\n",
              "        cursor: pointer;\n",
              "        display: none;\n",
              "        fill: #1967D2;\n",
              "        height: 32px;\n",
              "        padding: 0 0 0 0;\n",
              "        width: 32px;\n",
              "      }\n",
              "\n",
              "      .colab-df-generate:hover {\n",
              "        background-color: #E2EBFA;\n",
              "        box-shadow: 0px 1px 2px rgba(60, 64, 67, 0.3), 0px 1px 3px 1px rgba(60, 64, 67, 0.15);\n",
              "        fill: #174EA6;\n",
              "      }\n",
              "\n",
              "      [theme=dark] .colab-df-generate {\n",
              "        background-color: #3B4455;\n",
              "        fill: #D2E3FC;\n",
              "      }\n",
              "\n",
              "      [theme=dark] .colab-df-generate:hover {\n",
              "        background-color: #434B5C;\n",
              "        box-shadow: 0px 1px 3px 1px rgba(0, 0, 0, 0.15);\n",
              "        filter: drop-shadow(0px 1px 2px rgba(0, 0, 0, 0.3));\n",
              "        fill: #FFFFFF;\n",
              "      }\n",
              "    </style>\n",
              "    <button class=\"colab-df-generate\" onclick=\"generateWithVariable('ai_df')\"\n",
              "            title=\"Generate code using this dataframe.\"\n",
              "            style=\"display:none;\">\n",
              "\n",
              "  <svg xmlns=\"http://www.w3.org/2000/svg\" height=\"24px\"viewBox=\"0 0 24 24\"\n",
              "       width=\"24px\">\n",
              "    <path d=\"M7,19H8.4L18.45,9,17,7.55,7,17.6ZM5,21V16.75L18.45,3.32a2,2,0,0,1,2.83,0l1.4,1.43a1.91,1.91,0,0,1,.58,1.4,1.91,1.91,0,0,1-.58,1.4L9.25,21ZM18.45,9,17,7.55Zm-12,3A5.31,5.31,0,0,0,4.9,8.1,5.31,5.31,0,0,0,1,6.5,5.31,5.31,0,0,0,4.9,4.9,5.31,5.31,0,0,0,6.5,1,5.31,5.31,0,0,0,8.1,4.9,5.31,5.31,0,0,0,12,6.5,5.46,5.46,0,0,0,6.5,12Z\"/>\n",
              "  </svg>\n",
              "    </button>\n",
              "    <script>\n",
              "      (() => {\n",
              "      const buttonEl =\n",
              "        document.querySelector('#id_6fdb20c4-ed95-4ce7-a6c6-3098a6ddbd4e button.colab-df-generate');\n",
              "      buttonEl.style.display =\n",
              "        google.colab.kernel.accessAllowed ? 'block' : 'none';\n",
              "\n",
              "      buttonEl.onclick = () => {\n",
              "        google.colab.notebook.generateWithVariable('ai_df');\n",
              "      }\n",
              "      })();\n",
              "    </script>\n",
              "  </div>\n",
              "\n",
              "    </div>\n",
              "  </div>\n"
            ],
            "application/vnd.google.colaboratory.intrinsic+json": {
              "type": "dataframe",
              "variable_name": "ai_df"
            }
          },
          "metadata": {},
          "execution_count": 5
        }
      ]
    },
    {
      "cell_type": "markdown",
      "source": [
        "## Rename Columns"
      ],
      "metadata": {
        "id": "Qz8BpORi6vrG"
      }
    },
    {
      "cell_type": "code",
      "source": [
        "# rename columns in place\n",
        "ai_df.rename({'text': 'orig_str', 'generated': 'label'}, axis='columns', inplace=True)\n",
        "\n",
        "# display dataframe\n",
        "ai_df"
      ],
      "metadata": {
        "colab": {
          "base_uri": "https://localhost:8080/",
          "height": 424
        },
        "id": "gDn6K8KL6xcL",
        "outputId": "14abf0e8-bc39-4121-c47d-0b3f57662535"
      },
      "execution_count": 6,
      "outputs": [
        {
          "output_type": "execute_result",
          "data": {
            "text/plain": [
              "                                                 orig_str  label\n",
              "0       Cars. Cars have been around since they became ...    0.0\n",
              "1       Transportation is a large necessity in most co...    0.0\n",
              "2       \"America's love affair with it's vehicles seem...    0.0\n",
              "3       How often do you ride in a car? Do you drive a...    0.0\n",
              "4       Cars are a wonderful thing. They are perhaps o...    0.0\n",
              "...                                                   ...    ...\n",
              "487230  Tie Face on Mars is really just a big misunder...    0.0\n",
              "487231  The whole purpose of democracy is to create a ...    0.0\n",
              "487232  I firmly believe that governments worldwide sh...    1.0\n",
              "487233  I DFN't agree with this decision because a LFT...    0.0\n",
              "487234  Richard Non, Jimmy Carter, and Bob Dole and ot...    0.0\n",
              "\n",
              "[487235 rows x 2 columns]"
            ],
            "text/html": [
              "\n",
              "  <div id=\"df-2520ef1d-6c0e-42ac-ae7e-9f18ba1d2b0d\" class=\"colab-df-container\">\n",
              "    <div>\n",
              "<style scoped>\n",
              "    .dataframe tbody tr th:only-of-type {\n",
              "        vertical-align: middle;\n",
              "    }\n",
              "\n",
              "    .dataframe tbody tr th {\n",
              "        vertical-align: top;\n",
              "    }\n",
              "\n",
              "    .dataframe thead th {\n",
              "        text-align: right;\n",
              "    }\n",
              "</style>\n",
              "<table border=\"1\" class=\"dataframe\">\n",
              "  <thead>\n",
              "    <tr style=\"text-align: right;\">\n",
              "      <th></th>\n",
              "      <th>orig_str</th>\n",
              "      <th>label</th>\n",
              "    </tr>\n",
              "  </thead>\n",
              "  <tbody>\n",
              "    <tr>\n",
              "      <th>0</th>\n",
              "      <td>Cars. Cars have been around since they became ...</td>\n",
              "      <td>0.0</td>\n",
              "    </tr>\n",
              "    <tr>\n",
              "      <th>1</th>\n",
              "      <td>Transportation is a large necessity in most co...</td>\n",
              "      <td>0.0</td>\n",
              "    </tr>\n",
              "    <tr>\n",
              "      <th>2</th>\n",
              "      <td>\"America's love affair with it's vehicles seem...</td>\n",
              "      <td>0.0</td>\n",
              "    </tr>\n",
              "    <tr>\n",
              "      <th>3</th>\n",
              "      <td>How often do you ride in a car? Do you drive a...</td>\n",
              "      <td>0.0</td>\n",
              "    </tr>\n",
              "    <tr>\n",
              "      <th>4</th>\n",
              "      <td>Cars are a wonderful thing. They are perhaps o...</td>\n",
              "      <td>0.0</td>\n",
              "    </tr>\n",
              "    <tr>\n",
              "      <th>...</th>\n",
              "      <td>...</td>\n",
              "      <td>...</td>\n",
              "    </tr>\n",
              "    <tr>\n",
              "      <th>487230</th>\n",
              "      <td>Tie Face on Mars is really just a big misunder...</td>\n",
              "      <td>0.0</td>\n",
              "    </tr>\n",
              "    <tr>\n",
              "      <th>487231</th>\n",
              "      <td>The whole purpose of democracy is to create a ...</td>\n",
              "      <td>0.0</td>\n",
              "    </tr>\n",
              "    <tr>\n",
              "      <th>487232</th>\n",
              "      <td>I firmly believe that governments worldwide sh...</td>\n",
              "      <td>1.0</td>\n",
              "    </tr>\n",
              "    <tr>\n",
              "      <th>487233</th>\n",
              "      <td>I DFN't agree with this decision because a LFT...</td>\n",
              "      <td>0.0</td>\n",
              "    </tr>\n",
              "    <tr>\n",
              "      <th>487234</th>\n",
              "      <td>Richard Non, Jimmy Carter, and Bob Dole and ot...</td>\n",
              "      <td>0.0</td>\n",
              "    </tr>\n",
              "  </tbody>\n",
              "</table>\n",
              "<p>487235 rows × 2 columns</p>\n",
              "</div>\n",
              "    <div class=\"colab-df-buttons\">\n",
              "\n",
              "  <div class=\"colab-df-container\">\n",
              "    <button class=\"colab-df-convert\" onclick=\"convertToInteractive('df-2520ef1d-6c0e-42ac-ae7e-9f18ba1d2b0d')\"\n",
              "            title=\"Convert this dataframe to an interactive table.\"\n",
              "            style=\"display:none;\">\n",
              "\n",
              "  <svg xmlns=\"http://www.w3.org/2000/svg\" height=\"24px\" viewBox=\"0 -960 960 960\">\n",
              "    <path d=\"M120-120v-720h720v720H120Zm60-500h600v-160H180v160Zm220 220h160v-160H400v160Zm0 220h160v-160H400v160ZM180-400h160v-160H180v160Zm440 0h160v-160H620v160ZM180-180h160v-160H180v160Zm440 0h160v-160H620v160Z\"/>\n",
              "  </svg>\n",
              "    </button>\n",
              "\n",
              "  <style>\n",
              "    .colab-df-container {\n",
              "      display:flex;\n",
              "      gap: 12px;\n",
              "    }\n",
              "\n",
              "    .colab-df-convert {\n",
              "      background-color: #E8F0FE;\n",
              "      border: none;\n",
              "      border-radius: 50%;\n",
              "      cursor: pointer;\n",
              "      display: none;\n",
              "      fill: #1967D2;\n",
              "      height: 32px;\n",
              "      padding: 0 0 0 0;\n",
              "      width: 32px;\n",
              "    }\n",
              "\n",
              "    .colab-df-convert:hover {\n",
              "      background-color: #E2EBFA;\n",
              "      box-shadow: 0px 1px 2px rgba(60, 64, 67, 0.3), 0px 1px 3px 1px rgba(60, 64, 67, 0.15);\n",
              "      fill: #174EA6;\n",
              "    }\n",
              "\n",
              "    .colab-df-buttons div {\n",
              "      margin-bottom: 4px;\n",
              "    }\n",
              "\n",
              "    [theme=dark] .colab-df-convert {\n",
              "      background-color: #3B4455;\n",
              "      fill: #D2E3FC;\n",
              "    }\n",
              "\n",
              "    [theme=dark] .colab-df-convert:hover {\n",
              "      background-color: #434B5C;\n",
              "      box-shadow: 0px 1px 3px 1px rgba(0, 0, 0, 0.15);\n",
              "      filter: drop-shadow(0px 1px 2px rgba(0, 0, 0, 0.3));\n",
              "      fill: #FFFFFF;\n",
              "    }\n",
              "  </style>\n",
              "\n",
              "    <script>\n",
              "      const buttonEl =\n",
              "        document.querySelector('#df-2520ef1d-6c0e-42ac-ae7e-9f18ba1d2b0d button.colab-df-convert');\n",
              "      buttonEl.style.display =\n",
              "        google.colab.kernel.accessAllowed ? 'block' : 'none';\n",
              "\n",
              "      async function convertToInteractive(key) {\n",
              "        const element = document.querySelector('#df-2520ef1d-6c0e-42ac-ae7e-9f18ba1d2b0d');\n",
              "        const dataTable =\n",
              "          await google.colab.kernel.invokeFunction('convertToInteractive',\n",
              "                                                    [key], {});\n",
              "        if (!dataTable) return;\n",
              "\n",
              "        const docLinkHtml = 'Like what you see? Visit the ' +\n",
              "          '<a target=\"_blank\" href=https://colab.research.google.com/notebooks/data_table.ipynb>data table notebook</a>'\n",
              "          + ' to learn more about interactive tables.';\n",
              "        element.innerHTML = '';\n",
              "        dataTable['output_type'] = 'display_data';\n",
              "        await google.colab.output.renderOutput(dataTable, element);\n",
              "        const docLink = document.createElement('div');\n",
              "        docLink.innerHTML = docLinkHtml;\n",
              "        element.appendChild(docLink);\n",
              "      }\n",
              "    </script>\n",
              "  </div>\n",
              "\n",
              "\n",
              "<div id=\"df-85a691de-f5d1-42b4-9807-9a2ffa2b7e97\">\n",
              "  <button class=\"colab-df-quickchart\" onclick=\"quickchart('df-85a691de-f5d1-42b4-9807-9a2ffa2b7e97')\"\n",
              "            title=\"Suggest charts\"\n",
              "            style=\"display:none;\">\n",
              "\n",
              "<svg xmlns=\"http://www.w3.org/2000/svg\" height=\"24px\"viewBox=\"0 0 24 24\"\n",
              "     width=\"24px\">\n",
              "    <g>\n",
              "        <path d=\"M19 3H5c-1.1 0-2 .9-2 2v14c0 1.1.9 2 2 2h14c1.1 0 2-.9 2-2V5c0-1.1-.9-2-2-2zM9 17H7v-7h2v7zm4 0h-2V7h2v10zm4 0h-2v-4h2v4z\"/>\n",
              "    </g>\n",
              "</svg>\n",
              "  </button>\n",
              "\n",
              "<style>\n",
              "  .colab-df-quickchart {\n",
              "      --bg-color: #E8F0FE;\n",
              "      --fill-color: #1967D2;\n",
              "      --hover-bg-color: #E2EBFA;\n",
              "      --hover-fill-color: #174EA6;\n",
              "      --disabled-fill-color: #AAA;\n",
              "      --disabled-bg-color: #DDD;\n",
              "  }\n",
              "\n",
              "  [theme=dark] .colab-df-quickchart {\n",
              "      --bg-color: #3B4455;\n",
              "      --fill-color: #D2E3FC;\n",
              "      --hover-bg-color: #434B5C;\n",
              "      --hover-fill-color: #FFFFFF;\n",
              "      --disabled-bg-color: #3B4455;\n",
              "      --disabled-fill-color: #666;\n",
              "  }\n",
              "\n",
              "  .colab-df-quickchart {\n",
              "    background-color: var(--bg-color);\n",
              "    border: none;\n",
              "    border-radius: 50%;\n",
              "    cursor: pointer;\n",
              "    display: none;\n",
              "    fill: var(--fill-color);\n",
              "    height: 32px;\n",
              "    padding: 0;\n",
              "    width: 32px;\n",
              "  }\n",
              "\n",
              "  .colab-df-quickchart:hover {\n",
              "    background-color: var(--hover-bg-color);\n",
              "    box-shadow: 0 1px 2px rgba(60, 64, 67, 0.3), 0 1px 3px 1px rgba(60, 64, 67, 0.15);\n",
              "    fill: var(--button-hover-fill-color);\n",
              "  }\n",
              "\n",
              "  .colab-df-quickchart-complete:disabled,\n",
              "  .colab-df-quickchart-complete:disabled:hover {\n",
              "    background-color: var(--disabled-bg-color);\n",
              "    fill: var(--disabled-fill-color);\n",
              "    box-shadow: none;\n",
              "  }\n",
              "\n",
              "  .colab-df-spinner {\n",
              "    border: 2px solid var(--fill-color);\n",
              "    border-color: transparent;\n",
              "    border-bottom-color: var(--fill-color);\n",
              "    animation:\n",
              "      spin 1s steps(1) infinite;\n",
              "  }\n",
              "\n",
              "  @keyframes spin {\n",
              "    0% {\n",
              "      border-color: transparent;\n",
              "      border-bottom-color: var(--fill-color);\n",
              "      border-left-color: var(--fill-color);\n",
              "    }\n",
              "    20% {\n",
              "      border-color: transparent;\n",
              "      border-left-color: var(--fill-color);\n",
              "      border-top-color: var(--fill-color);\n",
              "    }\n",
              "    30% {\n",
              "      border-color: transparent;\n",
              "      border-left-color: var(--fill-color);\n",
              "      border-top-color: var(--fill-color);\n",
              "      border-right-color: var(--fill-color);\n",
              "    }\n",
              "    40% {\n",
              "      border-color: transparent;\n",
              "      border-right-color: var(--fill-color);\n",
              "      border-top-color: var(--fill-color);\n",
              "    }\n",
              "    60% {\n",
              "      border-color: transparent;\n",
              "      border-right-color: var(--fill-color);\n",
              "    }\n",
              "    80% {\n",
              "      border-color: transparent;\n",
              "      border-right-color: var(--fill-color);\n",
              "      border-bottom-color: var(--fill-color);\n",
              "    }\n",
              "    90% {\n",
              "      border-color: transparent;\n",
              "      border-bottom-color: var(--fill-color);\n",
              "    }\n",
              "  }\n",
              "</style>\n",
              "\n",
              "  <script>\n",
              "    async function quickchart(key) {\n",
              "      const quickchartButtonEl =\n",
              "        document.querySelector('#' + key + ' button');\n",
              "      quickchartButtonEl.disabled = true;  // To prevent multiple clicks.\n",
              "      quickchartButtonEl.classList.add('colab-df-spinner');\n",
              "      try {\n",
              "        const charts = await google.colab.kernel.invokeFunction(\n",
              "            'suggestCharts', [key], {});\n",
              "      } catch (error) {\n",
              "        console.error('Error during call to suggestCharts:', error);\n",
              "      }\n",
              "      quickchartButtonEl.classList.remove('colab-df-spinner');\n",
              "      quickchartButtonEl.classList.add('colab-df-quickchart-complete');\n",
              "    }\n",
              "    (() => {\n",
              "      let quickchartButtonEl =\n",
              "        document.querySelector('#df-85a691de-f5d1-42b4-9807-9a2ffa2b7e97 button');\n",
              "      quickchartButtonEl.style.display =\n",
              "        google.colab.kernel.accessAllowed ? 'block' : 'none';\n",
              "    })();\n",
              "  </script>\n",
              "</div>\n",
              "\n",
              "  <div id=\"id_ee3cad30-6777-40ac-9ece-26d4a5bac3a7\">\n",
              "    <style>\n",
              "      .colab-df-generate {\n",
              "        background-color: #E8F0FE;\n",
              "        border: none;\n",
              "        border-radius: 50%;\n",
              "        cursor: pointer;\n",
              "        display: none;\n",
              "        fill: #1967D2;\n",
              "        height: 32px;\n",
              "        padding: 0 0 0 0;\n",
              "        width: 32px;\n",
              "      }\n",
              "\n",
              "      .colab-df-generate:hover {\n",
              "        background-color: #E2EBFA;\n",
              "        box-shadow: 0px 1px 2px rgba(60, 64, 67, 0.3), 0px 1px 3px 1px rgba(60, 64, 67, 0.15);\n",
              "        fill: #174EA6;\n",
              "      }\n",
              "\n",
              "      [theme=dark] .colab-df-generate {\n",
              "        background-color: #3B4455;\n",
              "        fill: #D2E3FC;\n",
              "      }\n",
              "\n",
              "      [theme=dark] .colab-df-generate:hover {\n",
              "        background-color: #434B5C;\n",
              "        box-shadow: 0px 1px 3px 1px rgba(0, 0, 0, 0.15);\n",
              "        filter: drop-shadow(0px 1px 2px rgba(0, 0, 0, 0.3));\n",
              "        fill: #FFFFFF;\n",
              "      }\n",
              "    </style>\n",
              "    <button class=\"colab-df-generate\" onclick=\"generateWithVariable('ai_df')\"\n",
              "            title=\"Generate code using this dataframe.\"\n",
              "            style=\"display:none;\">\n",
              "\n",
              "  <svg xmlns=\"http://www.w3.org/2000/svg\" height=\"24px\"viewBox=\"0 0 24 24\"\n",
              "       width=\"24px\">\n",
              "    <path d=\"M7,19H8.4L18.45,9,17,7.55,7,17.6ZM5,21V16.75L18.45,3.32a2,2,0,0,1,2.83,0l1.4,1.43a1.91,1.91,0,0,1,.58,1.4,1.91,1.91,0,0,1-.58,1.4L9.25,21ZM18.45,9,17,7.55Zm-12,3A5.31,5.31,0,0,0,4.9,8.1,5.31,5.31,0,0,0,1,6.5,5.31,5.31,0,0,0,4.9,4.9,5.31,5.31,0,0,0,6.5,1,5.31,5.31,0,0,0,8.1,4.9,5.31,5.31,0,0,0,12,6.5,5.46,5.46,0,0,0,6.5,12Z\"/>\n",
              "  </svg>\n",
              "    </button>\n",
              "    <script>\n",
              "      (() => {\n",
              "      const buttonEl =\n",
              "        document.querySelector('#id_ee3cad30-6777-40ac-9ece-26d4a5bac3a7 button.colab-df-generate');\n",
              "      buttonEl.style.display =\n",
              "        google.colab.kernel.accessAllowed ? 'block' : 'none';\n",
              "\n",
              "      buttonEl.onclick = () => {\n",
              "        google.colab.notebook.generateWithVariable('ai_df');\n",
              "      }\n",
              "      })();\n",
              "    </script>\n",
              "  </div>\n",
              "\n",
              "    </div>\n",
              "  </div>\n"
            ],
            "application/vnd.google.colaboratory.intrinsic+json": {
              "type": "dataframe",
              "variable_name": "ai_df"
            }
          },
          "metadata": {},
          "execution_count": 6
        }
      ]
    },
    {
      "cell_type": "markdown",
      "source": [
        "## Balance Classes"
      ],
      "metadata": {
        "id": "tmIFLYfEAEWm"
      }
    },
    {
      "cell_type": "code",
      "source": [
        "# separate classes to support resampling\n",
        "class_majority = ai_df[ai_df['label'] == 0.0]\n",
        "class_minority = ai_df[ai_df['label'] == 1.0]\n",
        "\n",
        "# print class distribution before resampling\n",
        "print('Class Distribution BEFORE Resampling:')\n",
        "print('-------------------------------------')\n",
        "print('Majority Samples (Human - Class 0):', len(class_majority))\n",
        "print('Minority Samples (AI - Class 1):', len(class_minority))\n",
        "\n",
        "# resample (downsample) majority class to equal minority class\n",
        "class_majority_resample = resample(class_majority, replace=False, n_samples=len(class_minority), random_state=0)\n",
        "\n",
        "# join dataframes\n",
        "ai_df_balanced = pd.concat([class_minority, class_majority_resample])\n",
        "\n",
        "# obtain class counts from new dataframe to verify\n",
        "class_count_human = len(ai_df_balanced[ai_df_balanced['label'] == 0.0])\n",
        "class_count_ai = len(ai_df_balanced[ai_df_balanced['label'] == 1.0])\n",
        "\n",
        "# print class distribution after resampling\n",
        "print('\\nClass Distribution AFTER Resampling:')\n",
        "print('-------------------------------------')\n",
        "print('Majority Samples (Human - Class 0):', class_count_human)\n",
        "print('Minority Samples (AI - Class 1):', class_count_ai)"
      ],
      "metadata": {
        "colab": {
          "base_uri": "https://localhost:8080/"
        },
        "id": "qJ5QNvHKBO3s",
        "outputId": "b69b648f-c20c-49bf-cd48-024cfebfcea6"
      },
      "execution_count": 7,
      "outputs": [
        {
          "output_type": "stream",
          "name": "stdout",
          "text": [
            "Class Distribution BEFORE Resampling:\n",
            "-------------------------------------\n",
            "Majority Samples (Human - Class 0): 305797\n",
            "Minority Samples (AI - Class 1): 181438\n",
            "\n",
            "Class Distribution AFTER Resampling:\n",
            "-------------------------------------\n",
            "Majority Samples (Human - Class 0): 181438\n",
            "Minority Samples (AI - Class 1): 181438\n"
          ]
        }
      ]
    },
    {
      "cell_type": "markdown",
      "source": [
        "## Define Tokenize Function"
      ],
      "metadata": {
        "id": "CqiFz_AG81p9"
      }
    },
    {
      "cell_type": "code",
      "source": [
        "# function to generate vocabulary from original strings\n",
        "def yield_tokens(orig_strings):\n",
        "    for str in orig_strings:\n",
        "        yield tokenizer(str)"
      ],
      "metadata": {
        "id": "9y5lk4B-__bM"
      },
      "execution_count": 8,
      "outputs": []
    },
    {
      "cell_type": "markdown",
      "source": [
        "# Custom Model Prep"
      ],
      "metadata": {
        "id": "9RMrLni6aKUE"
      }
    },
    {
      "cell_type": "markdown",
      "source": [
        "## Review DistilBERT Config"
      ],
      "metadata": {
        "id": "2RveuwNOtpyL"
      }
    },
    {
      "cell_type": "code",
      "source": [
        "# initialize DistilBERT configuration\n",
        "configuration = DistilBertConfig()\n",
        "\n",
        "# initialize a DistilBERT model using configuration\n",
        "model = DistilBertModel(configuration)\n",
        "\n",
        "# review configuration\n",
        "print('DistilBERT Config:\\n', model.config)"
      ],
      "metadata": {
        "id": "acPoUfQsQu2I",
        "colab": {
          "base_uri": "https://localhost:8080/"
        },
        "outputId": "2a3f9479-d511-45df-bf4f-7b520d3ab86f"
      },
      "execution_count": 9,
      "outputs": [
        {
          "output_type": "stream",
          "name": "stdout",
          "text": [
            "DistilBERT Config:\n",
            " DistilBertConfig {\n",
            "  \"activation\": \"gelu\",\n",
            "  \"attention_dropout\": 0.1,\n",
            "  \"dim\": 768,\n",
            "  \"dropout\": 0.1,\n",
            "  \"hidden_dim\": 3072,\n",
            "  \"initializer_range\": 0.02,\n",
            "  \"max_position_embeddings\": 512,\n",
            "  \"model_type\": \"distilbert\",\n",
            "  \"n_heads\": 12,\n",
            "  \"n_layers\": 6,\n",
            "  \"pad_token_id\": 0,\n",
            "  \"qa_dropout\": 0.1,\n",
            "  \"seq_classif_dropout\": 0.2,\n",
            "  \"sinusoidal_pos_embds\": false,\n",
            "  \"transformers_version\": \"4.38.2\",\n",
            "  \"vocab_size\": 30522\n",
            "}\n",
            "\n"
          ]
        }
      ]
    },
    {
      "cell_type": "markdown",
      "source": [
        "## Build Torch Datasets Class"
      ],
      "metadata": {
        "id": "0Ro1lM4o9Llr"
      }
    },
    {
      "cell_type": "code",
      "source": [
        "# define class to build torch dataset required for pytorch training\n",
        "class TorchDataset(Dataset):\n",
        "    def __init__(self, texts, labels, tokenizer):\n",
        "        self.tokenizer = tokenizer\n",
        "        self.input_ids = []\n",
        "        self.labels = labels\n",
        "        for text in texts:\n",
        "            tokenized_text = tokenizer(text)\n",
        "            self.input_ids.append([vocab[token] for token in tokenized_text])\n",
        "\n",
        "    def __len__(self):\n",
        "        return len(self.labels)\n",
        "\n",
        "    def __getitem__(self, idx):\n",
        "        out = {\n",
        "                'input_id': self.input_ids[idx],\n",
        "                'label': self.labels.iloc[idx]\n",
        "        }\n",
        "\n",
        "        return out"
      ],
      "metadata": {
        "id": "IHI2Ja0B9sIM"
      },
      "execution_count": 10,
      "outputs": []
    },
    {
      "cell_type": "markdown",
      "source": [
        "## Build and Split Datasets"
      ],
      "metadata": {
        "id": "klUFflF9C0rw"
      }
    },
    {
      "cell_type": "code",
      "source": [
        "# define X and y from our entire balanced dataframe\n",
        "X = ai_df_balanced['orig_str']\n",
        "y = ai_df_balanced['label']\n",
        "\n",
        "# first split dataset into 90% training and 10% testing, shuffle and stratify classes\n",
        "X_train, X_test, y_train, y_test = train_test_split(X, y, test_size=.10, random_state=0, shuffle=True, stratify=y)\n",
        "\n",
        "# next split resulting training set into 80% training and 20% validation, shuffle and stratify classes\n",
        "X_train, X_val, y_train, y_val = train_test_split(X_train, y_train, test_size=.20, random_state=0, shuffle=True, stratify=y_train)\n",
        "\n",
        "# generate tokenizer function\n",
        "tokenizer = get_tokenizer('basic_english')\n",
        "\n",
        "# build vocabulary\n",
        "default_index = 0\n",
        "vocab = build_vocab_from_iterator(yield_tokens(X_train), specials=['<unk>'])\n",
        "vocab.set_default_index(default_index)\n",
        "\n",
        "# define number of embeddings\n",
        "num_embeddings = len(vocab)\n",
        "\n",
        "# embedding dimensions\n",
        "embedding_dim = 768\n",
        "\n",
        "# call function to build torch datasets\n",
        "train_dataset = TorchDataset(X_train, y_train, tokenizer)\n",
        "val_dataset = TorchDataset(X_val, y_val, tokenizer)\n",
        "test_dataset = TorchDataset(X_test, y_test, tokenizer)\n",
        "\n",
        "# print dataset sizes\n",
        "print('Dataset sizes AFTER splitting:')\n",
        "print('------------------------------')\n",
        "print('Train:', len(train_dataset))\n",
        "print('Val:', len(val_dataset))\n",
        "print('Test:', len(test_dataset))"
      ],
      "metadata": {
        "colab": {
          "base_uri": "https://localhost:8080/"
        },
        "id": "P2WocDypI84l",
        "outputId": "c7bc385d-c05e-4ed3-d6c2-b444162519bc"
      },
      "execution_count": 11,
      "outputs": [
        {
          "output_type": "stream",
          "name": "stdout",
          "text": [
            "Dataset sizes AFTER splitting:\n",
            "------------------------------\n",
            "Train: 261270\n",
            "Val: 65318\n",
            "Test: 36288\n"
          ]
        }
      ]
    },
    {
      "cell_type": "markdown",
      "source": [
        "## Create Dataloaders"
      ],
      "metadata": {
        "id": "t206fmKvHoBN"
      }
    },
    {
      "cell_type": "code",
      "source": [
        "# define custom collate_fn to zero-pad sequences\n",
        "def collate_fn_padding(batch):\n",
        "\n",
        "    # obtain input_ids and labels from batch, convert to torch tensors\n",
        "    input_ids = [torch.tensor(sample['input_id']).long().to(device) for sample in batch]\n",
        "    labels = torch.tensor([sample['label'] for sample in batch]).float().to(device)\n",
        "\n",
        "    # pad input sequences to maximum sequence length in batch\n",
        "    max_length = max(len(input_id) for input_id in input_ids)\n",
        "    padded_input_id = [F.pad(input=input_id, pad=(0, max_length - len(input_id)), mode='constant', value=0) for input_id in input_ids]\n",
        "\n",
        "    # put the tensors together in a single batch\n",
        "    padded_input_ids = torch.stack(padded_input_id)\n",
        "\n",
        "    # convert labels to 2d float values for compatibility\n",
        "    labels = labels.float()\n",
        "    labels = labels.unsqueeze(1)\n",
        "\n",
        "    return padded_input_ids, labels"
      ],
      "metadata": {
        "id": "3AWwfDYsP3Ky"
      },
      "execution_count": 12,
      "outputs": []
    },
    {
      "cell_type": "code",
      "source": [
        "# create dataloaders for train, val, and test datasets\n",
        "# specify custom collate_fn\n",
        "train_dataloader = DataLoader(train_dataset, batch_size=32, collate_fn=collate_fn_padding, shuffle=True)\n",
        "val_dataloader = DataLoader(val_dataset, batch_size=32, collate_fn=collate_fn_padding, shuffle=True)\n",
        "test_dataloader = DataLoader(test_dataset, batch_size=32, collate_fn=collate_fn_padding, shuffle=True)"
      ],
      "metadata": {
        "id": "R1FHJRi3Htqn"
      },
      "execution_count": 13,
      "outputs": []
    },
    {
      "cell_type": "markdown",
      "source": [
        "### Print Sample Batch Sizes"
      ],
      "metadata": {
        "id": "sqG1SKoPPMq8"
      }
    },
    {
      "cell_type": "code",
      "source": [
        "# obtain inputs and labels of dataloader sample batches\n",
        "train_inputs, train_labels = next(iter(train_dataloader))\n",
        "val_inputs, val_labels = next(iter(val_dataloader))\n",
        "test_inputs, test_labels = next(iter(test_dataloader))\n",
        "\n",
        "# print sample batch inputs size\n",
        "print('Sample Batch Inputs Size:')\n",
        "print('-------------------------')\n",
        "print('Train:', train_inputs.size())\n",
        "print('Val:', val_inputs.size())\n",
        "print('Test:', test_inputs.size())\n",
        "\n",
        "# print sample batch labels size\n",
        "print('\\nSample Batch Labels Size:')\n",
        "print('-------------------------')\n",
        "print('Train:', train_labels.size())\n",
        "print('Val:', val_labels.size())\n",
        "print('Test:', test_labels.size())"
      ],
      "metadata": {
        "colab": {
          "base_uri": "https://localhost:8080/"
        },
        "id": "Rma0X1lIH-Hv",
        "outputId": "2c72f742-0efc-4867-ab72-9b5bd45e931d"
      },
      "execution_count": 14,
      "outputs": [
        {
          "output_type": "stream",
          "name": "stdout",
          "text": [
            "Sample Batch Inputs Size:\n",
            "-------------------------\n",
            "Train: torch.Size([32, 829])\n",
            "Val: torch.Size([32, 1131])\n",
            "Test: torch.Size([32, 1015])\n",
            "\n",
            "Sample Batch Labels Size:\n",
            "-------------------------\n",
            "Train: torch.Size([32, 1])\n",
            "Val: torch.Size([32, 1])\n",
            "Test: torch.Size([32, 1])\n"
          ]
        }
      ]
    },
    {
      "cell_type": "markdown",
      "source": [
        "# Custom Transformer"
      ],
      "metadata": {
        "id": "8EFY0R1ZPsQa"
      }
    },
    {
      "cell_type": "markdown",
      "source": [
        "## Define Class for Positional Encoding"
      ],
      "metadata": {
        "id": "HW0ssdO_d65X"
      }
    },
    {
      "cell_type": "code",
      "source": [
        "# define class for positional encoding\n",
        "# NOTE* - Class code retrieved and modified from:\n",
        "# https://pytorch.org/tutorials/beginner/transformer_tutorial.html\n",
        "class PositionalEncoding(nn.Module):\n",
        "\n",
        "    def __init__(self, d_model: int, dropout: float = 0.1, max_len: int = 5000):\n",
        "        super().__init__()\n",
        "        self.d_model = d_model\n",
        "        self.dropout = nn.Dropout(p=dropout)\n",
        "\n",
        "\n",
        "    # forward pass\n",
        "    def forward(self, x: Tensor) -> Tensor:\n",
        "        \"\"\"\n",
        "        Arguments:\n",
        "            x: Tensor, shape ``[batch_size, seq_length, embedding_dim]``\n",
        "        \"\"\"\n",
        "        # obtain shape of input tensor\n",
        "        batch_size, seq_length, embedding_dim = x.size()\n",
        "\n",
        "        # calculate positional encoding, results in [1, seq_length, 1] shape\n",
        "        position = torch.arange(seq_length).unsqueeze(0).unsqueeze(-1)\n",
        "\n",
        "        # calculate divisor term for sine and cosine functions\n",
        "        div_term = torch.exp(torch.arange(0, self.d_model, 2) * (-math.log(10000.0) / self.d_model))\n",
        "\n",
        "        # initialize tensor of 0s\n",
        "        pe = torch.zeros(batch_size, seq_length, self.d_model)\n",
        "\n",
        "        # calculate sine for even indices and cosine for odd\n",
        "        pe[0, :, 0::2] = torch.sin(position * div_term)\n",
        "        pe[0, :, 1::2] = torch.cos(position * div_term)\n",
        "\n",
        "        # add positional encoding to input tensor, set to same device\n",
        "        x = x + pe.to(device)\n",
        "\n",
        "        # apply dropout and return\n",
        "        return self.dropout(x)"
      ],
      "metadata": {
        "id": "OfcR_DVTqrfT"
      },
      "execution_count": 15,
      "outputs": []
    },
    {
      "cell_type": "markdown",
      "source": [
        "## Define Class for Custom Architecture"
      ],
      "metadata": {
        "id": "PQStKnoWPzW4"
      }
    },
    {
      "cell_type": "code",
      "source": [
        "# define class to build custom transformer model\n",
        "class TransformerModel(nn.Module):\n",
        "    def __init__(\n",
        "        self,\n",
        "        num_embeddings, # size of vocab\n",
        "        embedding_dim, # embedding dimensions\n",
        "        d_model, # number of expected input features\n",
        "        nhead, # number of heads for multi-attention\n",
        "        dim_feedforward, # dimension of feedforward network\n",
        "        dropout, # dropout value\n",
        "        activation, # intermediate layer activation function\n",
        "        num_layers # number of transformer layers\n",
        "    ):\n",
        "        super().__init__()\n",
        "\n",
        "        # embedding layer\n",
        "        self.embedding_layer = nn.Embedding(num_embeddings, embedding_dim)\n",
        "\n",
        "        # positional encoding module\n",
        "        # NOTE* - Module use obtained from:\n",
        "        # https://pytorch.org/tutorials/beginner/transformer_tutorial.html\n",
        "        self.pos_encoder = PositionalEncoding(d_model, dropout)\n",
        "\n",
        "        # transformer layers\n",
        "        self.transformer_layers = nn.TransformerEncoder(\n",
        "            nn.TransformerEncoderLayer(\n",
        "                d_model = d_model, # number of expected input features\n",
        "                nhead = nhead, # number of heads for multi-attention\n",
        "                dim_feedforward=dim_feedforward, # dimension of feedforward network\n",
        "                dropout=dropout, # dropout value\n",
        "                activation=activation, # intermediate layer activation function\n",
        "                batch_first=True # (batch, seq, feature) format\n",
        "\n",
        "            ),\n",
        "            num_layers=num_layers # number of transformer layers\n",
        "        )\n",
        "\n",
        "        # predictive layer, 1 output for binary classification\n",
        "        self.predictive_layer = nn.Linear(embedding_dim, 1)\n",
        "\n",
        "        # sigmoid activation function for output between 0 and 1\n",
        "        self.sigmoid_activation = nn.Sigmoid()\n",
        "\n",
        "\n",
        "    # function for forward pass\n",
        "    def forward(self, x):\n",
        "        x = self.embedding_layer(x)\n",
        "        x = self.pos_encoder(x)\n",
        "        x = self.transformer_layers(x)\n",
        "        x = torch.mean(x, dim=1) # mean pooling\n",
        "        x = self.predictive_layer(x)\n",
        "        x = self.sigmoid_activation(x)\n",
        "        return x"
      ],
      "metadata": {
        "id": "ncqYaIqa__WR"
      },
      "execution_count": 16,
      "outputs": []
    },
    {
      "cell_type": "markdown",
      "source": [
        "## Instantiate Model"
      ],
      "metadata": {
        "id": "cVZHoz-YP6rw"
      }
    },
    {
      "cell_type": "code",
      "source": [
        "# instantiate custom transformer model\n",
        "custom_model = TransformerModel(\n",
        "    num_embeddings, # size of vocab\n",
        "    embedding_dim, # embedding dimensions\n",
        "    d_model=768, # number of expected input features\n",
        "    nhead=12, # number of heads for multi-attention\n",
        "    dim_feedforward=1024, # dimension of feedforward network\n",
        "    dropout=0.1, # dropout value\n",
        "    activation='gelu', # intermediate layer activation function\n",
        "    num_layers=2 # number of transformer layers\n",
        ")\n",
        "\n",
        "# use GPU/CPU hardware\n",
        "custom_model.to(device)"
      ],
      "metadata": {
        "colab": {
          "base_uri": "https://localhost:8080/"
        },
        "id": "LBe3PTWD__T5",
        "outputId": "220fdbe6-95bd-4342-c49f-fc0469dbf1cc"
      },
      "execution_count": 17,
      "outputs": [
        {
          "output_type": "execute_result",
          "data": {
            "text/plain": [
              "TransformerModel(\n",
              "  (embedding_layer): Embedding(208251, 768)\n",
              "  (pos_encoder): PositionalEncoding(\n",
              "    (dropout): Dropout(p=0.1, inplace=False)\n",
              "  )\n",
              "  (transformer_layers): TransformerEncoder(\n",
              "    (layers): ModuleList(\n",
              "      (0-1): 2 x TransformerEncoderLayer(\n",
              "        (self_attn): MultiheadAttention(\n",
              "          (out_proj): NonDynamicallyQuantizableLinear(in_features=768, out_features=768, bias=True)\n",
              "        )\n",
              "        (linear1): Linear(in_features=768, out_features=1024, bias=True)\n",
              "        (dropout): Dropout(p=0.1, inplace=False)\n",
              "        (linear2): Linear(in_features=1024, out_features=768, bias=True)\n",
              "        (norm1): LayerNorm((768,), eps=1e-05, elementwise_affine=True)\n",
              "        (norm2): LayerNorm((768,), eps=1e-05, elementwise_affine=True)\n",
              "        (dropout1): Dropout(p=0.1, inplace=False)\n",
              "        (dropout2): Dropout(p=0.1, inplace=False)\n",
              "      )\n",
              "    )\n",
              "  )\n",
              "  (predictive_layer): Linear(in_features=768, out_features=1, bias=True)\n",
              "  (sigmoid_activation): Sigmoid()\n",
              ")"
            ]
          },
          "metadata": {},
          "execution_count": 17
        }
      ]
    },
    {
      "cell_type": "markdown",
      "source": [
        "# Model Training"
      ],
      "metadata": {
        "id": "fn_diBqYQM1M"
      }
    },
    {
      "cell_type": "markdown",
      "source": [
        "## Define Training Function"
      ],
      "metadata": {
        "id": "n7PVESkSQFlW"
      }
    },
    {
      "cell_type": "code",
      "source": [
        "# define training function\n",
        "def train(\n",
        "        model,\n",
        "        save_path,\n",
        "        train_dataloader,\n",
        "        val_dataloader,\n",
        "        num_epochs,\n",
        "        lr,\n",
        "        patience\n",
        "):\n",
        "    criterion = nn.BCELoss() # binary cross entropy\n",
        "    optimizer = torch.optim.Adam(model.parameters(), lr=lr) # adam optimizer\n",
        "\n",
        "    # running losses\n",
        "    train_losses = []\n",
        "    val_losses = []\n",
        "\n",
        "    # binary accuracy metric and running accuracies\n",
        "    metric = BinaryAccuracy(device=device)\n",
        "    train_accuracies = []\n",
        "    val_accuracies = []\n",
        "\n",
        "    # variables to save best model and early stopping\n",
        "    best_val_accuracy = 0.0 # initial value for comparison\n",
        "    stalled_training_count = 0 # initialize counter\n",
        "\n",
        "    # iterate through each epoch\n",
        "    for epoch in range(num_epochs):\n",
        "\n",
        "        # reset per-epoch losses and metric\n",
        "        epoch_train_loss = 0.0\n",
        "        epoch_val_loss = 0.0\n",
        "        metric.reset()\n",
        "\n",
        "        # training loop\n",
        "        model.train() # set to train mode\n",
        "\n",
        "        for inputs, labels in tqdm(train_dataloader, desc='Training'):\n",
        "\n",
        "            # clear gradients\n",
        "            optimizer.zero_grad()\n",
        "\n",
        "            # forward pass, obtain predictions\n",
        "            outputs = model(inputs)\n",
        "\n",
        "            # calculate binary cross entropy loss\n",
        "            loss = criterion(outputs, labels)\n",
        "\n",
        "            # update metric\n",
        "            metric.update(outputs.squeeze(), labels.squeeze())\n",
        "\n",
        "            # backward pass, backpropagation\n",
        "            loss.backward()\n",
        "\n",
        "            # model parameter update\n",
        "            optimizer.step()\n",
        "\n",
        "            # add loss from current training batch\n",
        "            epoch_train_loss += loss.item()\n",
        "\n",
        "        # save running loss and metrics during training\n",
        "        train_losses.append(epoch_train_loss / len(train_dataloader))\n",
        "        train_accuracies.append(metric.compute().item())\n",
        "\n",
        "        # reset metric for validation\n",
        "        metric.reset()\n",
        "\n",
        "        # validation loop\n",
        "        model.eval() # set to eval mode\n",
        "\n",
        "        # disable gradient computation\n",
        "        with torch.no_grad():\n",
        "\n",
        "            for inputs, labels in tqdm(val_dataloader, desc='Validation'):\n",
        "\n",
        "                # obtain predictions, update metric and val loss\n",
        "                val_outputs = model(inputs)\n",
        "                val_loss = criterion(val_outputs, labels)\n",
        "                metric.update(val_outputs.squeeze(), labels.squeeze())\n",
        "                epoch_val_loss += val_loss.item()\n",
        "\n",
        "            # save running loss and metrics during validation\n",
        "            val_losses.append(epoch_val_loss / len(val_dataloader))\n",
        "            val_accuracies.append(metric.compute().item())\n",
        "\n",
        "        # print results after every specified epochs\n",
        "        if epoch % 1 == 0:\n",
        "            print(\n",
        "                ('\\nEpoch {}/{} Results --- train_loss: {:.4f} --- train_acc: {:.4f}'\n",
        "                ' --- val_loss: {:.4f} --- val_acc: {:.4f}\\n').format(\n",
        "                    epoch + 1,\n",
        "                    num_epochs,\n",
        "                    train_losses[-1],\n",
        "                    train_accuracies[-1],\n",
        "                    val_losses[-1],\n",
        "                    val_accuracies[-1]\n",
        "                )\n",
        "            )\n",
        "\n",
        "        # save best model upon val accuracy increase\n",
        "        # otherwise, check for early stopping condition\n",
        "        if val_accuracies[-1] > best_val_accuracy:\n",
        "            best_val_accuracy = val_accuracies[-1] # update best val accuracy\n",
        "            torch.save(model, save_path) # save model\n",
        "            stalled_training_count = 0 # reset counter\n",
        "        else:\n",
        "            stalled_training_count += 1 # increment counter\n",
        "\n",
        "            # check for early stopping\n",
        "            if stalled_training_count >= patience:\n",
        "                print('Early stopping...')\n",
        "                print('Validation accuracy has not improved for {} epochs.'.format(patience))\n",
        "                return train_losses, val_losses, train_accuracies, val_accuracies # exit training early\n",
        "\n",
        "    return train_losses, val_losses, train_accuracies, val_accuracies"
      ],
      "metadata": {
        "id": "LV_TWRgY__Mx"
      },
      "execution_count": 18,
      "outputs": []
    },
    {
      "cell_type": "markdown",
      "source": [
        "## Train Model"
      ],
      "metadata": {
        "id": "bkyrj4VTQVzZ"
      }
    },
    {
      "cell_type": "code",
      "source": [
        "# training parameters\n",
        "save_path = '/content/drive/MyDrive/models/custom_model.pt' # save best model\n",
        "num_epochs = 10 # number of epochs to train\n",
        "lr = 0.001 # learning rate\n",
        "patience = 2 # early stop if no improvments for this number of epochs\n",
        "\n",
        "# train model\n",
        "train_losses, val_losses, train_accuracies, val_accuracies = train(\n",
        "    custom_model,\n",
        "    save_path,\n",
        "    train_dataloader,\n",
        "    val_dataloader,\n",
        "    num_epochs,\n",
        "    lr,\n",
        "    patience\n",
        ")"
      ],
      "metadata": {
        "colab": {
          "base_uri": "https://localhost:8080/"
        },
        "id": "iojIycivgXWH",
        "outputId": "a37eb6e1-3672-40c7-b8fd-35b62b07bcf0"
      },
      "execution_count": null,
      "outputs": [
        {
          "output_type": "stream",
          "name": "stderr",
          "text": [
            "Training: 100%|██████████| 8165/8165 [51:34<00:00,  2.64it/s]\n",
            "Validation: 100%|██████████| 2042/2042 [05:40<00:00,  5.99it/s]\n"
          ]
        },
        {
          "output_type": "stream",
          "name": "stdout",
          "text": [
            "\n",
            "Epoch 1/10 Results --- train_loss: 0.3343 --- train_acc: 0.8550 --- val_loss: 0.3568 --- val_acc: 0.8458\n",
            "\n"
          ]
        },
        {
          "output_type": "stream",
          "name": "stderr",
          "text": [
            "Training: 100%|██████████| 8165/8165 [51:41<00:00,  2.63it/s]\n",
            "Validation: 100%|██████████| 2042/2042 [06:00<00:00,  5.66it/s]\n"
          ]
        },
        {
          "output_type": "stream",
          "name": "stdout",
          "text": [
            "\n",
            "Epoch 2/10 Results --- train_loss: 0.1730 --- train_acc: 0.9360 --- val_loss: 0.1649 --- val_acc: 0.9394\n",
            "\n"
          ]
        },
        {
          "output_type": "stream",
          "name": "stderr",
          "text": [
            "Training: 100%|██████████| 8165/8165 [50:39<00:00,  2.69it/s]\n",
            "Validation: 100%|██████████| 2042/2042 [05:46<00:00,  5.89it/s]\n"
          ]
        },
        {
          "output_type": "stream",
          "name": "stdout",
          "text": [
            "\n",
            "Epoch 3/10 Results --- train_loss: 0.1643 --- train_acc: 0.9405 --- val_loss: 0.1704 --- val_acc: 0.9383\n",
            "\n"
          ]
        },
        {
          "output_type": "stream",
          "name": "stderr",
          "text": [
            "Training: 100%|██████████| 8165/8165 [51:44<00:00,  2.63it/s]\n",
            "Validation: 100%|██████████| 2042/2042 [06:00<00:00,  5.66it/s]\n"
          ]
        },
        {
          "output_type": "stream",
          "name": "stdout",
          "text": [
            "\n",
            "Epoch 4/10 Results --- train_loss: 0.1665 --- train_acc: 0.9385 --- val_loss: 0.1656 --- val_acc: 0.9400\n",
            "\n"
          ]
        },
        {
          "output_type": "stream",
          "name": "stderr",
          "text": [
            "Training: 100%|██████████| 8165/8165 [51:23<00:00,  2.65it/s]\n",
            "Validation: 100%|██████████| 2042/2042 [05:58<00:00,  5.69it/s]\n"
          ]
        },
        {
          "output_type": "stream",
          "name": "stdout",
          "text": [
            "\n",
            "Epoch 5/10 Results --- train_loss: 0.1770 --- train_acc: 0.9330 --- val_loss: 0.1919 --- val_acc: 0.9237\n",
            "\n"
          ]
        },
        {
          "output_type": "stream",
          "name": "stderr",
          "text": [
            "Training: 100%|██████████| 8165/8165 [51:09<00:00,  2.66it/s]\n",
            "Validation: 100%|██████████| 2042/2042 [06:04<00:00,  5.60it/s]\n"
          ]
        },
        {
          "output_type": "stream",
          "name": "stdout",
          "text": [
            "\n",
            "Epoch 6/10 Results --- train_loss: 0.1947 --- train_acc: 0.9249 --- val_loss: 0.2337 --- val_acc: 0.9061\n",
            "\n"
          ]
        },
        {
          "output_type": "stream",
          "name": "stderr",
          "text": [
            "Training:   1%|▏         | 112/8165 [00:45<27:51,  4.82it/s]"
          ]
        }
      ]
    },
    {
      "cell_type": "markdown",
      "source": [
        "## Draw Learning Curves"
      ],
      "metadata": {
        "id": "r9Bwi8dWexWa"
      }
    },
    {
      "cell_type": "code",
      "source": [
        "# define losses/accuracies from previous training\n",
        "# these were not saved, only provided as output during training\n",
        "train_loss = [0.3343, 0.1730, 0.1643, 0.1665, 0.1770, 0.1947]\n",
        "val_loss = [0.3568, 0.1649, 0.1704, 0.1656, 0.1919, 0.2337]\n",
        "train_acc = [0.8550, 0.9360, 0.9405, 0.9385, 0.9330, 0.9249]\n",
        "val_acc = [0.8458, 0.9394, 0.9383, 0.9400, 0.9237, 0.9061]\n",
        "\n",
        "# define function to draw learning curves\n",
        "def learning_curves(train_loss, val_loss, train_acc, val_acc):\n",
        "\n",
        "    # create subplots\n",
        "    plt.subplots(1, 2, figsize=(15, 6))\n",
        "\n",
        "    # plot model loss\n",
        "    plt.subplot(1, 2, 1)\n",
        "    plt.plot(train_loss)\n",
        "    plt.plot(val_loss)\n",
        "    plt.title('Model Loss')\n",
        "    plt.ylabel('Loss')\n",
        "    plt.xlabel('Epoch')\n",
        "    plt.legend(['Train', 'Val'], loc='upper right')\n",
        "\n",
        "    # plot model accuracy\n",
        "    plt.subplot(1, 2, 2)\n",
        "    plt.plot(train_acc)\n",
        "    plt.plot(val_acc)\n",
        "    plt.title('Model Accuracy')\n",
        "    plt.ylabel('Accuracy')\n",
        "    plt.xlabel('Epoch')\n",
        "    plt.legend(['Train', 'Val'], loc='upper right')\n",
        "\n",
        "    # show plot\n",
        "    plt.show()\n",
        "\n",
        "# call function to draw learning curves\n",
        "learning_curves(train_loss, val_loss, train_acc, val_acc)"
      ],
      "metadata": {
        "colab": {
          "base_uri": "https://localhost:8080/",
          "height": 564
        },
        "id": "yDaljSswe04g",
        "outputId": "7c0c54b2-bad0-42cd-f159-8337c8ab9227"
      },
      "execution_count": 27,
      "outputs": [
        {
          "output_type": "display_data",
          "data": {
            "text/plain": [
              "<Figure size 1500x600 with 2 Axes>"
            ],
            "image/png": "[encoded data removed]"
          },
          "metadata": {}
        }
      ]
    },
    {
      "cell_type": "markdown",
      "source": [
        "# Model Evaluation"
      ],
      "metadata": {
        "id": "5QlmvcD3wuXS"
      }
    },
    {
      "cell_type": "markdown",
      "source": [
        "## Load Model"
      ],
      "metadata": {
        "id": "zQfCVgnzxTOS"
      }
    },
    {
      "cell_type": "code",
      "source": [
        "# set to True if needing to load model, False otherwise\n",
        "load_model = True\n",
        "\n",
        "# path to model to load\n",
        "model_path = '/content/drive/MyDrive/models/custom_model.pt'\n",
        "\n",
        "# load model\n",
        "if load_model == True:\n",
        "    if torch.cuda.is_available():\n",
        "        custom_model = torch.load(model_path) # GPU\n",
        "    else:\n",
        "        custom_model = torch.load(model_path, map_location=torch.device('cpu')) # CPU\n",
        "\n",
        "# set model to eval mode\n",
        "custom_model.eval()"
      ],
      "metadata": {
        "id": "heFY8s23xSJY",
        "colab": {
          "base_uri": "https://localhost:8080/"
        },
        "outputId": "59ee997f-dcf6-4a50-f1f4-9190bffeacb7"
      },
      "execution_count": 22,
      "outputs": [
        {
          "output_type": "execute_result",
          "data": {
            "text/plain": [
              "TransformerModel(\n",
              "  (embedding_layer): Embedding(208251, 768)\n",
              "  (pos_encoder): PositionalEncoding(\n",
              "    (dropout): Dropout(p=0.1, inplace=False)\n",
              "  )\n",
              "  (transformer_layers): TransformerEncoder(\n",
              "    (layers): ModuleList(\n",
              "      (0-1): 2 x TransformerEncoderLayer(\n",
              "        (self_attn): MultiheadAttention(\n",
              "          (out_proj): NonDynamicallyQuantizableLinear(in_features=768, out_features=768, bias=True)\n",
              "        )\n",
              "        (linear1): Linear(in_features=768, out_features=1024, bias=True)\n",
              "        (dropout): Dropout(p=0.1, inplace=False)\n",
              "        (linear2): Linear(in_features=1024, out_features=768, bias=True)\n",
              "        (norm1): LayerNorm((768,), eps=1e-05, elementwise_affine=True)\n",
              "        (norm2): LayerNorm((768,), eps=1e-05, elementwise_affine=True)\n",
              "        (dropout1): Dropout(p=0.1, inplace=False)\n",
              "        (dropout2): Dropout(p=0.1, inplace=False)\n",
              "      )\n",
              "    )\n",
              "  )\n",
              "  (predictive_layer): Linear(in_features=768, out_features=1, bias=True)\n",
              "  (sigmoid_activation): Sigmoid()\n",
              ")"
            ]
          },
          "metadata": {},
          "execution_count": 22
        }
      ]
    },
    {
      "cell_type": "markdown",
      "source": [
        "## Define Metrics Function"
      ],
      "metadata": {
        "id": "r5NUp6BixVEm"
      }
    },
    {
      "cell_type": "code",
      "source": [
        "# define function to get model metrics for val and test datasets\n",
        "def get_model_metrics(model, dataloader, threshold=0.5):\n",
        "\n",
        "    # initialize metrics\n",
        "    metric_ba = BinaryAccuracy(threshold=threshold, device=device)\n",
        "    metric_bp = BinaryPrecision(threshold=threshold, device=device)\n",
        "    metric_br = BinaryRecall(threshold=threshold, device=device)\n",
        "    metric_bf1 = BinaryF1Score(threshold=threshold, device=device)\n",
        "    metric_bcm = BinaryConfusionMatrix(threshold=threshold, device=device)\n",
        "\n",
        "    # disable gradient computation\n",
        "    with torch.no_grad():\n",
        "\n",
        "        # iterate through each batch\n",
        "        for inputs, labels in tqdm(dataloader, desc='Obtaining Metrics'):\n",
        "\n",
        "            # obtain predictions, update metric states\n",
        "            outputs = model(inputs)\n",
        "            metric_ba.update(outputs.squeeze(), labels.squeeze())\n",
        "            metric_bp.update(outputs.squeeze(), labels.squeeze())\n",
        "            metric_br.update(outputs.squeeze(), labels.int().squeeze())\n",
        "            metric_bf1.update(outputs.squeeze(), labels.squeeze())\n",
        "            metric_bcm.update(outputs.squeeze(), labels.int().squeeze())\n",
        "\n",
        "    # compute and save metrics\n",
        "    score_accuracy = metric_ba.compute().item()\n",
        "    score_precision = metric_bp.compute().item()\n",
        "    score_recall = metric_br.compute().item()\n",
        "    score_f1 = metric_bf1.compute().item()\n",
        "    bcm = metric_bcm.compute()\n",
        "\n",
        "    # print metrics\n",
        "    print('\\n')\n",
        "    print('Binary Accuracy:', '{:.2%}'.format(score_accuracy))\n",
        "    print('Binary Precision:', '{:.2%}'.format(score_precision))\n",
        "    print('Binary Recall:', '{:.2%}'.format(score_recall))\n",
        "    print('Binary F1 Score:', '{:.2%}'.format(score_f1))\n",
        "    print('\\nBinary Confusion Matrix:\\n', bcm)\n",
        "    print('\\nTrue Positive:', bcm[0][0].int().item())\n",
        "    print('False Negative:', bcm[0][1].int().item())\n",
        "    print('False Positive:', bcm[1][0].int().item())\n",
        "    print('True Negative:', bcm[1][1].int().item())\n",
        "\n",
        "    return score_accuracy, score_precision, score_recall, score_f1, bcm"
      ],
      "metadata": {
        "id": "_-9bHCm8xYD5"
      },
      "execution_count": 23,
      "outputs": []
    },
    {
      "cell_type": "markdown",
      "source": [
        "## Evaluate on Validation Set"
      ],
      "metadata": {
        "id": "6lpWXtbNxc6G"
      }
    },
    {
      "cell_type": "markdown",
      "source": [
        "### Obtain Metrics"
      ],
      "metadata": {
        "id": "_DFWiMvnZ3VN"
      }
    },
    {
      "cell_type": "code",
      "source": [
        "# evaluate validation dataset\n",
        "score_accuracy, score_precision, score_recall, score_f1, bcm = get_model_metrics(custom_model, val_dataloader)"
      ],
      "metadata": {
        "id": "2TxtF6-wxfZl",
        "colab": {
          "base_uri": "https://localhost:8080/"
        },
        "outputId": "23d17a3a-0d08-4d7a-909e-15196d1c1ef8"
      },
      "execution_count": 24,
      "outputs": [
        {
          "output_type": "stream",
          "name": "stderr",
          "text": [
            "Obtaining Metrics: 100%|██████████| 2042/2042 [17:19<00:00,  1.96it/s]"
          ]
        },
        {
          "output_type": "stream",
          "name": "stdout",
          "text": [
            "\n",
            "\n",
            "Binary Accuracy: 93.95%\n",
            "Binary Precision: 93.71%\n",
            "Binary Recall: 94.22%\n",
            "Binary F1 Score: 93.97%\n",
            "\n",
            "Binary Confusion Matrix:\n",
            " tensor([[30595.,  2064.],\n",
            "        [ 1887., 30772.]], device='cuda:0')\n",
            "\n",
            "True Positive: 30595\n",
            "False Negative: 2064\n",
            "False Positive: 1887\n",
            "True Negative: 30772\n"
          ]
        },
        {
          "output_type": "stream",
          "name": "stderr",
          "text": [
            "\n"
          ]
        }
      ]
    },
    {
      "cell_type": "markdown",
      "source": [
        "### Build Confusion Matrix"
      ],
      "metadata": {
        "id": "WSo_UTFpZ7vJ"
      }
    },
    {
      "cell_type": "code",
      "source": [
        "# combine values with text for annotations\n",
        "tp = str(bcm[0][0].int().item()) + '\\nTP'\n",
        "fn = str(bcm[0][1].int().item()) + '\\nFN'\n",
        "fp = str(bcm[1][0].int().item()) + '\\nFP'\n",
        "tn = str(bcm[1][1].int().item()) + '\\nTN'\n",
        "\n",
        "# create array with annotations\n",
        "bcm_annot = np.array([tp, fn, fp, tn]).reshape((2,2))\n",
        "\n",
        "# build and display confusion matrix\n",
        "plt.figure(figsize = (12,10))\n",
        "sns.heatmap(data=bcm.cpu(), annot=bcm_annot, annot_kws={'fontsize': 35, 'fontweight': 'heavy'}, fmt='', linewidths=2, linecolor='white', cmap='coolwarm')\n",
        "plt.title('Confusion Matrix - Validation Dataset', y=1.05, fontsize=20)\n",
        "plt.xlabel('Predicted', fontsize=16)\n",
        "plt.ylabel('Actual', fontsize=16)\n",
        "plt.xticks(ticks=[0.5, 1.5],labels=['1', '0'], fontsize=14)\n",
        "plt.yticks(ticks=[0.5, 1.5],labels=['1', '0'], fontsize=14)\n",
        "plt.show()"
      ],
      "metadata": {
        "colab": {
          "base_uri": "https://localhost:8080/",
          "height": 930
        },
        "id": "o8D9ZGFEZ-cU",
        "outputId": "67e15193-52bf-48f9-8876-4de50e611a7a"
      },
      "execution_count": 26,
      "outputs": [
        {
          "output_type": "display_data",
          "data": {
            "text/plain": [
              "<Figure size 1200x1000 with 2 Axes>"
            ],
            "image/png": "[encoded data removed]"
          },
          "metadata": {}
        }
      ]
    },
    {
      "cell_type": "markdown",
      "source": [
        "## Evaluate on Test Set"
      ],
      "metadata": {
        "id": "vsCj2BRn01hf"
      }
    },
    {
      "cell_type": "markdown",
      "source": [
        "### Obtain Metrics"
      ],
      "metadata": {
        "id": "ijdgZdpYbP02"
      }
    },
    {
      "cell_type": "code",
      "source": [
        "# evaluate test dataset\n",
        "score_accuracy, score_precision, score_recall, score_f1, bcm = get_model_metrics(custom_model, test_dataloader)"
      ],
      "metadata": {
        "id": "Rvi3VS8R01hf",
        "colab": {
          "base_uri": "https://localhost:8080/"
        },
        "outputId": "bab711d3-d791-4c16-bd6f-8d9491420ef3"
      },
      "execution_count": 28,
      "outputs": [
        {
          "output_type": "stream",
          "name": "stderr",
          "text": [
            "Obtaining Metrics: 100%|██████████| 1134/1134 [09:16<00:00,  2.04it/s]"
          ]
        },
        {
          "output_type": "stream",
          "name": "stdout",
          "text": [
            "\n",
            "\n",
            "Binary Accuracy: 94.14%\n",
            "Binary Precision: 93.98%\n",
            "Binary Recall: 94.31%\n",
            "Binary F1 Score: 94.15%\n",
            "\n",
            "Binary Confusion Matrix:\n",
            " tensor([[17048.,  1096.],\n",
            "        [ 1032., 17112.]], device='cuda:0')\n",
            "\n",
            "True Positive: 17048\n",
            "False Negative: 1096\n",
            "False Positive: 1032\n",
            "True Negative: 17112\n"
          ]
        },
        {
          "output_type": "stream",
          "name": "stderr",
          "text": [
            "\n"
          ]
        }
      ]
    },
    {
      "cell_type": "markdown",
      "source": [
        "### Build Confusion Matrix"
      ],
      "metadata": {
        "id": "_EVJKjNNbRRS"
      }
    },
    {
      "cell_type": "code",
      "source": [
        "# combine values with text for annotations\n",
        "tp = str(bcm[0][0].int().item()) + '\\nTP'\n",
        "fn = str(bcm[0][1].int().item()) + '\\nFN'\n",
        "fp = str(bcm[1][0].int().item()) + '\\nFP'\n",
        "tn = str(bcm[1][1].int().item()) + '\\nTN'\n",
        "\n",
        "# create array with annotations\n",
        "bcm_annot = np.array([tp, fn, fp, tn]).reshape((2,2))\n",
        "\n",
        "# build and display confusion matrix\n",
        "plt.figure(figsize = (12,10))\n",
        "sns.heatmap(data=bcm.cpu(), annot=bcm_annot, annot_kws={'fontsize': 35, 'fontweight': 'heavy'}, fmt='', linewidths=2, linecolor='white', cmap='coolwarm')\n",
        "plt.title('Confusion Matrix - Test Dataset', y=1.05, fontsize=20)\n",
        "plt.xlabel('Predicted', fontsize=16)\n",
        "plt.ylabel('Actual', fontsize=16)\n",
        "plt.xticks(ticks=[0.5, 1.5],labels=['1', '0'], fontsize=14)\n",
        "plt.yticks(ticks=[0.5, 1.5],labels=['1', '0'], fontsize=14)\n",
        "plt.show()"
      ],
      "metadata": {
        "colab": {
          "base_uri": "https://localhost:8080/",
          "height": 930
        },
        "id": "oR2ipddBbRRS",
        "outputId": "d2a4c564-ac37-4754-9a6c-3ad3f13951d3"
      },
      "execution_count": 29,
      "outputs": [
        {
          "output_type": "display_data",
          "data": {
            "text/plain": [
              "<Figure size 1200x1000 with 2 Axes>"
            ],
            "image/png": "[encoded data removed]"
          },
          "metadata": {}
        }
      ]
    }
  ]
}